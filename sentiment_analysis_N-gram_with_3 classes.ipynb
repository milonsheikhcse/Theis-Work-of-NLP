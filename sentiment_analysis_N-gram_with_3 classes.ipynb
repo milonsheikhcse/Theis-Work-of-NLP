{
 "cells": [
  {
   "cell_type": "code",
   "execution_count": 1,
   "metadata": {
    "colab": {},
    "colab_type": "code",
    "id": "hauMJQrZ4aIU"
   },
   "outputs": [
    {
     "name": "stderr",
     "output_type": "stream",
     "text": [
      "[nltk_data] Downloading package stopwords to\n",
      "[nltk_data]     C:\\Users\\milon\\AppData\\Roaming\\nltk_data...\n",
      "[nltk_data]   Unzipping corpora\\stopwords.zip.\n",
      "[nltk_data] Downloading package wordnet to\n",
      "[nltk_data]     C:\\Users\\milon\\AppData\\Roaming\\nltk_data...\n",
      "[nltk_data]   Package wordnet is already up-to-date!\n",
      "[nltk_data] Downloading package punkt to\n",
      "[nltk_data]     C:\\Users\\milon\\AppData\\Roaming\\nltk_data...\n",
      "[nltk_data]   Package punkt is already up-to-date!\n"
     ]
    }
   ],
   "source": [
    "import pandas as pd\n",
    "import numpy as np\n",
    "import matplotlib.pyplot as plt\n",
    "import seaborn as sns\n",
    "import re\n",
    "import nltk\n",
    "from nltk.corpus import stopwords\n",
    "nltk.download('stopwords')\n",
    "from nltk.stem import PorterStemmer\n",
    "from nltk.stem import WordNetLemmatizer\n",
    "nltk.download('wordnet')\n",
    "from nltk.tokenize import word_tokenize\n",
    "from nltk.tokenize import sent_tokenize\n",
    "nltk.download('punkt')\n",
    "#from wordcloud import WordCloud\n",
    "from sklearn.feature_extraction.text import CountVectorizer\n",
    "from sklearn.feature_extraction.text import TfidfVectorizer\n",
    "from sklearn.model_selection import train_test_split\n",
    "from sklearn.metrics import accuracy_score\n",
    "from sklearn.metrics import confusion_matrix\n",
    "from sklearn.metrics import classification_report\n",
    "from sklearn.metrics import make_scorer, roc_curve, roc_auc_score\n",
    "from sklearn.metrics import precision_recall_fscore_support as score\n",
    "from sklearn.metrics.pairwise import cosine_similarity\n",
    "from sklearn.multiclass import OneVsRestClassifier\n",
    "from sklearn.linear_model import LogisticRegression\n",
    "from sklearn.svm import SVC, LinearSVC\n",
    "from sklearn.tree import DecisionTreeClassifier\n",
    "from sklearn.ensemble import RandomForestClassifier\n",
    "from sklearn.neighbors import KNeighborsClassifier\n",
    "from sklearn.naive_bayes import GaussianNB,MultinomialNB,BernoulliNB\n",
    "from sklearn.datasets import make_hastie_10_2\n",
    "from sklearn.ensemble import GradientBoostingClassifier"
   ]
  },
  {
   "cell_type": "markdown",
   "metadata": {
    "colab_type": "text",
    "id": "8fowsr_BdpNO"
   },
   "source": [
    "# Libraries"
   ]
  },
  {
   "cell_type": "code",
   "execution_count": 2,
   "metadata": {
    "colab": {},
    "colab_type": "code",
    "executionInfo": {
     "elapsed": 940,
     "status": "ok",
     "timestamp": 1596397382606,
     "user": {
      "displayName": "EFTEKHAR HOSSAIN 1308006",
      "photoUrl": "https://lh3.googleusercontent.com/a-/AOh14GhB_S2SahlIoGyzj581ugCWrrC6Yl1l6BBILkt0=s64",
      "userId": "05840817180100570187"
     },
     "user_tz": -360
    },
    "id": "IT-FRKrbdrqz"
   },
   "outputs": [],
   "source": [
    "import numpy as np\n",
    "import pandas as pd\n",
    "import matplotlib.pyplot as plt\n",
    "%matplotlib inline\n",
    "import seaborn as sns\n",
    "import re,json,nltk\n",
    "from sklearn.preprocessing import LabelEncoder\n",
    "from sklearn.feature_extraction.text import TfidfVectorizer\n",
    "from sklearn.model_selection import train_test_split\n",
    "from sklearn.metrics import classification_report,accuracy_score,precision_score,recall_score,f1_score\n",
    "from tensorflow.keras.preprocessing.text import Tokenizer\n",
    "path ='C:/Users/milon/Desktop/nlp6/' \n",
    "stopwords_list = path+'bangla_stopwords.txt'\n"
   ]
  },
  {
   "cell_type": "markdown",
   "metadata": {
    "colab_type": "text",
    "id": "LbFfm0MPeG4Y"
   },
   "source": [
    "# Dataset Preparation"
   ]
  },
  {
   "cell_type": "code",
   "execution_count": 3,
   "metadata": {
    "colab": {
     "base_uri": "https://localhost:8080/",
     "height": 126
    },
    "colab_type": "code",
    "executionInfo": {
     "elapsed": 3332,
     "status": "ok",
     "timestamp": 1596395797009,
     "user": {
      "displayName": "EFTEKHAR HOSSAIN 1308006",
      "photoUrl": "https://lh3.googleusercontent.com/a-/AOh14GhB_S2SahlIoGyzj581ugCWrrC6Yl1l6BBILkt0=s64",
      "userId": "05840817180100570187"
     },
     "user_tz": -360
    },
    "id": "mGjQAUYxeKqv",
    "outputId": "f9a931bb-f61b-484a-fd3c-920e7f38598a"
   },
   "outputs": [
    {
     "name": "stdout",
     "output_type": "stream",
     "text": [
      "Total Reviews: 15538 \n",
      "Total happy Reviews: 5412 \n",
      "Total love Reviews: 1315 \n",
      "Total Reviews: 1951 \n",
      "Total anger Reviews: 2165 \n",
      "Total sadness Reviews: 4695\n"
     ]
    }
   ],
   "source": [
    "# Read the data and take only 1000 Reviews\n",
    "data = pd.read_csv(path+'comment_15000.csv')\n",
    "print(\"Total Reviews:\",len(data),\n",
    "      \"\\nTotal happy Reviews:\",len(data[data.Tag =='happy']),\n",
    "      \"\\nTotal love Reviews:\",len(data[data.Tag=='love']),\n",
    "      \"\\nTotal Reviews:\",len(data[data.Tag=='fear']),\n",
    "      \"\\nTotal anger Reviews:\",len(data[data.Tag=='anger']),\n",
    "      \"\\nTotal sadness Reviews:\",len(data[data.Tag=='sadness']))"
   ]
  },
  {
   "cell_type": "code",
   "execution_count": 4,
   "metadata": {
    "colab": {
     "base_uri": "https://localhost:8080/",
     "height": 332
    },
    "colab_type": "code",
    "executionInfo": {
     "elapsed": 1166,
     "status": "ok",
     "timestamp": 1596396692460,
     "user": {
      "displayName": "EFTEKHAR HOSSAIN 1308006",
      "photoUrl": "https://lh3.googleusercontent.com/a-/AOh14GhB_S2SahlIoGyzj581ugCWrrC6Yl1l6BBILkt0=s64",
      "userId": "05840817180100570187"
     },
     "user_tz": -360
    },
    "id": "0LuAApeNmsF_",
    "outputId": "c92704d1-48ed-4bb2-d484-987b5ea22d49"
   },
   "outputs": [
    {
     "data": {
      "image/png": "[encoded data removed]",
      "text/plain": [
       "<Figure size 432x288 with 1 Axes>"
      ]
     },
     "metadata": {},
     "output_type": "display_data"
    }
   ],
   "source": [
    "sns.set(font_scale=1.4)\n",
    "data['Tag'].value_counts().plot(kind='barh', figsize=(6, 4))\n",
    "plt.xlabel(\"Number of Comments\", labelpad=12)\n",
    "plt.ylabel(\"Sentiment Class\", labelpad=12)\n",
    "plt.yticks(rotation = 45)\n",
    "plt.title(\"Dataset Distribution\", y=1.02);"
   ]
  },
  {
   "cell_type": "code",
   "execution_count": 5,
   "metadata": {
    "colab": {
     "base_uri": "https://localhost:8080/",
     "height": 910
    },
    "colab_type": "code",
    "executionInfo": {
     "elapsed": 1411,
     "status": "ok",
     "timestamp": 1596063446791,
     "user": {
      "displayName": "EFTEKHAR HOSSAIN 1308006",
      "photoUrl": "https://lh3.googleusercontent.com/a-/AOh14GhB_S2SahlIoGyzj581ugCWrrC6Yl1l6BBILkt0=s64",
      "userId": "05840817180100570187"
     },
     "user_tz": -360
    },
    "id": "B_cQb9MOfIb4",
    "outputId": "6b89ebf6-3df8-4137-edc2-131631a89272"
   },
   "outputs": [
    {
     "name": "stdout",
     "output_type": "stream",
     "text": [
      "আমি অনুভব করি যে দৌড়ানো একটি ঐশ্বরিক অভিজ্ঞতা এবং আমি কিছু ধরণের আধ্যাত্মিক মুখোমুখি হওয়ার আশা করতে পারি। \n",
      " Sentiment:--  happy \n",
      "\n",
      "আমি বলতে চাচ্ছি যে উশুতে এত উচ্চ প্রযুক্তিগত দক্ষতা অর্জনের জন্য সত্যিই কঠোর পরিশ্রম কিছুটা লজ্জা বোধ করছি কিন্তু একরকম অনুপ্রাণিত হয়েছি যখন আমি দেখলাম বাচ্চারা তাদের ক্লান্তি থাকা সত্ত্বেও আন্তরিকভাবে উশু পারফরম্যান্স করছে। \n",
      " Sentiment:--  sadness \n",
      "\n",
      "আমি অনুভব করি যে , আমি পথপ্রপাত এবং পাহাড়ে হাঁটা এবং দৌড়ানোর দুর্দান্ত জগতের দরজায় পা রেখেছি। \n",
      " Sentiment:--  happy \n",
      "\n",
      "আমি যখন সেই অধ্যায়গুলো পড়ি তখন আমি তার জন্য হতাশ বোধ করি \n",
      " Sentiment:--  anger \n",
      "\n",
      "আমি দুই বছর ধরে অস্ট্রেলিয়ার খোলা মাঠে সূর্যালোক ভরা দিন কাটাতে দেখিনি, তারপরে চায়নাটাউনে ডাম্পলিংস এবং একটি বিয়ার বাগানে একটি লেমোনেড দেখে মনে হচ্ছে যেন আমি ব্রান্সউইকের রাস্তায় বৃথা পরিশ্রমের সময় পিছনের উঠোনের বারবিকিউতে অংশ নিয়ে এবং পরিদর্শন করেছিলাম অসি দিবসের জন্য এডিনবার্গ বাগান \n",
      " Sentiment:--  sadness \n",
      "\n",
      "আমি এই পুনর্নির্মাণকৃত অফিসে আরও স্বাচ্ছন্দ্য বোধ করছি, আমি এর চমৎকার সুবিধার জন্য অনেক কৃতজ্ঞতা অনুভব করছি \n",
      " Sentiment:--  happy \n",
      "\n",
      "আমি আমার অনুভূতি অস্বীকার করেছি amp দাবি করেছে যে আমরা যা ছিলাম তার চেয়ে কম ছিলাম কারণ আমি নতুন কিছুতে ঝাঁপ দিতে দ্বিধা বোধ করছিলাম \n",
      " Sentiment:--  fear \n",
      "\n",
      "আমি জানি না এটি কীভাবে কাজ করে তবে ঐশ্বরিক সহায়তার জন্য জিজ্ঞাসা করা অবশ্যই আমাদের আরও করুণ বোধ করে এমনকি যখন আমাদের পরিস্থিতি একই থাকে \n",
      " Sentiment:--  happy \n",
      "\n",
      "আমি সম্পূর্ণভাবে আবেগগতভাবে ক্লান্ত বোধ করছি এবং আমার পরিচিত প্রতিটি মানুষের সাথে আমাকে সমস্ত সম্পর্ক ছিন্ন করতে হবে \n",
      " Sentiment:--  sadness \n",
      "\n",
      "আমার মনে হচ্ছে ডেভিড একজন দুর্দান্ত বাবা হতে চলেছেন তিনি ইতিমধ্যেই তার নবজাতক পুত্রকে গীকের জগতে প্রকাশ করেছেন \n",
      " Sentiment:--  happy \n",
      "\n",
      "যখন স্নাতকোত্তর ডিগ্রি পড়ার জন্য আমার আবেদন গৃহীত হয়েছিল \n",
      " Sentiment:--  happy \n",
      "\n",
      "আমি আমার ব্যথা হাড়ে এটা অনুভব করতে পারি \n",
      " Sentiment:--  sadness \n",
      "\n",
      "আমি যখন শিল্প তৈরি না করে কয়েক দিনের জন্য চলে যাই তখন আমি কিছুটা খটকা অনুভব করি \n",
      " Sentiment:--  anger \n",
      "\n",
      "আমি বিস্ময়কর অনুভব করছি কারণ আমি আকু মেরাসা লুয়ার বিয়াসা করেনা কুলিহাট তোমার চোখে প্রেমের আলো দেখতে পাচ্ছি \n",
      " Sentiment:--  happy \n",
      "\n",
      "আমি এমন একজন লোকের দ্বারা সম্মানিত বোধ করতে চাই যার সাথে আমি নির্যাতিত নই \n",
      " Sentiment:--  happy \n",
      "\n",
      "আমি এই মুহূর্তে মৃত্যুর কথা ভাবছি এবং সত্যিই দুঃখ বোধ করছি কারণ আমার প্রিয় চাচা শন মারা গেছেন \n",
      " Sentiment:--  sadness \n",
      "\n"
     ]
    }
   ],
   "source": [
    "# print some unprocessed reviews\n",
    "sample_data = [10,100,150,2000,2500,4000,4500,5000,6000,6500,6660,6899,6400,7000,7500,8000]\n",
    "for i in sample_data:\n",
    "      print(data.Comment[i],'\\n','Sentiment:-- ',data.Tag[i],'\\n')  "
   ]
  },
  {
   "cell_type": "code",
   "execution_count": null,
   "metadata": {},
   "outputs": [],
   "source": []
  },
  {
   "cell_type": "markdown",
   "metadata": {
    "colab_type": "text",
    "id": "P_9Dt_CRfdez"
   },
   "source": [
    "# Data Cleaning"
   ]
  },
  {
   "cell_type": "code",
   "execution_count": 6,
   "metadata": {
    "colab": {},
    "colab_type": "code",
    "executionInfo": {
     "elapsed": 942,
     "status": "ok",
     "timestamp": 1596396629556,
     "user": {
      "displayName": "EFTEKHAR HOSSAIN 1308006",
      "photoUrl": "https://lh3.googleusercontent.com/a-/AOh14GhB_S2SahlIoGyzj581ugCWrrC6Yl1l6BBILkt0=s64",
      "userId": "05840817180100570187"
     },
     "user_tz": -360
    },
    "id": "8-fQhDVnffoX"
   },
   "outputs": [],
   "source": [
    "# Data cleaning function\n",
    "def process_comments(comment): \n",
    "    comment = re.sub('[^\\u0980-\\u09FF]',' ',str(comment)) #removing unnecessary punctuation\n",
    "    return comment"
   ]
  },
  {
   "cell_type": "code",
   "execution_count": 7,
   "metadata": {
    "colab": {
     "base_uri": "https://localhost:8080/",
     "height": 1000
    },
    "colab_type": "code",
    "executionInfo": {
     "elapsed": 901,
     "status": "ok",
     "timestamp": 1596396653679,
     "user": {
      "displayName": "EFTEKHAR HOSSAIN 1308006",
      "photoUrl": "https://lh3.googleusercontent.com/a-/AOh14GhB_S2SahlIoGyzj581ugCWrrC6Yl1l6BBILkt0=s64",
      "userId": "05840817180100570187"
     },
     "user_tz": -360
    },
    "id": "5VSrSJ1zgPTv",
    "outputId": "219588fa-ae9d-4af4-afe9-e0679a40e3c1"
   },
   "outputs": [
    {
     "name": "stdout",
     "output_type": "stream",
     "text": [
      "Original:\n",
      " আমি অনুভব করি যে দৌড়ানো একটি ঐশ্বরিক অভিজ্ঞতা এবং আমি কিছু ধরণের আধ্যাত্মিক মুখোমুখি হওয়ার আশা করতে পারি। \n",
      "Cleaned:\n",
      " আমি অনুভব করি যে দৌড়ানো একটি ঐশ্বরিক অভিজ্ঞতা এবং আমি কিছু ধরণের আধ্যাত্মিক মুখোমুখি হওয়ার আশা করতে পারি  \n",
      " Sentiment:--  happy \n",
      "\n",
      "Original:\n",
      " আমি বলতে চাচ্ছি যে উশুতে এত উচ্চ প্রযুক্তিগত দক্ষতা অর্জনের জন্য সত্যিই কঠোর পরিশ্রম কিছুটা লজ্জা বোধ করছি কিন্তু একরকম অনুপ্রাণিত হয়েছি যখন আমি দেখলাম বাচ্চারা তাদের ক্লান্তি থাকা সত্ত্বেও আন্তরিকভাবে উশু পারফরম্যান্স করছে। \n",
      "Cleaned:\n",
      " আমি বলতে চাচ্ছি যে উশুতে এত উচ্চ প্রযুক্তিগত দক্ষতা অর্জনের জন্য সত্যিই কঠোর পরিশ্রম কিছুটা লজ্জা বোধ করছি কিন্তু একরকম অনুপ্রাণিত হয়েছি যখন আমি দেখলাম বাচ্চারা তাদের ক্লান্তি থাকা সত্ত্বেও আন্তরিকভাবে উশু পারফরম্যান্স করছে  \n",
      " Sentiment:--  sadness \n",
      "\n",
      "Original:\n",
      " আমি অনুভব করি যে , আমি পথপ্রপাত এবং পাহাড়ে হাঁটা এবং দৌড়ানোর দুর্দান্ত জগতের দরজায় পা রেখেছি। \n",
      "Cleaned:\n",
      " আমি অনুভব করি যে   আমি পথপ্রপাত এবং পাহাড়ে হাঁটা এবং দৌড়ানোর দুর্দান্ত জগতের দরজায় পা রেখেছি  \n",
      " Sentiment:--  happy \n",
      "\n",
      "Original:\n",
      " আমি যখন সেই অধ্যায়গুলো পড়ি তখন আমি তার জন্য হতাশ বোধ করি \n",
      "Cleaned:\n",
      " আমি যখন সেই অধ্যায়গুলো পড়ি তখন আমি তার জন্য হতাশ বোধ করি \n",
      " Sentiment:--  anger \n",
      "\n",
      "Original:\n",
      " আমি দুই বছর ধরে অস্ট্রেলিয়ার খোলা মাঠে সূর্যালোক ভরা দিন কাটাতে দেখিনি, তারপরে চায়নাটাউনে ডাম্পলিংস এবং একটি বিয়ার বাগানে একটি লেমোনেড দেখে মনে হচ্ছে যেন আমি ব্রান্সউইকের রাস্তায় বৃথা পরিশ্রমের সময় পিছনের উঠোনের বারবিকিউতে অংশ নিয়ে এবং পরিদর্শন করেছিলাম অসি দিবসের জন্য এডিনবার্গ বাগান \n",
      "Cleaned:\n",
      " আমি দুই বছর ধরে অস্ট্রেলিয়ার খোলা মাঠে সূর্যালোক ভরা দিন কাটাতে দেখিনি  তারপরে চায়নাটাউনে ডাম্পলিংস এবং একটি বিয়ার বাগানে একটি লেমোনেড দেখে মনে হচ্ছে যেন আমি ব্রান্সউইকের রাস্তায় বৃথা পরিশ্রমের সময় পিছনের উঠোনের বারবিকিউতে অংশ নিয়ে এবং পরিদর্শন করেছিলাম অসি দিবসের জন্য এডিনবার্গ বাগান \n",
      " Sentiment:--  sadness \n",
      "\n",
      "Original:\n",
      " আমি এই পুনর্নির্মাণকৃত অফিসে আরও স্বাচ্ছন্দ্য বোধ করছি, আমি এর চমৎকার সুবিধার জন্য অনেক কৃতজ্ঞতা অনুভব করছি \n",
      "Cleaned:\n",
      " আমি এই পুনর্নির্মাণকৃত অফিসে আরও স্বাচ্ছন্দ্য বোধ করছি  আমি এর চমৎকার সুবিধার জন্য অনেক কৃতজ্ঞতা অনুভব করছি \n",
      " Sentiment:--  happy \n",
      "\n",
      "Original:\n",
      " আমি আমার অনুভূতি অস্বীকার করেছি amp দাবি করেছে যে আমরা যা ছিলাম তার চেয়ে কম ছিলাম কারণ আমি নতুন কিছুতে ঝাঁপ দিতে দ্বিধা বোধ করছিলাম \n",
      "Cleaned:\n",
      " আমি আমার অনুভূতি অস্বীকার করেছি     দাবি করেছে যে আমরা যা ছিলাম তার চেয়ে কম ছিলাম কারণ আমি নতুন কিছুতে ঝাঁপ দিতে দ্বিধা বোধ করছিলাম \n",
      " Sentiment:--  fear \n",
      "\n",
      "Original:\n",
      " আমি জানি না এটি কীভাবে কাজ করে তবে ঐশ্বরিক সহায়তার জন্য জিজ্ঞাসা করা অবশ্যই আমাদের আরও করুণ বোধ করে এমনকি যখন আমাদের পরিস্থিতি একই থাকে \n",
      "Cleaned:\n",
      " আমি জানি না এটি কীভাবে কাজ করে তবে ঐশ্বরিক সহায়তার জন্য জিজ্ঞাসা করা অবশ্যই আমাদের আরও করুণ বোধ করে এমনকি যখন আমাদের পরিস্থিতি একই থাকে \n",
      " Sentiment:--  happy \n",
      "\n",
      "Original:\n",
      " আমি সম্পূর্ণভাবে আবেগগতভাবে ক্লান্ত বোধ করছি এবং আমার পরিচিত প্রতিটি মানুষের সাথে আমাকে সমস্ত সম্পর্ক ছিন্ন করতে হবে \n",
      "Cleaned:\n",
      " আমি সম্পূর্ণভাবে আবেগগতভাবে ক্লান্ত বোধ করছি এবং আমার পরিচিত প্রতিটি মানুষের সাথে আমাকে সমস্ত সম্পর্ক ছিন্ন করতে হবে \n",
      " Sentiment:--  sadness \n",
      "\n",
      "Original:\n",
      " আমার মনে হচ্ছে ডেভিড একজন দুর্দান্ত বাবা হতে চলেছেন তিনি ইতিমধ্যেই তার নবজাতক পুত্রকে গীকের জগতে প্রকাশ করেছেন \n",
      "Cleaned:\n",
      " আমার মনে হচ্ছে ডেভিড একজন দুর্দান্ত বাবা হতে চলেছেন তিনি ইতিমধ্যেই তার নবজাতক পুত্রকে গীকের জগতে প্রকাশ করেছেন \n",
      " Sentiment:--  happy \n",
      "\n",
      "Original:\n",
      " যখন স্নাতকোত্তর ডিগ্রি পড়ার জন্য আমার আবেদন গৃহীত হয়েছিল \n",
      "Cleaned:\n",
      " যখন স্নাতকোত্তর ডিগ্রি পড়ার জন্য আমার আবেদন গৃহীত হয়েছিল \n",
      " Sentiment:--  happy \n",
      "\n",
      "Original:\n",
      " আমি আমার ব্যথা হাড়ে এটা অনুভব করতে পারি \n",
      "Cleaned:\n",
      " আমি আমার ব্যথা হাড়ে এটা অনুভব করতে পারি \n",
      " Sentiment:--  sadness \n",
      "\n",
      "Original:\n",
      " আমি যখন শিল্প তৈরি না করে কয়েক দিনের জন্য চলে যাই তখন আমি কিছুটা খটকা অনুভব করি \n",
      "Cleaned:\n",
      " আমি যখন শিল্প তৈরি না করে কয়েক দিনের জন্য চলে যাই তখন আমি কিছুটা খটকা অনুভব করি \n",
      " Sentiment:--  anger \n",
      "\n",
      "Original:\n",
      " আমি বিস্ময়কর অনুভব করছি কারণ আমি আকু মেরাসা লুয়ার বিয়াসা করেনা কুলিহাট তোমার চোখে প্রেমের আলো দেখতে পাচ্ছি \n",
      "Cleaned:\n",
      " আমি বিস্ময়কর অনুভব করছি কারণ আমি আকু মেরাসা লুয়ার বিয়াসা করেনা কুলিহাট তোমার চোখে প্রেমের আলো দেখতে পাচ্ছি \n",
      " Sentiment:--  happy \n",
      "\n",
      "Original:\n",
      " আমি এমন একজন লোকের দ্বারা সম্মানিত বোধ করতে চাই যার সাথে আমি নির্যাতিত নই \n",
      "Cleaned:\n",
      " আমি এমন একজন লোকের দ্বারা সম্মানিত বোধ করতে চাই যার সাথে আমি নির্যাতিত নই \n",
      " Sentiment:--  happy \n",
      "\n",
      "Original:\n",
      " আমি এই মুহূর্তে মৃত্যুর কথা ভাবছি এবং সত্যিই দুঃখ বোধ করছি কারণ আমার প্রিয় চাচা শন মারা গেছেন \n",
      "Cleaned:\n",
      " আমি এই মুহূর্তে মৃত্যুর কথা ভাবছি এবং সত্যিই দুঃখ বোধ করছি কারণ আমার প্রিয় চাচা শন মারা গেছেন \n",
      " Sentiment:--  sadness \n",
      "\n"
     ]
    }
   ],
   "source": [
    "# Apply the function into the dataframe\n",
    "data['cleaned'] = data['Comment'].apply(process_comments)  \n",
    "\n",
    "# print some cleaned reviews from the dataset\n",
    "sample_data = [10,100,150,2000,2500,4000,4500,5000,6000,6500,6660,6899,6400,7000,7500,8000]\n",
    "for i in sample_data:\n",
    "     print('Original:\\n',data.Comment[i],'\\nCleaned:\\n',\n",
    "           data.cleaned[i],'\\n','Sentiment:-- ',data.Tag[i],'\\n')"
   ]
  },
  {
   "cell_type": "markdown",
   "metadata": {},
   "source": [
    "# Preprocessing"
   ]
  },
  {
   "cell_type": "markdown",
   "metadata": {},
   "source": [
    "## token"
   ]
  },
  {
   "cell_type": "code",
   "execution_count": 8,
   "metadata": {},
   "outputs": [
    {
     "name": "stderr",
     "output_type": "stream",
     "text": [
      "C:\\Users\\milon\\anaconda3\\lib\\site-packages\\gensim\\similarities\\__init__.py:15: UserWarning: The gensim.similarities.levenshtein submodule is disabled, because the optional Levenshtein package <https://pypi.org/project/python-Levenshtein/> is unavailable. Install Levenhstein (e.g. `pip install python-Levenshtein`) to suppress this warning.\n",
      "  warnings.warn(msg)\n"
     ]
    },
    {
     "data": {
      "text/html": [
       "<div>\n",
       "<style scoped>\n",
       "    .dataframe tbody tr th:only-of-type {\n",
       "        vertical-align: middle;\n",
       "    }\n",
       "\n",
       "    .dataframe tbody tr th {\n",
       "        vertical-align: top;\n",
       "    }\n",
       "\n",
       "    .dataframe thead th {\n",
       "        text-align: right;\n",
       "    }\n",
       "</style>\n",
       "<table border=\"1\" class=\"dataframe\">\n",
       "  <thead>\n",
       "    <tr style=\"text-align: right;\">\n",
       "      <th></th>\n",
       "      <th>Comment</th>\n",
       "      <th>Tag</th>\n",
       "      <th>cleaned</th>\n",
       "      <th>msg_clean_word_tokenize</th>\n",
       "    </tr>\n",
       "  </thead>\n",
       "  <tbody>\n",
       "    <tr>\n",
       "      <th>0</th>\n",
       "      <td>আমি অপমানিত বোধ করি।</td>\n",
       "      <td>sadness</td>\n",
       "      <td>আমি অপমানিত বোধ করি</td>\n",
       "      <td>[আমি, অপমানিত, বোধ, করি]</td>\n",
       "    </tr>\n",
       "    <tr>\n",
       "      <th>1</th>\n",
       "      <td>আমি খুব নিরাশ বোধ থেকে খুব অভিশপ্ত আশাবাদী হতে...</td>\n",
       "      <td>sadness</td>\n",
       "      <td>আমি খুব নিরাশ বোধ থেকে খুব অভিশপ্ত আশাবাদী হতে...</td>\n",
       "      <td>[আমি, খুব, নিরাশ, বোধ, থেকে, খুব, অভিশপ্ত, আশা...</td>\n",
       "    </tr>\n",
       "    <tr>\n",
       "      <th>2</th>\n",
       "      <td>আমি পোস্ট করার জন্য একটি মিনিট ধরছি আমি লোভী ভ...</td>\n",
       "      <td>anger</td>\n",
       "      <td>আমি পোস্ট করার জন্য একটি মিনিট ধরছি আমি লোভী ভ...</td>\n",
       "      <td>[আমি, পোস্ট, করার, জন্য, একটি, মিনিট, ধরছি, আম...</td>\n",
       "    </tr>\n",
       "    <tr>\n",
       "      <th>3</th>\n",
       "      <td>আমি কখনও অগ্নিকুণ্ড সম্পর্কে নস্টালজিক বোধ করছ...</td>\n",
       "      <td>sadness</td>\n",
       "      <td>আমি কখনও অগ্নিকুণ্ড সম্পর্কে নস্টালজিক বোধ করছ...</td>\n",
       "      <td>[আমি, কখনও, অগ্নিকুণ্ড, সম্পর্কে, নস্টালজিক, ব...</td>\n",
       "    </tr>\n",
       "    <tr>\n",
       "      <th>4</th>\n",
       "      <td>আমি অস্থির বোধ করছি</td>\n",
       "      <td>anger</td>\n",
       "      <td>আমি অস্থির বোধ করছি</td>\n",
       "      <td>[আমি, অস্থির, বোধ, করছি]</td>\n",
       "    </tr>\n",
       "  </tbody>\n",
       "</table>\n",
       "</div>"
      ],
      "text/plain": [
       "                                             Comment      Tag  \\\n",
       "0                               আমি অপমানিত বোধ করি।  sadness   \n",
       "1  আমি খুব নিরাশ বোধ থেকে খুব অভিশপ্ত আশাবাদী হতে...  sadness   \n",
       "2  আমি পোস্ট করার জন্য একটি মিনিট ধরছি আমি লোভী ভ...    anger   \n",
       "3  আমি কখনও অগ্নিকুণ্ড সম্পর্কে নস্টালজিক বোধ করছ...  sadness   \n",
       "4                                আমি অস্থির বোধ করছি    anger   \n",
       "\n",
       "                                             cleaned  \\\n",
       "0                               আমি অপমানিত বোধ করি    \n",
       "1  আমি খুব নিরাশ বোধ থেকে খুব অভিশপ্ত আশাবাদী হতে...   \n",
       "2  আমি পোস্ট করার জন্য একটি মিনিট ধরছি আমি লোভী ভ...   \n",
       "3  আমি কখনও অগ্নিকুণ্ড সম্পর্কে নস্টালজিক বোধ করছ...   \n",
       "4                                আমি অস্থির বোধ করছি   \n",
       "\n",
       "                             msg_clean_word_tokenize  \n",
       "0                           [আমি, অপমানিত, বোধ, করি]  \n",
       "1  [আমি, খুব, নিরাশ, বোধ, থেকে, খুব, অভিশপ্ত, আশা...  \n",
       "2  [আমি, পোস্ট, করার, জন্য, একটি, মিনিট, ধরছি, আম...  \n",
       "3  [আমি, কখনও, অগ্নিকুণ্ড, সম্পর্কে, নস্টালজিক, ব...  \n",
       "4                           [আমি, অস্থির, বোধ, করছি]  "
      ]
     },
     "execution_count": 8,
     "metadata": {},
     "output_type": "execute_result"
    }
   ],
   "source": [
    "from bnlp import NLTKTokenizer\n",
    "\n",
    "bnltk = NLTKTokenizer()\n",
    "\n",
    "# text = \"আমি ভাত খাই। সে বাজারে যায়। তিনি কি সত্যিই ভালো মানুষ?\"\n",
    "\n",
    "# word_tokens = bnltk.word_tokenize(text)\n",
    "# sentence_tokens = bnltk.sentence_tokenize(text)\n",
    "# print(word_tokens)\n",
    "# print(sentence_tokens)\n",
    "\n",
    "data['msg_clean_word_tokenize'] = data['cleaned'].apply(lambda x: bnltk.word_tokenize(x.lower()))\n",
    "data.head()\n"
   ]
  },
  {
   "cell_type": "code",
   "execution_count": 10,
   "metadata": {},
   "outputs": [
    {
     "data": {
      "text/html": [
       "<div>\n",
       "<style scoped>\n",
       "    .dataframe tbody tr th:only-of-type {\n",
       "        vertical-align: middle;\n",
       "    }\n",
       "\n",
       "    .dataframe tbody tr th {\n",
       "        vertical-align: top;\n",
       "    }\n",
       "\n",
       "    .dataframe thead th {\n",
       "        text-align: right;\n",
       "    }\n",
       "</style>\n",
       "<table border=\"1\" class=\"dataframe\">\n",
       "  <thead>\n",
       "    <tr style=\"text-align: right;\">\n",
       "      <th></th>\n",
       "      <th>Comment</th>\n",
       "      <th>Tag</th>\n",
       "      <th>cleaned</th>\n",
       "      <th>msg_clean_word_tokenize</th>\n",
       "      <th>msg_no_sw</th>\n",
       "    </tr>\n",
       "  </thead>\n",
       "  <tbody>\n",
       "    <tr>\n",
       "      <th>0</th>\n",
       "      <td>আমি অপমানিত বোধ করি।</td>\n",
       "      <td>sadness</td>\n",
       "      <td>আমি অপমানিত বোধ করি</td>\n",
       "      <td>[আমি, অপমানিত, বোধ, করি]</td>\n",
       "      <td>[অপমানিত, বোধ]</td>\n",
       "    </tr>\n",
       "    <tr>\n",
       "      <th>1</th>\n",
       "      <td>আমি খুব নিরাশ বোধ থেকে খুব অভিশপ্ত আশাবাদী হতে...</td>\n",
       "      <td>sadness</td>\n",
       "      <td>আমি খুব নিরাশ বোধ থেকে খুব অভিশপ্ত আশাবাদী হতে...</td>\n",
       "      <td>[আমি, খুব, নিরাশ, বোধ, থেকে, খুব, অভিশপ্ত, আশা...</td>\n",
       "      <td>[নিরাশ, বোধ, অভিশপ্ত, আশাবাদী, শুধুমাত্র, যত্ন...</td>\n",
       "    </tr>\n",
       "    <tr>\n",
       "      <th>2</th>\n",
       "      <td>আমি পোস্ট করার জন্য একটি মিনিট ধরছি আমি লোভী ভ...</td>\n",
       "      <td>anger</td>\n",
       "      <td>আমি পোস্ট করার জন্য একটি মিনিট ধরছি আমি লোভী ভ...</td>\n",
       "      <td>[আমি, পোস্ট, করার, জন্য, একটি, মিনিট, ধরছি, আম...</td>\n",
       "      <td>[পোস্ট, মিনিট, ধরছি, লোভী, ভুল, বোধ, করছি]</td>\n",
       "    </tr>\n",
       "    <tr>\n",
       "      <th>3</th>\n",
       "      <td>আমি কখনও অগ্নিকুণ্ড সম্পর্কে নস্টালজিক বোধ করছ...</td>\n",
       "      <td>sadness</td>\n",
       "      <td>আমি কখনও অগ্নিকুণ্ড সম্পর্কে নস্টালজিক বোধ করছ...</td>\n",
       "      <td>[আমি, কখনও, অগ্নিকুণ্ড, সম্পর্কে, নস্টালজিক, ব...</td>\n",
       "      <td>[অগ্নিকুণ্ড, সম্পর্কে, নস্টালজিক, বোধ, করছি, জ...</td>\n",
       "    </tr>\n",
       "    <tr>\n",
       "      <th>4</th>\n",
       "      <td>আমি অস্থির বোধ করছি</td>\n",
       "      <td>anger</td>\n",
       "      <td>আমি অস্থির বোধ করছি</td>\n",
       "      <td>[আমি, অস্থির, বোধ, করছি]</td>\n",
       "      <td>[অস্থির, বোধ, করছি]</td>\n",
       "    </tr>\n",
       "  </tbody>\n",
       "</table>\n",
       "</div>"
      ],
      "text/plain": [
       "                                             Comment      Tag  \\\n",
       "0                               আমি অপমানিত বোধ করি।  sadness   \n",
       "1  আমি খুব নিরাশ বোধ থেকে খুব অভিশপ্ত আশাবাদী হতে...  sadness   \n",
       "2  আমি পোস্ট করার জন্য একটি মিনিট ধরছি আমি লোভী ভ...    anger   \n",
       "3  আমি কখনও অগ্নিকুণ্ড সম্পর্কে নস্টালজিক বোধ করছ...  sadness   \n",
       "4                                আমি অস্থির বোধ করছি    anger   \n",
       "\n",
       "                                             cleaned  \\\n",
       "0                               আমি অপমানিত বোধ করি    \n",
       "1  আমি খুব নিরাশ বোধ থেকে খুব অভিশপ্ত আশাবাদী হতে...   \n",
       "2  আমি পোস্ট করার জন্য একটি মিনিট ধরছি আমি লোভী ভ...   \n",
       "3  আমি কখনও অগ্নিকুণ্ড সম্পর্কে নস্টালজিক বোধ করছ...   \n",
       "4                                আমি অস্থির বোধ করছি   \n",
       "\n",
       "                             msg_clean_word_tokenize  \\\n",
       "0                           [আমি, অপমানিত, বোধ, করি]   \n",
       "1  [আমি, খুব, নিরাশ, বোধ, থেকে, খুব, অভিশপ্ত, আশা...   \n",
       "2  [আমি, পোস্ট, করার, জন্য, একটি, মিনিট, ধরছি, আম...   \n",
       "3  [আমি, কখনও, অগ্নিকুণ্ড, সম্পর্কে, নস্টালজিক, ব...   \n",
       "4                           [আমি, অস্থির, বোধ, করছি]   \n",
       "\n",
       "                                           msg_no_sw  \n",
       "0                                     [অপমানিত, বোধ]  \n",
       "1  [নিরাশ, বোধ, অভিশপ্ত, আশাবাদী, শুধুমাত্র, যত্ন...  \n",
       "2         [পোস্ট, মিনিট, ধরছি, লোভী, ভুল, বোধ, করছি]  \n",
       "3  [অগ্নিকুণ্ড, সম্পর্কে, নস্টালজিক, বোধ, করছি, জ...  \n",
       "4                                [অস্থির, বোধ, করছি]  "
      ]
     },
     "execution_count": 10,
     "metadata": {},
     "output_type": "execute_result"
    }
   ],
   "source": [
    "stopwords = nltk.corpus.stopwords.words('bengali')\n",
    "def remove_stopwords(txt_tokenized):\n",
    "    txt_clean = [word for word in txt_tokenized if word not in stopwords]\n",
    "    return txt_clean\n",
    "data['msg_no_sw'] = data['msg_clean_word_tokenize'].apply(lambda x: remove_stopwords(x)) # msg_no_sw = msg no stop word\n",
    "\n",
    "data.head()"
   ]
  },
  {
   "cell_type": "code",
   "execution_count": 11,
   "metadata": {
    "colab_type": "text",
    "id": "x_G4vHGsjyXt"
   },
   "outputs": [],
   "source": [
    "#import nltk\n",
    "from nltk.stem import PorterStemmer\n",
    "ps = PorterStemmer()\n",
    "\n",
    "def stemming(tokenized_text):\n",
    "    text = [ps.stem(word) for word in tokenized_text]\n",
    "    return text\n",
    "\n",
    "data['msg_stemmed'] = data['msg_no_sw'].apply(lambda x: stemming(x))\n",
    "\n"
   ]
  },
  {
   "cell_type": "code",
   "execution_count": 12,
   "metadata": {},
   "outputs": [
    {
     "data": {
      "text/html": [
       "<div>\n",
       "<style scoped>\n",
       "    .dataframe tbody tr th:only-of-type {\n",
       "        vertical-align: middle;\n",
       "    }\n",
       "\n",
       "    .dataframe tbody tr th {\n",
       "        vertical-align: top;\n",
       "    }\n",
       "\n",
       "    .dataframe thead th {\n",
       "        text-align: right;\n",
       "    }\n",
       "</style>\n",
       "<table border=\"1\" class=\"dataframe\">\n",
       "  <thead>\n",
       "    <tr style=\"text-align: right;\">\n",
       "      <th></th>\n",
       "      <th>Comment</th>\n",
       "      <th>Tag</th>\n",
       "      <th>cleaned</th>\n",
       "      <th>msg_clean_word_tokenize</th>\n",
       "      <th>msg_no_sw</th>\n",
       "      <th>msg_stemmed</th>\n",
       "    </tr>\n",
       "  </thead>\n",
       "  <tbody>\n",
       "    <tr>\n",
       "      <th>0</th>\n",
       "      <td>আমি অপমানিত বোধ করি।</td>\n",
       "      <td>sadness</td>\n",
       "      <td>আমি অপমানিত বোধ করি</td>\n",
       "      <td>[আমি, অপমানিত, বোধ, করি]</td>\n",
       "      <td>[অপমানিত, বোধ]</td>\n",
       "      <td>[অপমানিত, বোধ]</td>\n",
       "    </tr>\n",
       "    <tr>\n",
       "      <th>1</th>\n",
       "      <td>আমি খুব নিরাশ বোধ থেকে খুব অভিশপ্ত আশাবাদী হতে...</td>\n",
       "      <td>sadness</td>\n",
       "      <td>আমি খুব নিরাশ বোধ থেকে খুব অভিশপ্ত আশাবাদী হতে...</td>\n",
       "      <td>[আমি, খুব, নিরাশ, বোধ, থেকে, খুব, অভিশপ্ত, আশা...</td>\n",
       "      <td>[নিরাশ, বোধ, অভিশপ্ত, আশাবাদী, শুধুমাত্র, যত্ন...</td>\n",
       "      <td>[নিরাশ, বোধ, অভিশপ্ত, আশাবাদী, শুধুমাত্র, যত্ন...</td>\n",
       "    </tr>\n",
       "    <tr>\n",
       "      <th>2</th>\n",
       "      <td>আমি পোস্ট করার জন্য একটি মিনিট ধরছি আমি লোভী ভ...</td>\n",
       "      <td>anger</td>\n",
       "      <td>আমি পোস্ট করার জন্য একটি মিনিট ধরছি আমি লোভী ভ...</td>\n",
       "      <td>[আমি, পোস্ট, করার, জন্য, একটি, মিনিট, ধরছি, আম...</td>\n",
       "      <td>[পোস্ট, মিনিট, ধরছি, লোভী, ভুল, বোধ, করছি]</td>\n",
       "      <td>[পোস্ট, মিনিট, ধরছি, লোভী, ভুল, বোধ, করছি]</td>\n",
       "    </tr>\n",
       "    <tr>\n",
       "      <th>3</th>\n",
       "      <td>আমি কখনও অগ্নিকুণ্ড সম্পর্কে নস্টালজিক বোধ করছ...</td>\n",
       "      <td>sadness</td>\n",
       "      <td>আমি কখনও অগ্নিকুণ্ড সম্পর্কে নস্টালজিক বোধ করছ...</td>\n",
       "      <td>[আমি, কখনও, অগ্নিকুণ্ড, সম্পর্কে, নস্টালজিক, ব...</td>\n",
       "      <td>[অগ্নিকুণ্ড, সম্পর্কে, নস্টালজিক, বোধ, করছি, জ...</td>\n",
       "      <td>[অগ্নিকুণ্ড, সম্পর্কে, নস্টালজিক, বোধ, করছি, জ...</td>\n",
       "    </tr>\n",
       "    <tr>\n",
       "      <th>4</th>\n",
       "      <td>আমি অস্থির বোধ করছি</td>\n",
       "      <td>anger</td>\n",
       "      <td>আমি অস্থির বোধ করছি</td>\n",
       "      <td>[আমি, অস্থির, বোধ, করছি]</td>\n",
       "      <td>[অস্থির, বোধ, করছি]</td>\n",
       "      <td>[অস্থির, বোধ, করছি]</td>\n",
       "    </tr>\n",
       "    <tr>\n",
       "      <th>5</th>\n",
       "      <td>আমি ইদানীং কিছুটা বোঝা বোধ করছি কেন তা ছিল তা ...</td>\n",
       "      <td>sadness</td>\n",
       "      <td>আমি ইদানীং কিছুটা বোঝা বোধ করছি কেন তা ছিল তা ...</td>\n",
       "      <td>[আমি, ইদানীং, কিছুটা, বোঝা, বোধ, করছি, কেন, তা...</td>\n",
       "      <td>[ইদানীং, কিছুটা, বোঝা, বোধ, করছি, নিশ্চিত, নই]</td>\n",
       "      <td>[ইদানীং, কিছুটা, বোঝা, বোধ, করছি, নিশ্চিত, নই]</td>\n",
       "    </tr>\n",
       "    <tr>\n",
       "      <th>6</th>\n",
       "      <td>আমি একজন কিশোর হিসাবে জীবন সম্পর্কে বিভ্রান্ত ...</td>\n",
       "      <td>fear</td>\n",
       "      <td>আমি একজন কিশোর হিসাবে জীবন সম্পর্কে বিভ্রান্ত ...</td>\n",
       "      <td>[আমি, একজন, কিশোর, হিসাবে, জীবন, সম্পর্কে, বিভ...</td>\n",
       "      <td>[একজন, কিশোর, জীবন, সম্পর্কে, বিভ্রান্ত, বোধ, ...</td>\n",
       "      <td>[একজন, কিশোর, জীবন, সম্পর্কে, বিভ্রান্ত, বোধ, ...</td>\n",
       "    </tr>\n",
       "    <tr>\n",
       "      <th>7</th>\n",
       "      <td>আমি বছরের পর বছর ধরে পেট্রোনাসের সাথে আছি আমি ...</td>\n",
       "      <td>happy</td>\n",
       "      <td>আমি বছরের পর বছর ধরে পেট্রোনাসের সাথে আছি আমি ...</td>\n",
       "      <td>[আমি, বছরের, পর, বছর, ধরে, পেট্রোনাসের, সাথে, ...</td>\n",
       "      <td>[বছরের, বছর, পেট্রোনাসের, সাথে, আছি, পেট্রোনাস...</td>\n",
       "      <td>[বছরের, বছর, পেট্রোনাসের, সাথে, আছি, পেট্রোনাস...</td>\n",
       "    </tr>\n",
       "    <tr>\n",
       "      <th>8</th>\n",
       "      <td>আমিও রোমান্টিক বোধ করি।</td>\n",
       "      <td>love</td>\n",
       "      <td>আমিও রোমান্টিক বোধ করি</td>\n",
       "      <td>[আমিও, রোমান্টিক, বোধ, করি]</td>\n",
       "      <td>[আমিও, রোমান্টিক, বোধ]</td>\n",
       "      <td>[আমিও, রোমান্টিক, বোধ]</td>\n",
       "    </tr>\n",
       "    <tr>\n",
       "      <th>9</th>\n",
       "      <td>আমি মনে করি যে, আমি কিছু একটা দেখছি সেই কষ্টটা...</td>\n",
       "      <td>sadness</td>\n",
       "      <td>আমি মনে করি যে  আমি কিছু একটা দেখছি সেই কষ্টটা...</td>\n",
       "      <td>[আমি, মনে, করি, যে, আমি, কিছু, একটা, দেখছি, সে...</td>\n",
       "      <td>[একটা, দেখছি, কষ্টটা]</td>\n",
       "      <td>[একটা, দেখছি, কষ্টটা]</td>\n",
       "    </tr>\n",
       "  </tbody>\n",
       "</table>\n",
       "</div>"
      ],
      "text/plain": [
       "                                             Comment      Tag  \\\n",
       "0                               আমি অপমানিত বোধ করি।  sadness   \n",
       "1  আমি খুব নিরাশ বোধ থেকে খুব অভিশপ্ত আশাবাদী হতে...  sadness   \n",
       "2  আমি পোস্ট করার জন্য একটি মিনিট ধরছি আমি লোভী ভ...    anger   \n",
       "3  আমি কখনও অগ্নিকুণ্ড সম্পর্কে নস্টালজিক বোধ করছ...  sadness   \n",
       "4                                আমি অস্থির বোধ করছি    anger   \n",
       "5  আমি ইদানীং কিছুটা বোঝা বোধ করছি কেন তা ছিল তা ...  sadness   \n",
       "6  আমি একজন কিশোর হিসাবে জীবন সম্পর্কে বিভ্রান্ত ...     fear   \n",
       "7  আমি বছরের পর বছর ধরে পেট্রোনাসের সাথে আছি আমি ...    happy   \n",
       "8                            আমিও রোমান্টিক বোধ করি।     love   \n",
       "9  আমি মনে করি যে, আমি কিছু একটা দেখছি সেই কষ্টটা...  sadness   \n",
       "\n",
       "                                             cleaned  \\\n",
       "0                               আমি অপমানিত বোধ করি    \n",
       "1  আমি খুব নিরাশ বোধ থেকে খুব অভিশপ্ত আশাবাদী হতে...   \n",
       "2  আমি পোস্ট করার জন্য একটি মিনিট ধরছি আমি লোভী ভ...   \n",
       "3  আমি কখনও অগ্নিকুণ্ড সম্পর্কে নস্টালজিক বোধ করছ...   \n",
       "4                                আমি অস্থির বোধ করছি   \n",
       "5  আমি ইদানীং কিছুটা বোঝা বোধ করছি কেন তা ছিল তা ...   \n",
       "6  আমি একজন কিশোর হিসাবে জীবন সম্পর্কে বিভ্রান্ত ...   \n",
       "7  আমি বছরের পর বছর ধরে পেট্রোনাসের সাথে আছি আমি ...   \n",
       "8                            আমিও রোমান্টিক বোধ করি    \n",
       "9  আমি মনে করি যে  আমি কিছু একটা দেখছি সেই কষ্টটা...   \n",
       "\n",
       "                             msg_clean_word_tokenize  \\\n",
       "0                           [আমি, অপমানিত, বোধ, করি]   \n",
       "1  [আমি, খুব, নিরাশ, বোধ, থেকে, খুব, অভিশপ্ত, আশা...   \n",
       "2  [আমি, পোস্ট, করার, জন্য, একটি, মিনিট, ধরছি, আম...   \n",
       "3  [আমি, কখনও, অগ্নিকুণ্ড, সম্পর্কে, নস্টালজিক, ব...   \n",
       "4                           [আমি, অস্থির, বোধ, করছি]   \n",
       "5  [আমি, ইদানীং, কিছুটা, বোঝা, বোধ, করছি, কেন, তা...   \n",
       "6  [আমি, একজন, কিশোর, হিসাবে, জীবন, সম্পর্কে, বিভ...   \n",
       "7  [আমি, বছরের, পর, বছর, ধরে, পেট্রোনাসের, সাথে, ...   \n",
       "8                        [আমিও, রোমান্টিক, বোধ, করি]   \n",
       "9  [আমি, মনে, করি, যে, আমি, কিছু, একটা, দেখছি, সে...   \n",
       "\n",
       "                                           msg_no_sw  \\\n",
       "0                                     [অপমানিত, বোধ]   \n",
       "1  [নিরাশ, বোধ, অভিশপ্ত, আশাবাদী, শুধুমাত্র, যত্ন...   \n",
       "2         [পোস্ট, মিনিট, ধরছি, লোভী, ভুল, বোধ, করছি]   \n",
       "3  [অগ্নিকুণ্ড, সম্পর্কে, নস্টালজিক, বোধ, করছি, জ...   \n",
       "4                                [অস্থির, বোধ, করছি]   \n",
       "5     [ইদানীং, কিছুটা, বোঝা, বোধ, করছি, নিশ্চিত, নই]   \n",
       "6  [একজন, কিশোর, জীবন, সম্পর্কে, বিভ্রান্ত, বোধ, ...   \n",
       "7  [বছরের, বছর, পেট্রোনাসের, সাথে, আছি, পেট্রোনাস...   \n",
       "8                             [আমিও, রোমান্টিক, বোধ]   \n",
       "9                              [একটা, দেখছি, কষ্টটা]   \n",
       "\n",
       "                                         msg_stemmed  \n",
       "0                                     [অপমানিত, বোধ]  \n",
       "1  [নিরাশ, বোধ, অভিশপ্ত, আশাবাদী, শুধুমাত্র, যত্ন...  \n",
       "2         [পোস্ট, মিনিট, ধরছি, লোভী, ভুল, বোধ, করছি]  \n",
       "3  [অগ্নিকুণ্ড, সম্পর্কে, নস্টালজিক, বোধ, করছি, জ...  \n",
       "4                                [অস্থির, বোধ, করছি]  \n",
       "5     [ইদানীং, কিছুটা, বোঝা, বোধ, করছি, নিশ্চিত, নই]  \n",
       "6  [একজন, কিশোর, জীবন, সম্পর্কে, বিভ্রান্ত, বোধ, ...  \n",
       "7  [বছরের, বছর, পেট্রোনাসের, সাথে, আছি, পেট্রোনাস...  \n",
       "8                             [আমিও, রোমান্টিক, বোধ]  \n",
       "9                              [একটা, দেখছি, কষ্টটা]  "
      ]
     },
     "execution_count": 12,
     "metadata": {},
     "output_type": "execute_result"
    }
   ],
   "source": [
    "data.head(10)"
   ]
  },
  {
   "cell_type": "markdown",
   "metadata": {},
   "source": [
    "### WordNet"
   ]
  },
  {
   "cell_type": "code",
   "execution_count": 13,
   "metadata": {},
   "outputs": [
    {
     "data": {
      "text/plain": [
       "['__class__',\n",
       " '__delattr__',\n",
       " '__dict__',\n",
       " '__dir__',\n",
       " '__doc__',\n",
       " '__eq__',\n",
       " '__format__',\n",
       " '__ge__',\n",
       " '__getattribute__',\n",
       " '__gt__',\n",
       " '__hash__',\n",
       " '__init__',\n",
       " '__init_subclass__',\n",
       " '__le__',\n",
       " '__lt__',\n",
       " '__module__',\n",
       " '__ne__',\n",
       " '__new__',\n",
       " '__reduce__',\n",
       " '__reduce_ex__',\n",
       " '__repr__',\n",
       " '__setattr__',\n",
       " '__sizeof__',\n",
       " '__str__',\n",
       " '__subclasshook__',\n",
       " '__weakref__',\n",
       " 'lemmatize']"
      ]
     },
     "execution_count": 13,
     "metadata": {},
     "output_type": "execute_result"
    }
   ],
   "source": [
    "import nltk\n",
    "wn = nltk.WordNetLemmatizer()  # wn= WordNet lemmatize এর জন্য ব্যবহার করা হয়েছে। \n",
    "dir(wn)"
   ]
  },
  {
   "cell_type": "code",
   "execution_count": 14,
   "metadata": {},
   "outputs": [
    {
     "data": {
      "text/html": [
       "<div>\n",
       "<style scoped>\n",
       "    .dataframe tbody tr th:only-of-type {\n",
       "        vertical-align: middle;\n",
       "    }\n",
       "\n",
       "    .dataframe tbody tr th {\n",
       "        vertical-align: top;\n",
       "    }\n",
       "\n",
       "    .dataframe thead th {\n",
       "        text-align: right;\n",
       "    }\n",
       "</style>\n",
       "<table border=\"1\" class=\"dataframe\">\n",
       "  <thead>\n",
       "    <tr style=\"text-align: right;\">\n",
       "      <th></th>\n",
       "      <th>Comment</th>\n",
       "      <th>Tag</th>\n",
       "      <th>cleaned</th>\n",
       "      <th>msg_clean_word_tokenize</th>\n",
       "      <th>msg_no_sw</th>\n",
       "      <th>msg_stemmed</th>\n",
       "      <th>msg_lemmatized</th>\n",
       "    </tr>\n",
       "  </thead>\n",
       "  <tbody>\n",
       "    <tr>\n",
       "      <th>0</th>\n",
       "      <td>আমি অপমানিত বোধ করি।</td>\n",
       "      <td>sadness</td>\n",
       "      <td>আমি অপমানিত বোধ করি</td>\n",
       "      <td>[আমি, অপমানিত, বোধ, করি]</td>\n",
       "      <td>[অপমানিত, বোধ]</td>\n",
       "      <td>[অপমানিত, বোধ]</td>\n",
       "      <td>[অপমানিত, বোধ]</td>\n",
       "    </tr>\n",
       "    <tr>\n",
       "      <th>1</th>\n",
       "      <td>আমি খুব নিরাশ বোধ থেকে খুব অভিশপ্ত আশাবাদী হতে...</td>\n",
       "      <td>sadness</td>\n",
       "      <td>আমি খুব নিরাশ বোধ থেকে খুব অভিশপ্ত আশাবাদী হতে...</td>\n",
       "      <td>[আমি, খুব, নিরাশ, বোধ, থেকে, খুব, অভিশপ্ত, আশা...</td>\n",
       "      <td>[নিরাশ, বোধ, অভিশপ্ত, আশাবাদী, শুধুমাত্র, যত্ন...</td>\n",
       "      <td>[নিরাশ, বোধ, অভিশপ্ত, আশাবাদী, শুধুমাত্র, যত্ন...</td>\n",
       "      <td>[নিরাশ, বোধ, অভিশপ্ত, আশাবাদী, শুধুমাত্র, যত্ন...</td>\n",
       "    </tr>\n",
       "    <tr>\n",
       "      <th>2</th>\n",
       "      <td>আমি পোস্ট করার জন্য একটি মিনিট ধরছি আমি লোভী ভ...</td>\n",
       "      <td>anger</td>\n",
       "      <td>আমি পোস্ট করার জন্য একটি মিনিট ধরছি আমি লোভী ভ...</td>\n",
       "      <td>[আমি, পোস্ট, করার, জন্য, একটি, মিনিট, ধরছি, আম...</td>\n",
       "      <td>[পোস্ট, মিনিট, ধরছি, লোভী, ভুল, বোধ, করছি]</td>\n",
       "      <td>[পোস্ট, মিনিট, ধরছি, লোভী, ভুল, বোধ, করছি]</td>\n",
       "      <td>[পোস্ট, মিনিট, ধরছি, লোভী, ভুল, বোধ, করছি]</td>\n",
       "    </tr>\n",
       "  </tbody>\n",
       "</table>\n",
       "</div>"
      ],
      "text/plain": [
       "                                             Comment      Tag  \\\n",
       "0                               আমি অপমানিত বোধ করি।  sadness   \n",
       "1  আমি খুব নিরাশ বোধ থেকে খুব অভিশপ্ত আশাবাদী হতে...  sadness   \n",
       "2  আমি পোস্ট করার জন্য একটি মিনিট ধরছি আমি লোভী ভ...    anger   \n",
       "\n",
       "                                             cleaned  \\\n",
       "0                               আমি অপমানিত বোধ করি    \n",
       "1  আমি খুব নিরাশ বোধ থেকে খুব অভিশপ্ত আশাবাদী হতে...   \n",
       "2  আমি পোস্ট করার জন্য একটি মিনিট ধরছি আমি লোভী ভ...   \n",
       "\n",
       "                             msg_clean_word_tokenize  \\\n",
       "0                           [আমি, অপমানিত, বোধ, করি]   \n",
       "1  [আমি, খুব, নিরাশ, বোধ, থেকে, খুব, অভিশপ্ত, আশা...   \n",
       "2  [আমি, পোস্ট, করার, জন্য, একটি, মিনিট, ধরছি, আম...   \n",
       "\n",
       "                                           msg_no_sw  \\\n",
       "0                                     [অপমানিত, বোধ]   \n",
       "1  [নিরাশ, বোধ, অভিশপ্ত, আশাবাদী, শুধুমাত্র, যত্ন...   \n",
       "2         [পোস্ট, মিনিট, ধরছি, লোভী, ভুল, বোধ, করছি]   \n",
       "\n",
       "                                         msg_stemmed  \\\n",
       "0                                     [অপমানিত, বোধ]   \n",
       "1  [নিরাশ, বোধ, অভিশপ্ত, আশাবাদী, শুধুমাত্র, যত্ন...   \n",
       "2         [পোস্ট, মিনিট, ধরছি, লোভী, ভুল, বোধ, করছি]   \n",
       "\n",
       "                                      msg_lemmatized  \n",
       "0                                     [অপমানিত, বোধ]  \n",
       "1  [নিরাশ, বোধ, অভিশপ্ত, আশাবাদী, শুধুমাত্র, যত্ন...  \n",
       "2         [পোস্ট, মিনিট, ধরছি, লোভী, ভুল, বোধ, করছি]  "
      ]
     },
     "execution_count": 14,
     "metadata": {},
     "output_type": "execute_result"
    }
   ],
   "source": [
    "def lemmatization(token_txt):\n",
    "    text = [wn.lemmatize(word) for word in token_txt]\n",
    "    return text\n",
    "\n",
    "\n",
    "data['msg_lemmatized' ] = data['msg_stemmed'].apply(lambda x : lemmatization(x))\n",
    "\n",
    "data.head(3)  \n",
    "\n",
    "# in 4th line  goes -> go and lives -> live"
   ]
  },
  {
   "cell_type": "code",
   "execution_count": 15,
   "metadata": {},
   "outputs": [
    {
     "data": {
      "text/html": [
       "<div>\n",
       "<style scoped>\n",
       "    .dataframe tbody tr th:only-of-type {\n",
       "        vertical-align: middle;\n",
       "    }\n",
       "\n",
       "    .dataframe tbody tr th {\n",
       "        vertical-align: top;\n",
       "    }\n",
       "\n",
       "    .dataframe thead th {\n",
       "        text-align: right;\n",
       "    }\n",
       "</style>\n",
       "<table border=\"1\" class=\"dataframe\">\n",
       "  <thead>\n",
       "    <tr style=\"text-align: right;\">\n",
       "      <th></th>\n",
       "      <th>Comment</th>\n",
       "      <th>Tag</th>\n",
       "      <th>cleaned</th>\n",
       "      <th>msg_clean_word_tokenize</th>\n",
       "      <th>msg_no_sw</th>\n",
       "      <th>msg_stemmed</th>\n",
       "      <th>msg_lemmatized</th>\n",
       "    </tr>\n",
       "  </thead>\n",
       "  <tbody>\n",
       "    <tr>\n",
       "      <th>0</th>\n",
       "      <td>আমি অপমানিত বোধ করি।</td>\n",
       "      <td>sadness</td>\n",
       "      <td>অপমানিত বোধ</td>\n",
       "      <td>[আমি, অপমানিত, বোধ, করি]</td>\n",
       "      <td>[অপমানিত, বোধ]</td>\n",
       "      <td>[অপমানিত, বোধ]</td>\n",
       "      <td>[অপমানিত, বোধ]</td>\n",
       "    </tr>\n",
       "    <tr>\n",
       "      <th>1</th>\n",
       "      <td>আমি খুব নিরাশ বোধ থেকে খুব অভিশপ্ত আশাবাদী হতে...</td>\n",
       "      <td>sadness</td>\n",
       "      <td>নিরাশ বোধ অভিশপ্ত আশাবাদী শুধুমাত্র যত্নশীল জা...</td>\n",
       "      <td>[আমি, খুব, নিরাশ, বোধ, থেকে, খুব, অভিশপ্ত, আশা...</td>\n",
       "      <td>[নিরাশ, বোধ, অভিশপ্ত, আশাবাদী, শুধুমাত্র, যত্ন...</td>\n",
       "      <td>[নিরাশ, বোধ, অভিশপ্ত, আশাবাদী, শুধুমাত্র, যত্ন...</td>\n",
       "      <td>[নিরাশ, বোধ, অভিশপ্ত, আশাবাদী, শুধুমাত্র, যত্ন...</td>\n",
       "    </tr>\n",
       "    <tr>\n",
       "      <th>2</th>\n",
       "      <td>আমি পোস্ট করার জন্য একটি মিনিট ধরছি আমি লোভী ভ...</td>\n",
       "      <td>anger</td>\n",
       "      <td>পোস্ট মিনিট ধরছি লোভী ভুল বোধ করছি</td>\n",
       "      <td>[আমি, পোস্ট, করার, জন্য, একটি, মিনিট, ধরছি, আম...</td>\n",
       "      <td>[পোস্ট, মিনিট, ধরছি, লোভী, ভুল, বোধ, করছি]</td>\n",
       "      <td>[পোস্ট, মিনিট, ধরছি, লোভী, ভুল, বোধ, করছি]</td>\n",
       "      <td>[পোস্ট, মিনিট, ধরছি, লোভী, ভুল, বোধ, করছি]</td>\n",
       "    </tr>\n",
       "    <tr>\n",
       "      <th>3</th>\n",
       "      <td>আমি কখনও অগ্নিকুণ্ড সম্পর্কে নস্টালজিক বোধ করছ...</td>\n",
       "      <td>sadness</td>\n",
       "      <td>অগ্নিকুণ্ড সম্পর্কে নস্টালজিক বোধ করছি জানব সম...</td>\n",
       "      <td>[আমি, কখনও, অগ্নিকুণ্ড, সম্পর্কে, নস্টালজিক, ব...</td>\n",
       "      <td>[অগ্নিকুণ্ড, সম্পর্কে, নস্টালজিক, বোধ, করছি, জ...</td>\n",
       "      <td>[অগ্নিকুণ্ড, সম্পর্কে, নস্টালজিক, বোধ, করছি, জ...</td>\n",
       "      <td>[অগ্নিকুণ্ড, সম্পর্কে, নস্টালজিক, বোধ, করছি, জ...</td>\n",
       "    </tr>\n",
       "    <tr>\n",
       "      <th>4</th>\n",
       "      <td>আমি অস্থির বোধ করছি</td>\n",
       "      <td>anger</td>\n",
       "      <td>অস্থির বোধ করছি</td>\n",
       "      <td>[আমি, অস্থির, বোধ, করছি]</td>\n",
       "      <td>[অস্থির, বোধ, করছি]</td>\n",
       "      <td>[অস্থির, বোধ, করছি]</td>\n",
       "      <td>[অস্থির, বোধ, করছি]</td>\n",
       "    </tr>\n",
       "  </tbody>\n",
       "</table>\n",
       "</div>"
      ],
      "text/plain": [
       "                                             Comment      Tag  \\\n",
       "0                               আমি অপমানিত বোধ করি।  sadness   \n",
       "1  আমি খুব নিরাশ বোধ থেকে খুব অভিশপ্ত আশাবাদী হতে...  sadness   \n",
       "2  আমি পোস্ট করার জন্য একটি মিনিট ধরছি আমি লোভী ভ...    anger   \n",
       "3  আমি কখনও অগ্নিকুণ্ড সম্পর্কে নস্টালজিক বোধ করছ...  sadness   \n",
       "4                                আমি অস্থির বোধ করছি    anger   \n",
       "\n",
       "                                             cleaned  \\\n",
       "0                                        অপমানিত বোধ   \n",
       "1  নিরাশ বোধ অভিশপ্ত আশাবাদী শুধুমাত্র যত্নশীল জা...   \n",
       "2                 পোস্ট মিনিট ধরছি লোভী ভুল বোধ করছি   \n",
       "3  অগ্নিকুণ্ড সম্পর্কে নস্টালজিক বোধ করছি জানব সম...   \n",
       "4                                    অস্থির বোধ করছি   \n",
       "\n",
       "                             msg_clean_word_tokenize  \\\n",
       "0                           [আমি, অপমানিত, বোধ, করি]   \n",
       "1  [আমি, খুব, নিরাশ, বোধ, থেকে, খুব, অভিশপ্ত, আশা...   \n",
       "2  [আমি, পোস্ট, করার, জন্য, একটি, মিনিট, ধরছি, আম...   \n",
       "3  [আমি, কখনও, অগ্নিকুণ্ড, সম্পর্কে, নস্টালজিক, ব...   \n",
       "4                           [আমি, অস্থির, বোধ, করছি]   \n",
       "\n",
       "                                           msg_no_sw  \\\n",
       "0                                     [অপমানিত, বোধ]   \n",
       "1  [নিরাশ, বোধ, অভিশপ্ত, আশাবাদী, শুধুমাত্র, যত্ন...   \n",
       "2         [পোস্ট, মিনিট, ধরছি, লোভী, ভুল, বোধ, করছি]   \n",
       "3  [অগ্নিকুণ্ড, সম্পর্কে, নস্টালজিক, বোধ, করছি, জ...   \n",
       "4                                [অস্থির, বোধ, করছি]   \n",
       "\n",
       "                                         msg_stemmed  \\\n",
       "0                                     [অপমানিত, বোধ]   \n",
       "1  [নিরাশ, বোধ, অভিশপ্ত, আশাবাদী, শুধুমাত্র, যত্ন...   \n",
       "2         [পোস্ট, মিনিট, ধরছি, লোভী, ভুল, বোধ, করছি]   \n",
       "3  [অগ্নিকুণ্ড, সম্পর্কে, নস্টালজিক, বোধ, করছি, জ...   \n",
       "4                                [অস্থির, বোধ, করছি]   \n",
       "\n",
       "                                      msg_lemmatized  \n",
       "0                                     [অপমানিত, বোধ]  \n",
       "1  [নিরাশ, বোধ, অভিশপ্ত, আশাবাদী, শুধুমাত্র, যত্ন...  \n",
       "2         [পোস্ট, মিনিট, ধরছি, লোভী, ভুল, বোধ, করছি]  \n",
       "3  [অগ্নিকুণ্ড, সম্পর্কে, নস্টালজিক, বোধ, করছি, জ...  \n",
       "4                                [অস্থির, বোধ, করছি]  "
      ]
     },
     "execution_count": 15,
     "metadata": {},
     "output_type": "execute_result"
    }
   ],
   "source": [
    "data['cleaned'] = data['msg_lemmatized'].apply(lambda x: ' '.join(x))\n",
    "data.head()"
   ]
  },
  {
   "cell_type": "code",
   "execution_count": null,
   "metadata": {},
   "outputs": [],
   "source": []
  },
  {
   "cell_type": "code",
   "execution_count": null,
   "metadata": {},
   "outputs": [],
   "source": []
  },
  {
   "cell_type": "code",
   "execution_count": null,
   "metadata": {},
   "outputs": [],
   "source": []
  },
  {
   "cell_type": "code",
   "execution_count": 16,
   "metadata": {
    "colab": {
     "base_uri": "https://localhost:8080/",
     "height": 72
    },
    "colab_type": "code",
    "executionInfo": {
     "elapsed": 1068,
     "status": "ok",
     "timestamp": 1596396661006,
     "user": {
      "displayName": "EFTEKHAR HOSSAIN 1308006",
      "photoUrl": "https://lh3.googleusercontent.com/a-/AOh14GhB_S2SahlIoGyzj581ugCWrrC6Yl1l6BBILkt0=s64",
      "userId": "05840817180100570187"
     },
     "user_tz": -360
    },
    "id": "U_l7GWutj1gu",
    "outputId": "3224bb68-23d6-46ba-ce38-72e8c5f7243e"
   },
   "outputs": [
    {
     "name": "stdout",
     "output_type": "stream",
     "text": [
      "After Cleaning: \n",
      "Removed 578 Small Reviews \n",
      "Total Reviews: 14960\n"
     ]
    }
   ],
   "source": [
    "# Length of each Reveiws\n",
    "data['length'] = data['cleaned'].apply(lambda x:len(x.split()))\n",
    "# Remove the reviews with least words\n",
    "dataset = data.loc[data.length>2]\n",
    "dataset = dataset.reset_index(drop = True)\n",
    "print(\"After Cleaning:\",\"\\nRemoved {} Small Reviews\".format(len(data)-len(dataset)),\"\\nTotal Reviews:\",len(dataset))"
   ]
  },
  {
   "cell_type": "markdown",
   "metadata": {
    "colab_type": "text",
    "id": "LDC0c6EHhnY2"
   },
   "source": [
    "# Dataset Summary"
   ]
  },
  {
   "cell_type": "code",
   "execution_count": 17,
   "metadata": {
    "colab": {
     "base_uri": "https://localhost:8080/",
     "height": 1000
    },
    "colab_type": "code",
    "executionInfo": {
     "elapsed": 1826,
     "status": "ok",
     "timestamp": 1596220284057,
     "user": {
      "displayName": "EFTEKHAR HOSSAIN 1308006",
      "photoUrl": "https://lh3.googleusercontent.com/a-/AOh14GhB_S2SahlIoGyzj581ugCWrrC6Yl1l6BBILkt0=s64",
      "userId": "05840817180100570187"
     },
     "user_tz": -360
    },
    "id": "0gvw8gwkhqPQ",
    "outputId": "dce039f9-fe95-41c6-8f44-b95dcd10050c"
   },
   "outputs": [
    {
     "name": "stdout",
     "output_type": "stream",
     "text": [
      "\n",
      "Class Name :  happy\n",
      "Number of Documents:5219\n",
      "Number of Words:46509\n",
      "Number of Unique Words:9266\n",
      "Most Frequent Words:\n",
      "\n",
      "বোধ\t2576\n",
      "অনুভব\t1457\n",
      "করছি\t1402\n",
      "সাথে\t588\n",
      "করেছি\t371\n",
      "সম্পর্কে\t353\n",
      "সত্যিই\t327\n",
      "অনুভূতি\t283\n",
      "ভাল\t277\n",
      "চাই\t273\n",
      "\n",
      "Class Name :  sadness\n",
      "Number of Documents:4496\n",
      "Number of Words:38224\n",
      "Number of Unique Words:7232\n",
      "Most Frequent Words:\n",
      "\n",
      "বোধ\t2668\n",
      "করছি\t1238\n",
      "অনুভব\t1099\n",
      "করেছি\t379\n",
      "সাথে\t376\n",
      "সত্যিই\t257\n",
      "সম্পর্কে\t256\n",
      "করছিলাম\t249\n",
      "খারাপ\t244\n",
      "জানি\t215\n",
      "\n",
      "Class Name :  anger\n",
      "Number of Documents:2076\n",
      "Number of Words:18283\n",
      "Number of Unique Words:4799\n",
      "Most Frequent Words:\n",
      "\n",
      "বোধ\t1176\n",
      "করছি\t527\n",
      "অনুভব\t527\n",
      "বিরক্ত\t360\n",
      "সাথে\t292\n",
      "করেছি\t170\n",
      "করছিলাম\t132\n",
      "সম্পর্কে\t130\n",
      "চাই\t125\n",
      "সত্যিই\t122\n",
      "\n",
      "Class Name :  fear\n",
      "Number of Documents:1895\n",
      "Number of Words:17002\n",
      "Number of Unique Words:4458\n",
      "Most Frequent Words:\n",
      "\n",
      "বোধ\t1234\n",
      "করছি\t577\n",
      "অনুভব\t391\n",
      "ভয়\t213\n",
      "সম্পর্কে\t212\n",
      "সাথে\t169\n",
      "কিছুটা\t164\n",
      "অদ্ভুত\t139\n",
      "করছিলাম\t119\n",
      "করেছি\t116\n",
      "\n",
      "Class Name :  love\n",
      "Number of Documents:1274\n",
      "Number of Words:11743\n",
      "Number of Unique Words:3798\n",
      "Most Frequent Words:\n",
      "\n",
      "অনুভব\t534\n",
      "বোধ\t393\n",
      "করছি\t275\n",
      "সাথে\t167\n",
      "পছন্দ\t115\n",
      "করেছি\t112\n",
      "সম্পর্কে\t109\n",
      "অনুভূতি\t109\n",
      "সত্যিই\t91\n",
      "চাই\t86\n",
      "Total Number of Unique Words:16040\n"
     ]
    }
   ],
   "source": [
    "def data_summary(dataset):\n",
    "    \n",
    "\n",
    "    documents = []\n",
    "    words = []\n",
    "    u_words = []\n",
    "    total_u_words = [word.strip().lower() for t in list(dataset.cleaned) for word in t.strip().split()]\n",
    "    class_label= [k for k,v in dataset.Tag.value_counts().to_dict().items()]\n",
    "  # find word list\n",
    "    for label in class_label: \n",
    "        word_list = [word.strip().lower() for t in list(dataset[dataset.Tag==label].cleaned) for word in t.strip().split()]\n",
    "        counts = dict()\n",
    "        for word in word_list:\n",
    "                counts[word] = counts.get(word, 0)+1\n",
    "        # sort the dictionary of word list  \n",
    "        ordered = sorted(counts.items(), key= lambda item: item[1],reverse = True)\n",
    "        # Documents per class\n",
    "        documents.append(len(list(dataset[dataset.Tag==label].cleaned)))\n",
    "        # Total Word per class\n",
    "        words.append(len(word_list))\n",
    "        # Unique words per class \n",
    "        u_words.append(len(np.unique(word_list)))\n",
    "       \n",
    "        print(\"\\nClass Name : \",label)\n",
    "        print(\"Number of Documents:{}\".format(len(list(dataset[dataset.Tag==label].cleaned))))  \n",
    "        print(\"Number of Words:{}\".format(len(word_list))) \n",
    "        print(\"Number of Unique Words:{}\".format(len(np.unique(word_list)))) \n",
    "        print(\"Most Frequent Words:\\n\")\n",
    "        for k,v in ordered[:10]:\n",
    "              print(\"{}\\t{}\".format(k,v))\n",
    "    print(\"Total Number of Unique Words:{}\".format(len(np.unique(total_u_words))))           \n",
    "   \n",
    "    return documents,words,u_words,class_label\n",
    "\n",
    "#call the fucntion\n",
    "documents,words,u_words,class_names = data_summary(dataset)    \n"
   ]
  },
  {
   "cell_type": "markdown",
   "metadata": {
    "colab_type": "text",
    "id": "HWKTj1zQjRPj"
   },
   "source": [
    "# Dataset Summary Visualization"
   ]
  },
  {
   "cell_type": "code",
   "execution_count": 18,
   "metadata": {
    "colab": {
     "base_uri": "https://localhost:8080/",
     "height": 342
    },
    "colab_type": "code",
    "executionInfo": {
     "elapsed": 1419,
     "status": "ok",
     "timestamp": 1596220290623,
     "user": {
      "displayName": "EFTEKHAR HOSSAIN 1308006",
      "photoUrl": "https://lh3.googleusercontent.com/a-/AOh14GhB_S2SahlIoGyzj581ugCWrrC6Yl1l6BBILkt0=s64",
      "userId": "05840817180100570187"
     },
     "user_tz": -360
    },
    "id": "SnjIpYyNjYJR",
    "outputId": "a4a3b66d-8d9e-4c30-c8ea-e211ce616af9",
    "scrolled": true
   },
   "outputs": [
    {
     "data": {
      "image/png": "[encoded data removed]",
      "text/plain": [
       "<Figure size 432x288 with 1 Axes>"
      ]
     },
     "metadata": {},
     "output_type": "display_data"
    }
   ],
   "source": [
    "data_matrix = pd.DataFrame({'Total Documents':documents,\n",
    "                            'Total Words':words,\n",
    "                            'Unique Words':u_words,\n",
    "                            'Class Names':class_names})\n",
    "df = pd.melt(data_matrix, id_vars=\"Class Names\", var_name=\"Category\", value_name=\"Values\")\n",
    "plt.figure(figsize=(6, 4))\n",
    "ax = plt.subplot()\n",
    "\n",
    "sns.barplot(data=df,x='Class Names', y='Values' ,hue='Category')\n",
    "ax.set_xlabel('Class Names') \n",
    "ax.set_title('Data Statistics')\n",
    "\n",
    "ax.xaxis.set_ticklabels(class_names, rotation=45);"
   ]
  },
  {
   "cell_type": "markdown",
   "metadata": {
    "colab_type": "text",
    "id": "aFulAOWCjjIl"
   },
   "source": [
    "# Comment Lenght Distribution"
   ]
  },
  {
   "cell_type": "code",
   "execution_count": 19,
   "metadata": {
    "colab": {
     "base_uri": "https://localhost:8080/",
     "height": 349
    },
    "colab_type": "code",
    "executionInfo": {
     "elapsed": 1254,
     "status": "ok",
     "timestamp": 1596220295388,
     "user": {
      "displayName": "EFTEKHAR HOSSAIN 1308006",
      "photoUrl": "https://lh3.googleusercontent.com/a-/AOh14GhB_S2SahlIoGyzj581ugCWrrC6Yl1l6BBILkt0=s64",
      "userId": "05840817180100570187"
     },
     "user_tz": -360
    },
    "id": "y5J5qlgrjneI",
    "outputId": "3e8569c2-495c-4c2c-aae3-c2f5becb95ee"
   },
   "outputs": [
    {
     "data": {
      "image/png": "[encoded data removed]",
      "text/plain": [
       "<Figure size 432x288 with 1 Axes>"
      ]
     },
     "metadata": {},
     "output_type": "display_data"
    },
    {
     "name": "stdout",
     "output_type": "stream",
     "text": [
      "Maximum Length of a review: 39\n",
      "Minimum Length of a review: 3\n",
      "Average Length of a reviews: 9.0\n"
     ]
    }
   ],
   "source": [
    "# Calculate the Review of each of the Review\n",
    "dataset['ReviewLength'] = dataset.cleaned.apply(lambda x:len(x.split()))\n",
    "frequency = dict()\n",
    "for i in dataset.ReviewLength:\n",
    "    frequency[i] = frequency.get(i, 0)+1\n",
    "\n",
    "plt.bar(frequency.keys(), frequency.values(), color =\"b\")\n",
    "plt.xlim(1, 135)\n",
    "# in this notbook color is not working but it should work.\n",
    "plt.xlabel('Lenght of the Texts')\n",
    "plt.ylabel('Frequency')\n",
    "plt.title('Length-Frequency Distribution')\n",
    "plt.show()  \n",
    "print(f\"Maximum Length of a review: {max(dataset.ReviewLength)}\")\n",
    "print(f\"Minimum Length of a review: {min(dataset.ReviewLength)}\")\n",
    "print(f\"Average Length of a reviews: {round(np.mean(dataset.ReviewLength),0)}\")"
   ]
  },
  {
   "cell_type": "markdown",
   "metadata": {
    "colab_type": "text",
    "id": "MeIyz5P2rTvt"
   },
   "source": [
    "# Take only happy=>love and anger=>sadness Class for Model Building"
   ]
  },
  {
   "cell_type": "code",
   "execution_count": 20,
   "metadata": {
    "colab": {
     "base_uri": "https://localhost:8080/",
     "height": 72
    },
    "colab_type": "code",
    "executionInfo": {
     "elapsed": 915,
     "status": "ok",
     "timestamp": 1596397523633,
     "user": {
      "displayName": "EFTEKHAR HOSSAIN 1308006",
      "photoUrl": "https://lh3.googleusercontent.com/a-/AOh14GhB_S2SahlIoGyzj581ugCWrrC6Yl1l6BBILkt0=s64",
      "userId": "05840817180100570187"
     },
     "user_tz": -360
    },
    "id": "L5WNJuxFrbdO",
    "outputId": "ccc54e97-490d-4dd2-e558-04ceadc538a2"
   },
   "outputs": [
    {
     "data": {
      "text/plain": [
       "love       6493\n",
       "sadness    4000\n",
       "Name: Tag, dtype: int64"
      ]
     },
     "execution_count": 20,
     "metadata": {},
     "output_type": "execute_result"
    }
   ],
   "source": [
    "dataset.Tag = dataset.Tag.replace({'happy':'love','anger':'sadness'})\n",
    "positive = dataset[dataset.Tag == 'love']\n",
    "negative = dataset[dataset.Tag == 'sadness'][:4000]\n",
    "dataset = positive.append(negative,ignore_index=True)\n",
    "dataset.Tag.value_counts()"
   ]
  },
  {
   "cell_type": "markdown",
   "metadata": {
    "colab_type": "text",
    "id": "bPafojBokoaH"
   },
   "source": [
    "## Label Encoding and Dataset Splitting"
   ]
  },
  {
   "cell_type": "code",
   "execution_count": 21,
   "metadata": {
    "colab": {},
    "colab_type": "code",
    "executionInfo": {
     "elapsed": 899,
     "status": "ok",
     "timestamp": 1596397463182,
     "user": {
      "displayName": "EFTEKHAR HOSSAIN 1308006",
      "photoUrl": "https://lh3.googleusercontent.com/a-/AOh14GhB_S2SahlIoGyzj581ugCWrrC6Yl1l6BBILkt0=s64",
      "userId": "05840817180100570187"
     },
     "user_tz": -360
    },
    "id": "UiuB4eZBktny"
   },
   "outputs": [],
   "source": [
    "\n",
    "\n",
    "def label_encoding(sentiment,bool):\n",
    "\n",
    "    le = LabelEncoder()\n",
    "    le.fit(sentiment)\n",
    "    encoded_labels = le.transform(sentiment)\n",
    "    labels = np.array(encoded_labels) # Converting into numpy array\n",
    "    class_names =le.classes_ ## Define the class names again\n",
    "    if bool == True:\n",
    "        print(\"\\n\\t\\t\\t===== Label Encoding =====\",\"\\nClass Names:-->\",le.classes_)\n",
    "        for i in sample_data:\n",
    "            print(sentiment[i],' ', encoded_labels[i],'\\n')\n",
    "\n",
    "    return labels\n",
    "\n",
    "\n",
    "\n",
    "\n",
    "def dataset_split(feature_space,sentiment):\n",
    "    \"\"\"\n",
    "    This function will return the splitted (80%-20%) feature vector . \n",
    "    \n",
    "    Args:\n",
    "        feature_space: calcuated feature vector (sparse matrix)\n",
    "        sentiment: encoded lables (array) \n",
    "        \n",
    "    Returns:\n",
    "        X_train: training feature vector (sparse matrix)\n",
    "        X_test : testing feature vector (sparse matrix)\n",
    "        y_train: training encoded labels (array) \n",
    "        y_test : testing encoded labels (array) \n",
    "    \"\"\"\n",
    "\n",
    "    X_train,X_test,y_train,y_test = train_test_split(feature_space,sentiment,train_size = 0.9,\n",
    "                                                  test_size = 0.1,random_state =0)\n",
    "    print(\"Feature Size :======>\",X_train.shape[1])\n",
    "    print(\"\\nDataset Distribution:\\n\")\n",
    "    print(\"\\tSet Name\",\"\\t\\tSize\")\n",
    "    print(\"\\t========\\t\\t======\")\n",
    "\n",
    "    print(\"\\tFull\\t\\t\\t\",feature_space.shape[0],\n",
    "        \"\\n\\tTraining\\t\\t\",X_train.shape[0],\n",
    "        \"\\n\\tTest\\t\\t\\t\",X_test.shape[0])\n",
    "  \n",
    "    return X_train,X_test,y_train,y_test\n"
   ]
  },
  {
   "cell_type": "code",
   "execution_count": 22,
   "metadata": {
    "colab": {},
    "colab_type": "code",
    "id": "Gq0wplXVrfm0"
   },
   "outputs": [],
   "source": [
    "dataset.cleaned = dataset.cleaned.apply(lambda x:x.replace('\\n',' '))"
   ]
  },
  {
   "cell_type": "markdown",
   "metadata": {
    "colab_type": "text",
    "id": "0CL612JzczVo"
   },
   "source": [
    "# **Model Building Using Machine Learning**"
   ]
  },
  {
   "cell_type": "markdown",
   "metadata": {
    "colab_type": "text",
    "id": "UnEDFTd0kdzx"
   },
   "source": [
    "## Feature Extraction Using TF-IDF- vectorizer"
   ]
  },
  {
   "cell_type": "code",
   "execution_count": 23,
   "metadata": {
    "colab": {},
    "colab_type": "code",
    "id": "5XTcv1Uyui5Q"
   },
   "outputs": [],
   "source": [
    "\n",
    "            \n",
    "def calc_gram_tfidf(reviews,gram):\n",
    " \n",
    "    tfidf = TfidfVectorizer(ngram_range=gram,use_idf=True,tokenizer=lambda x: x.split()) \n",
    "    X = tfidf.fit_transform(reviews)\n",
    "    \n",
    "    return tfidf,X\n"
   ]
  },
  {
   "cell_type": "code",
   "execution_count": 24,
   "metadata": {
    "colab": {},
    "colab_type": "code",
    "id": "p9MTZ5g7mUj3"
   },
   "outputs": [],
   "source": [
    "from sklearn.linear_model import LogisticRegression\n",
    "from sklearn.tree import DecisionTreeClassifier\n",
    "from sklearn.ensemble import RandomForestClassifier\n",
    "from sklearn.naive_bayes import MultinomialNB\n",
    "from sklearn.neighbors import KNeighborsClassifier\n",
    "from sklearn.svm import SVC\n",
    "from sklearn.linear_model import SGDClassifier\n",
    "from sklearn.metrics import classification_report,accuracy_score,precision_score,recall_score,f1_score\n",
    "from sklearn.metrics import roc_curve, roc_auc_score\n",
    "from sklearn.metrics import average_precision_score,roc_auc_score, roc_curve, precision_recall_curve\n"
   ]
  },
  {
   "cell_type": "code",
   "execution_count": 25,
   "metadata": {
    "colab": {},
    "colab_type": "code",
    "id": "Bv62bKnXmdkr"
   },
   "outputs": [],
   "source": [
    "                                              \n",
    "def ml_models_defination(): \n",
    "\n",
    "    lr_model = LogisticRegression(random_state = 123)\n",
    "    dt_model = DecisionTreeClassifier(criterion = 'entropy', random_state = 0)\n",
    "    rf_model = RandomForestClassifier(n_estimators=100, criterion ='entropy', random_state = 0)\n",
    "    mnb_model = MultinomialNB(alpha=0.15)\n",
    "    knn_model = KNeighborsClassifier(n_neighbors=3, metric = 'minkowski')\n",
    "    lsvm_model = SVC(kernel = 'linear',C = 0.2, probability=True, random_state = 0)\n",
    "    ksvm_model = SVC(C= 1000,kernel = 'rbf',probability=True, gamma = 0.00015, random_state = 0)\n",
    "    model_names = ['Logistic Regression','Decision Tree','Random Forest','Naive Bayes','KNN','Linear SVM','Kernel SVM']\n",
    "    #model_names = ['Logistic Regression']\n",
    "    # Create list of models\n",
    "    ml_models = [lr_model,dt_model,rf_model,mnb_model,knn_model,lsvm_model,ksvm_model]\n",
    "    #ml_models = [lr_model]\n",
    "    return ml_models,model_names \n",
    "\n",
    "\n",
    "                                         \n",
    "\n",
    "def model_performace(model,X_train,X_test,y_train,y_test):\n",
    "\n",
    "    my_dict = {}\n",
    "    model.fit(X_train,y_train)\n",
    "    # Prediction\n",
    "    pred_y = model.predict(X_test)\n",
    "    my_dict['Accuracy'] = round(accuracy_score(y_test, pred_y),4)*100 \n",
    "    my_dict['Precision'] = round(precision_score(y_test, pred_y),4)*100 \n",
    "    my_dict['Recall'] = round(recall_score(y_test, pred_y),4)*100 \n",
    "    my_dict['F1 Score'] = round(f1_score(y_test, pred_y),4)*100 \n",
    "    \n",
    "    return my_dict  \n",
    "\n",
    "                                       \n",
    "def performance_table(performance_dict):\n",
    "\n",
    "    acc_list = []\n",
    "    pr_list = []\n",
    "    re_list = []\n",
    "    f1_list = []\n",
    "    for i in performance_dict.keys():\n",
    "        acc_list.append(performance_dict[i]['Accuracy'])\n",
    "        pr_list.append(performance_dict[i]['Precision'])\n",
    "        re_list.append(performance_dict[i]['Recall'])\n",
    "        f1_list.append(performance_dict[i]['F1 Score'])\n",
    "\n",
    "    # Create a dataframe\n",
    "    model_names = ['LR','DT','RF','MNB','KNN','Linear SVM','RBF SVM']\n",
    "    performance_df = pd.DataFrame({'Accuracy':acc_list,'Precision':pr_list,\n",
    "                                   'Recall':re_list,'F1 Score':f1_list,\n",
    "                                   'Model Name':model_names })\n",
    "    return performance_df    "
   ]
  },
  {
   "cell_type": "markdown",
   "metadata": {
    "colab_type": "text",
    "id": "Fprji1HsbcmG"
   },
   "source": [
    "## Model Training"
   ]
  },
  {
   "cell_type": "code",
   "execution_count": 26,
   "metadata": {
    "colab": {},
    "colab_type": "code",
    "id": "x1niAeoCvGE9"
   },
   "outputs": [
    {
     "name": "stdout",
     "output_type": "stream",
     "text": [
      "Feature Size :======> 13482\n",
      "\n",
      "Dataset Distribution:\n",
      "\n",
      "\tSet Name \t\tSize\n",
      "\t========\t\t======\n",
      "\tFull\t\t\t 10493 \n",
      "\tTraining\t\t 9443 \n",
      "\tTest\t\t\t 1050\n",
      "Feature Size :======> 75996\n",
      "\n",
      "Dataset Distribution:\n",
      "\n",
      "\tSet Name \t\tSize\n",
      "\t========\t\t======\n",
      "\tFull\t\t\t 10493 \n",
      "\tTraining\t\t 9443 \n",
      "\tTest\t\t\t 1050\n",
      "Feature Size :======> 144368\n",
      "\n",
      "Dataset Distribution:\n",
      "\n",
      "\tSet Name \t\tSize\n",
      "\t========\t\t======\n",
      "\tFull\t\t\t 10493 \n",
      "\tTraining\t\t 9443 \n",
      "\tTest\t\t\t 1050\n"
     ]
    }
   ],
   "source": [
    "## save the performance of the model for each gram feature \n",
    "gram_names = ['Unigram','Bigram','Trigram']\n",
    "ngrams = [(1,1),(1,2),(1,3)]\n",
    "for i,gram in enumerate(ngrams):\n",
    "    tfidf,feature = calc_gram_tfidf(dataset.cleaned,gram)\n",
    "    labels = label_encoding(dataset.Tag,False)\n",
    "    \n",
    "    X_train,X_test,y_train,y_test = dataset_split(feature,labels) \n",
    "    ml_models,model_names = ml_models_defination()\n",
    "    \n",
    "    \n",
    "    # call model accuracy function and save the metrices into a dictionary\n",
    "    accuracy = {f'{model_names[j]}':model_performace(model,X_train,X_test,y_train,y_test) for j,model in enumerate(ml_models)}\n",
    "    \n",
    "    \n",
    "    #Save the performance parameter into json file\n",
    "    with open(path+f'ml_performance_{gram_names[i]}.json', 'w') as f:\n",
    "          json.dump(accuracy, f)"
   ]
  },
  {
   "cell_type": "markdown",
   "metadata": {
    "colab_type": "text",
    "id": "adgILEqHbWwu"
   },
   "source": [
    "## Performance Table"
   ]
  },
  {
   "cell_type": "code",
   "execution_count": 29,
   "metadata": {
    "colab": {
     "base_uri": "https://localhost:8080/",
     "height": 945
    },
    "colab_type": "code",
    "executionInfo": {
     "elapsed": 831,
     "status": "ok",
     "timestamp": 1596224704720,
     "user": {
      "displayName": "EFTEKHAR HOSSAIN 1308006",
      "photoUrl": "https://lh3.googleusercontent.com/a-/AOh14GhB_S2SahlIoGyzj581ugCWrrC6Yl1l6BBILkt0=s64",
      "userId": "05840817180100570187"
     },
     "user_tz": -360
    },
    "id": "EgXI9CKywYGi",
    "outputId": "5e899f18-3dbe-45f8-a76b-9c76644449df"
   },
   "outputs": [
    {
     "name": "stdout",
     "output_type": "stream",
     "text": [
      "\n",
      "========== Performace Table for Unigram feature:========\n",
      "    Accuracy  Precision  Recall  F1 Score  Model Name\n",
      "0     88.10      92.15   75.50     82.99          LR\n",
      "1     85.14      82.98   77.23     80.00          DT\n",
      "2     88.48      91.01   77.72     83.85          RF\n",
      "3     86.48      86.39   76.98     81.41         MNB\n",
      "4     83.14      78.45   77.48     77.96         KNN\n",
      "5     84.57      92.31   65.35     76.52  Linear SVM\n",
      "6     87.33      90.69   74.75     81.95     RBF SVM\n",
      "Highest Accuracy achieved by RF at = 88.48\n",
      "Highest F1-Score achieved by RF at = 83.85000000000001\n",
      "Highest Precision Score achieved by Linear SVM at = 92.31\n",
      "Highest Recall Score achieved by RF at = 77.72\n",
      "\n",
      "========== Performace Table for Bigram feature:========\n",
      "    Accuracy  Precision  Recall  F1 Score  Model Name\n",
      "0     84.29      93.77   63.37     75.63          LR\n",
      "1     83.62      80.53   75.74     78.06          DT\n",
      "2     87.90      94.82   72.52     82.19          RF\n",
      "3     89.71      85.41   88.37     86.86         MNB\n",
      "4     82.10      76.87   76.49     76.67         KNN\n",
      "5     75.71      94.61   39.11     55.34  Linear SVM\n",
      "6     82.10      95.00   56.44     70.81     RBF SVM\n",
      "Highest Accuracy achieved by MNB at = 89.71000000000001\n",
      "Highest F1-Score achieved by MNB at = 86.86\n",
      "Highest Precision Score achieved by RBF SVM at = 95.0\n",
      "Highest Recall Score achieved by MNB at = 88.37\n",
      "\n",
      "========== Performace Table for Trigram feature:========\n",
      "    Accuracy  Precision  Recall  F1 Score  Model Name\n",
      "0     81.33      94.44   54.70     69.28          LR\n",
      "1     85.52      84.43   76.49     80.26          DT\n",
      "2     86.67      94.90   69.06     79.94          RF\n",
      "3     87.62      80.04   90.35     84.88         MNB\n",
      "4     82.00      75.66   78.47     77.04         KNN\n",
      "5     70.67      97.06   24.50     39.13  Linear SVM\n",
      "6     76.38      94.83   40.84     57.09     RBF SVM\n",
      "Highest Accuracy achieved by MNB at = 87.62\n",
      "Highest F1-Score achieved by MNB at = 84.88\n",
      "Highest Precision Score achieved by Linear SVM at = 97.06\n",
      "Highest Recall Score achieved by MNB at = 90.35\n"
     ]
    }
   ],
   "source": [
    "# Load all the json files\n",
    "gram_names = ['Unigram','Bigram','Trigram']\n",
    "\n",
    "for gram in gram_names:\n",
    "  accuracy = json.load(open(path+f'ml_performance_{gram}.json'))\n",
    "  table = performance_table(accuracy)\n",
    "  print(f\"\\n========== Performace Table for {gram} feature:========\\n\",table)\n",
    "  # print(f\"\\n========In case of {gram} feature:========\\n\")\n",
    "  print(f\"Highest Accuracy achieved by {table['Model Name'][table.Accuracy.idxmax(axis = 0)]} at = {max(table.Accuracy)}\")\n",
    "  print(f\"Highest F1-Score achieved by {table['Model Name'][table['F1 Score'].idxmax(axis = 0)]} at = {max(table['F1 Score'] )}\")\n",
    "  print(f\"Highest Precision Score achieved by {table['Model Name'][table['Precision'].idxmax(axis = 0)]} at = {max(table['Precision'] )}\")\n",
    "  print(f\"Highest Recall Score achieved by {table['Model Name'][table['Recall'].idxmax(axis = 0)]} at = {max(table['Recall'] )}\")\n",
    "  "
   ]
  },
  {
   "cell_type": "markdown",
   "metadata": {
    "colab_type": "text",
    "id": "ikQHi7EdqfuN"
   },
   "source": [
    "**Conclusion:**\n",
    "\n",
    "---\n",
    "\n",
    "\n",
    "\n",
    "***From this performance table it can be said that the Trigarm feature combination with Multinomial Naive Bayes classifier provides highest accuray and F1-score value.***"
   ]
  },
  {
   "cell_type": "markdown",
   "metadata": {
    "colab_type": "text",
    "id": "6Y7pmQhdaED5"
   },
   "source": [
    "## Performance Visualization"
   ]
  },
  {
   "cell_type": "code",
   "execution_count": 28,
   "metadata": {
    "colab": {
     "base_uri": "https://localhost:8080/",
     "height": 1000
    },
    "colab_type": "code",
    "executionInfo": {
     "elapsed": 2030,
     "status": "ok",
     "timestamp": 1596224937939,
     "user": {
      "displayName": "EFTEKHAR HOSSAIN 1308006",
      "photoUrl": "https://lh3.googleusercontent.com/a-/AOh14GhB_S2SahlIoGyzj581ugCWrrC6Yl1l6BBILkt0=s64",
      "userId": "05840817180100570187"
     },
     "user_tz": -360
    },
    "id": "iu3tiCZY0IPq",
    "outputId": "50e4b467-36dc-48a6-edab-91b4a2d276cf"
   },
   "outputs": [
    {
     "data": {
      "image/png": "[encoded data removed]",
      "text/plain": [
       "<Figure size 576x432 with 1 Axes>"
      ]
     },
     "metadata": {},
     "output_type": "display_data"
    },
    {
     "data": {
      "image/png": "[encoded data removed]",
      "text/plain": [
       "<Figure size 576x432 with 1 Axes>"
      ]
     },
     "metadata": {},
     "output_type": "display_data"
    },
    {
     "data": {
      "image/png": "[encoded data removed]",
      "text/plain": [
       "<Figure size 576x432 with 1 Axes>"
      ]
     },
     "metadata": {},
     "output_type": "display_data"
    }
   ],
   "source": [
    "gram_names = ['Unigram','Bigram','Trigram']\n",
    "\n",
    "for gram in gram_names:\n",
    "  accuracy = json.load(open(path+f'ml_performance_{gram}.json'))\n",
    "  table = performance_table(accuracy)\n",
    "  df = pd.melt(table[['Accuracy','F1 Score','Model Name']], id_vars=\"Model Name\", var_name=\"Category\", value_name=\"Values\")\n",
    "  plt.figure(figsize=(8,6))\n",
    "  ax = plt.subplot()\n",
    "  sns.barplot(data=df,x='Model Name', y='Values' ,hue='Category')\n",
    "  ax.set_xlabel('Model Name') \n",
    "  ax.set_title(f'Comparison of Accuracy and F1-Score Value for {gram} Feature')\n",
    "  ax.set_ylim([10,80])\n",
    "  ax.xaxis.set_ticklabels(table['Model Name'], rotation=45);"
   ]
  },
  {
   "cell_type": "code",
   "execution_count": null,
   "metadata": {},
   "outputs": [],
   "source": []
  },
  {
   "cell_type": "code",
   "execution_count": null,
   "metadata": {},
   "outputs": [],
   "source": []
  },
  {
   "cell_type": "code",
   "execution_count": null,
   "metadata": {},
   "outputs": [],
   "source": []
  },
  {
   "cell_type": "code",
   "execution_count": null,
   "metadata": {},
   "outputs": [],
   "source": []
  }
 ],
 "metadata": {
  "accelerator": "GPU",
  "colab": {
   "authorship_tag": "ABX9TyNtJMtq6WmVRP0LrcJk4KeU",
   "collapsed_sections": [],
   "name": "news_comment_sentiment_analysis.ipynb",
   "provenance": []
  },
  "kernelspec": {
   "display_name": "Python 3",
   "language": "python",
   "name": "python3"
  },
  "language_info": {
   "codemirror_mode": {
    "name": "ipython",
    "version": 3
   },
   "file_extension": ".py",
   "mimetype": "text/x-python",
   "name": "python",
   "nbconvert_exporter": "python",
   "pygments_lexer": "ipython3",
   "version": "3.8.8"
  }
 },
 "nbformat": 4,
 "nbformat_minor": 1
}

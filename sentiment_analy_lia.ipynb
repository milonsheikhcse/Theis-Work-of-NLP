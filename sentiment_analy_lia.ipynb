{
 "cells": [
  {
   "cell_type": "code",
   "execution_count": 1,
   "id": "3caf0b93",
   "metadata": {},
   "outputs": [
    {
     "name": "stderr",
     "output_type": "stream",
     "text": [
      "[nltk_data] Downloading package stopwords to\n",
      "[nltk_data]     C:\\Users\\milon\\AppData\\Roaming\\nltk_data...\n",
      "[nltk_data]   Unzipping corpora\\stopwords.zip.\n",
      "[nltk_data] Downloading package wordnet to\n",
      "[nltk_data]     C:\\Users\\milon\\AppData\\Roaming\\nltk_data...\n",
      "[nltk_data]   Package wordnet is already up-to-date!\n",
      "[nltk_data] Downloading package punkt to\n",
      "[nltk_data]     C:\\Users\\milon\\AppData\\Roaming\\nltk_data...\n",
      "[nltk_data]   Package punkt is already up-to-date!\n"
     ]
    }
   ],
   "source": [
    "import pandas as pd\n",
    "import numpy as np\n",
    "import matplotlib.pyplot as plt\n",
    "import seaborn as sns\n",
    "import re\n",
    "import nltk\n",
    "from nltk.corpus import stopwords\n",
    "nltk.download('stopwords')\n",
    "from nltk.stem import PorterStemmer\n",
    "from nltk.stem import WordNetLemmatizer\n",
    "nltk.download('wordnet')\n",
    "from nltk.tokenize import word_tokenize\n",
    "from nltk.tokenize import sent_tokenize\n",
    "nltk.download('punkt')\n",
    "#from wordcloud import WordCloud\n",
    "from sklearn.feature_extraction.text import CountVectorizer\n",
    "from sklearn.feature_extraction.text import TfidfVectorizer\n",
    "from sklearn.model_selection import train_test_split\n",
    "from sklearn.metrics import accuracy_score\n",
    "from sklearn.metrics import confusion_matrix\n",
    "from sklearn.metrics import classification_report\n",
    "from sklearn.metrics import make_scorer, roc_curve, roc_auc_score\n",
    "from sklearn.metrics import precision_recall_fscore_support as score\n",
    "from sklearn.metrics.pairwise import cosine_similarity\n",
    "from sklearn.multiclass import OneVsRestClassifier\n",
    "from sklearn.linear_model import LogisticRegression\n",
    "from sklearn.svm import SVC, LinearSVC\n",
    "from sklearn.tree import DecisionTreeClassifier\n",
    "from sklearn.ensemble import RandomForestClassifier\n",
    "from sklearn.neighbors import KNeighborsClassifier\n",
    "from sklearn.naive_bayes import GaussianNB,MultinomialNB,BernoulliNB\n",
    "from sklearn.datasets import make_hastie_10_2\n",
    "from sklearn.ensemble import GradientBoostingClassifier"
   ]
  },
  {
   "cell_type": "code",
   "execution_count": 2,
   "id": "4051fdab",
   "metadata": {},
   "outputs": [],
   "source": [
    "import numpy as np\n",
    "import pandas as pd\n",
    "import matplotlib.pyplot as plt\n",
    "%matplotlib inline\n",
    "import seaborn as sns\n",
    "import re,json,nltk\n",
    "from sklearn.preprocessing import LabelEncoder\n",
    "from sklearn.feature_extraction.text import TfidfVectorizer\n",
    "from sklearn.model_selection import train_test_split\n",
    "from sklearn.metrics import classification_report,accuracy_score,precision_score,recall_score,f1_score\n",
    "from tensorflow.keras.preprocessing.text import Tokenizer\n",
    "path ='C:/Users/milon/Desktop/nlp6/' \n",
    "stopwords_list = path+'bangla_stopwords.txt'\n"
   ]
  },
  {
   "cell_type": "code",
   "execution_count": 3,
   "id": "85e6450e",
   "metadata": {},
   "outputs": [
    {
     "data": {
      "text/html": [
       "<div>\n",
       "<style scoped>\n",
       "    .dataframe tbody tr th:only-of-type {\n",
       "        vertical-align: middle;\n",
       "    }\n",
       "\n",
       "    .dataframe tbody tr th {\n",
       "        vertical-align: top;\n",
       "    }\n",
       "\n",
       "    .dataframe thead th {\n",
       "        text-align: right;\n",
       "    }\n",
       "</style>\n",
       "<table border=\"1\" class=\"dataframe\">\n",
       "  <thead>\n",
       "    <tr style=\"text-align: right;\">\n",
       "      <th></th>\n",
       "      <th>Comment</th>\n",
       "      <th>Tag</th>\n",
       "    </tr>\n",
       "  </thead>\n",
       "  <tbody>\n",
       "    <tr>\n",
       "      <th>0</th>\n",
       "      <td>আমি অপমানিত বোধ করি।</td>\n",
       "      <td>sadness</td>\n",
       "    </tr>\n",
       "    <tr>\n",
       "      <th>1</th>\n",
       "      <td>আমি খুব নিরাশ বোধ থেকে খুব অভিশপ্ত আশাবাদী হতে পারি শুধুমাত্র যত্নশীল এবং জাগ্রত একজনের আশেপাশে ...</td>\n",
       "      <td>sadness</td>\n",
       "    </tr>\n",
       "    <tr>\n",
       "      <th>2</th>\n",
       "      <td>আমি পোস্ট করার জন্য একটি মিনিট ধরছি আমি লোভী ভুল বোধ করছি।</td>\n",
       "      <td>anger</td>\n",
       "    </tr>\n",
       "    <tr>\n",
       "      <th>3</th>\n",
       "      <td>আমি কখনও অগ্নিকুণ্ড সম্পর্কে নস্টালজিক বোধ করছি আমি জানব যে এটি এখনও সম্পত্তিতে রয়েছে</td>\n",
       "      <td>sadness</td>\n",
       "    </tr>\n",
       "    <tr>\n",
       "      <th>4</th>\n",
       "      <td>আমি অস্থির বোধ করছি</td>\n",
       "      <td>anger</td>\n",
       "    </tr>\n",
       "  </tbody>\n",
       "</table>\n",
       "</div>"
      ],
      "text/plain": [
       "                                                                                               Comment  \\\n",
       "0                                                                                 আমি অপমানিত বোধ করি।   \n",
       "1  আমি খুব নিরাশ বোধ থেকে খুব অভিশপ্ত আশাবাদী হতে পারি শুধুমাত্র যত্নশীল এবং জাগ্রত একজনের আশেপাশে ...   \n",
       "2                                           আমি পোস্ট করার জন্য একটি মিনিট ধরছি আমি লোভী ভুল বোধ করছি।   \n",
       "3               আমি কখনও অগ্নিকুণ্ড সম্পর্কে নস্টালজিক বোধ করছি আমি জানব যে এটি এখনও সম্পত্তিতে রয়েছে   \n",
       "4                                                                                  আমি অস্থির বোধ করছি   \n",
       "\n",
       "       Tag  \n",
       "0  sadness  \n",
       "1  sadness  \n",
       "2    anger  \n",
       "3  sadness  \n",
       "4    anger  "
      ]
     },
     "execution_count": 3,
     "metadata": {},
     "output_type": "execute_result"
    }
   ],
   "source": [
    "data = pd.read_csv(path+'comment_15000.csv')\n",
    "pd.set_option('display.max_colwidth', 100)\n",
    "data.head()"
   ]
  },
  {
   "cell_type": "code",
   "execution_count": null,
   "id": "9095be17",
   "metadata": {},
   "outputs": [],
   "source": []
  },
  {
   "cell_type": "markdown",
   "id": "34fcdd49",
   "metadata": {},
   "source": [
    "# Text Preprocessing "
   ]
  },
  {
   "cell_type": "markdown",
   "id": "c9cad069",
   "metadata": {},
   "source": [
    "### punctuation & URL  remove"
   ]
  },
  {
   "cell_type": "code",
   "execution_count": 4,
   "id": "3d79c0b1",
   "metadata": {},
   "outputs": [
    {
     "data": {
      "text/plain": [
       "'!\"#$%&\\'()*+,-./:;<=>?@[\\\\]^_`{|}~'"
      ]
     },
     "execution_count": 4,
     "metadata": {},
     "output_type": "execute_result"
    }
   ],
   "source": [
    "import string\n",
    "string.punctuation"
   ]
  },
  {
   "cell_type": "code",
   "execution_count": 5,
   "id": "7ef77a50",
   "metadata": {},
   "outputs": [],
   "source": [
    "#from emoji import demojize\n",
    "\n",
    "def remove_punctuation(txt):\n",
    "    #clean_tex = [c for c in txt if c not in string.punctuation]\n",
    "    clean_tex = re.sub('[^\\u0980-\\u09FF]',' ',str(txt))\n",
    "    clean_tex = re.sub(r\"https?://\\S+\", \"\", str(txt))\n",
    "    \n",
    "    clean_text = re.sub(r\"<a[^>]*>(.*?)</a>\", r\"\\1\", txt)\n",
    "    clean_text = re.sub(r\"<.*?>\", \" \", txt)\n",
    "    clean_text = \" \".join(txt.split())\n",
    "    clean_text = \" \".join([w for w in txt.split() if not w.isdigit()])\n",
    "    clean_text = \" \".join([w for w in txt.split() if w.isalpha()])\n",
    "    #clean_text = demojize(txt)\n",
    "    clean_tex = re.sub(r\"\\s+\", \" \", txt)\n",
    "    return clean_tex\n",
    "# https://dylancastillo.co/nlp-snippets-clean-and-tokenize-text-with-python/#lowercase-text"
   ]
  },
  {
   "cell_type": "code",
   "execution_count": 6,
   "id": "40653f04",
   "metadata": {},
   "outputs": [],
   "source": [
    "def remove_punctuation(txt):\n",
    "#     txt_nopunct = [c for c in txt if c not in string.punctuation]\n",
    "    txt_nopunct = re.sub('[^\\u0980-\\u09FF]',' ',str(txt))\n",
    "    return txt_nopunct\n"
   ]
  },
  {
   "cell_type": "code",
   "execution_count": 7,
   "id": "d6ca5022",
   "metadata": {},
   "outputs": [
    {
     "data": {
      "text/html": [
       "<div>\n",
       "<style scoped>\n",
       "    .dataframe tbody tr th:only-of-type {\n",
       "        vertical-align: middle;\n",
       "    }\n",
       "\n",
       "    .dataframe tbody tr th {\n",
       "        vertical-align: top;\n",
       "    }\n",
       "\n",
       "    .dataframe thead th {\n",
       "        text-align: right;\n",
       "    }\n",
       "</style>\n",
       "<table border=\"1\" class=\"dataframe\">\n",
       "  <thead>\n",
       "    <tr style=\"text-align: right;\">\n",
       "      <th></th>\n",
       "      <th>Comment</th>\n",
       "      <th>Tag</th>\n",
       "      <th>msg_clean</th>\n",
       "    </tr>\n",
       "  </thead>\n",
       "  <tbody>\n",
       "    <tr>\n",
       "      <th>0</th>\n",
       "      <td>আমি অপমানিত বোধ করি।</td>\n",
       "      <td>sadness</td>\n",
       "      <td>আমি অপমানিত বোধ করি</td>\n",
       "    </tr>\n",
       "    <tr>\n",
       "      <th>1</th>\n",
       "      <td>আমি খুব নিরাশ বোধ থেকে খুব অভিশপ্ত আশাবাদী হতে পারি শুধুমাত্র যত্নশীল এবং জাগ্রত একজনের আশেপাশে ...</td>\n",
       "      <td>sadness</td>\n",
       "      <td>আমি খুব নিরাশ বোধ থেকে খুব অভিশপ্ত আশাবাদী হতে পারি শুধুমাত্র যত্নশীল এবং জাগ্রত একজনের আশেপাশে ...</td>\n",
       "    </tr>\n",
       "    <tr>\n",
       "      <th>2</th>\n",
       "      <td>আমি পোস্ট করার জন্য একটি মিনিট ধরছি আমি লোভী ভুল বোধ করছি।</td>\n",
       "      <td>anger</td>\n",
       "      <td>আমি পোস্ট করার জন্য একটি মিনিট ধরছি আমি লোভী ভুল বোধ করছি</td>\n",
       "    </tr>\n",
       "    <tr>\n",
       "      <th>3</th>\n",
       "      <td>আমি কখনও অগ্নিকুণ্ড সম্পর্কে নস্টালজিক বোধ করছি আমি জানব যে এটি এখনও সম্পত্তিতে রয়েছে</td>\n",
       "      <td>sadness</td>\n",
       "      <td>আমি কখনও অগ্নিকুণ্ড সম্পর্কে নস্টালজিক বোধ করছি আমি জানব যে এটি এখনও সম্পত্তিতে রয়েছে</td>\n",
       "    </tr>\n",
       "    <tr>\n",
       "      <th>4</th>\n",
       "      <td>আমি অস্থির বোধ করছি</td>\n",
       "      <td>anger</td>\n",
       "      <td>আমি অস্থির বোধ করছি</td>\n",
       "    </tr>\n",
       "  </tbody>\n",
       "</table>\n",
       "</div>"
      ],
      "text/plain": [
       "                                                                                               Comment  \\\n",
       "0                                                                                 আমি অপমানিত বোধ করি।   \n",
       "1  আমি খুব নিরাশ বোধ থেকে খুব অভিশপ্ত আশাবাদী হতে পারি শুধুমাত্র যত্নশীল এবং জাগ্রত একজনের আশেপাশে ...   \n",
       "2                                           আমি পোস্ট করার জন্য একটি মিনিট ধরছি আমি লোভী ভুল বোধ করছি।   \n",
       "3               আমি কখনও অগ্নিকুণ্ড সম্পর্কে নস্টালজিক বোধ করছি আমি জানব যে এটি এখনও সম্পত্তিতে রয়েছে   \n",
       "4                                                                                  আমি অস্থির বোধ করছি   \n",
       "\n",
       "       Tag  \\\n",
       "0  sadness   \n",
       "1  sadness   \n",
       "2    anger   \n",
       "3  sadness   \n",
       "4    anger   \n",
       "\n",
       "                                                                                             msg_clean  \n",
       "0                                                                                 আমি অপমানিত বোধ করি   \n",
       "1  আমি খুব নিরাশ বোধ থেকে খুব অভিশপ্ত আশাবাদী হতে পারি শুধুমাত্র যত্নশীল এবং জাগ্রত একজনের আশেপাশে ...  \n",
       "2                                           আমি পোস্ট করার জন্য একটি মিনিট ধরছি আমি লোভী ভুল বোধ করছি   \n",
       "3               আমি কখনও অগ্নিকুণ্ড সম্পর্কে নস্টালজিক বোধ করছি আমি জানব যে এটি এখনও সম্পত্তিতে রয়েছে  \n",
       "4                                                                                  আমি অস্থির বোধ করছি  "
      ]
     },
     "execution_count": 7,
     "metadata": {},
     "output_type": "execute_result"
    }
   ],
   "source": [
    "data['msg_clean'] = data['Comment'].apply(lambda x: remove_punctuation(x))\n",
    "data.head()"
   ]
  },
  {
   "cell_type": "markdown",
   "id": "0134a462",
   "metadata": {},
   "source": [
    "### Tokenization"
   ]
  },
  {
   "cell_type": "code",
   "execution_count": 8,
   "id": "fc468f07",
   "metadata": {
    "scrolled": false
   },
   "outputs": [
    {
     "name": "stderr",
     "output_type": "stream",
     "text": [
      "C:\\Users\\milon\\anaconda3\\lib\\site-packages\\gensim\\similarities\\__init__.py:15: UserWarning: The gensim.similarities.levenshtein submodule is disabled, because the optional Levenshtein package <https://pypi.org/project/python-Levenshtein/> is unavailable. Install Levenhstein (e.g. `pip install python-Levenshtein`) to suppress this warning.\n",
      "  warnings.warn(msg)\n"
     ]
    },
    {
     "data": {
      "text/html": [
       "<div>\n",
       "<style scoped>\n",
       "    .dataframe tbody tr th:only-of-type {\n",
       "        vertical-align: middle;\n",
       "    }\n",
       "\n",
       "    .dataframe tbody tr th {\n",
       "        vertical-align: top;\n",
       "    }\n",
       "\n",
       "    .dataframe thead th {\n",
       "        text-align: right;\n",
       "    }\n",
       "</style>\n",
       "<table border=\"1\" class=\"dataframe\">\n",
       "  <thead>\n",
       "    <tr style=\"text-align: right;\">\n",
       "      <th></th>\n",
       "      <th>Comment</th>\n",
       "      <th>Tag</th>\n",
       "      <th>msg_clean</th>\n",
       "      <th>msg_clean_word_tokenize</th>\n",
       "    </tr>\n",
       "  </thead>\n",
       "  <tbody>\n",
       "    <tr>\n",
       "      <th>0</th>\n",
       "      <td>আমি অপমানিত বোধ করি।</td>\n",
       "      <td>sadness</td>\n",
       "      <td>আমি অপমানিত বোধ করি</td>\n",
       "      <td>[আমি, অপমানিত, বোধ, করি]</td>\n",
       "    </tr>\n",
       "    <tr>\n",
       "      <th>1</th>\n",
       "      <td>আমি খুব নিরাশ বোধ থেকে খুব অভিশপ্ত আশাবাদী হতে পারি শুধুমাত্র যত্নশীল এবং জাগ্রত একজনের আশেপাশে ...</td>\n",
       "      <td>sadness</td>\n",
       "      <td>আমি খুব নিরাশ বোধ থেকে খুব অভিশপ্ত আশাবাদী হতে পারি শুধুমাত্র যত্নশীল এবং জাগ্রত একজনের আশেপাশে ...</td>\n",
       "      <td>[আমি, খুব, নিরাশ, বোধ, থেকে, খুব, অভিশপ্ত, আশাবাদী, হতে, পারি, শুধুমাত্র, যত্নশীল, এবং, জাগ্রত, ...</td>\n",
       "    </tr>\n",
       "    <tr>\n",
       "      <th>2</th>\n",
       "      <td>আমি পোস্ট করার জন্য একটি মিনিট ধরছি আমি লোভী ভুল বোধ করছি।</td>\n",
       "      <td>anger</td>\n",
       "      <td>আমি পোস্ট করার জন্য একটি মিনিট ধরছি আমি লোভী ভুল বোধ করছি</td>\n",
       "      <td>[আমি, পোস্ট, করার, জন্য, একটি, মিনিট, ধরছি, আমি, লোভী, ভুল, বোধ, করছি]</td>\n",
       "    </tr>\n",
       "    <tr>\n",
       "      <th>3</th>\n",
       "      <td>আমি কখনও অগ্নিকুণ্ড সম্পর্কে নস্টালজিক বোধ করছি আমি জানব যে এটি এখনও সম্পত্তিতে রয়েছে</td>\n",
       "      <td>sadness</td>\n",
       "      <td>আমি কখনও অগ্নিকুণ্ড সম্পর্কে নস্টালজিক বোধ করছি আমি জানব যে এটি এখনও সম্পত্তিতে রয়েছে</td>\n",
       "      <td>[আমি, কখনও, অগ্নিকুণ্ড, সম্পর্কে, নস্টালজিক, বোধ, করছি, আমি, জানব, যে, এটি, এখনও, সম্পত্তিতে, রয...</td>\n",
       "    </tr>\n",
       "    <tr>\n",
       "      <th>4</th>\n",
       "      <td>আমি অস্থির বোধ করছি</td>\n",
       "      <td>anger</td>\n",
       "      <td>আমি অস্থির বোধ করছি</td>\n",
       "      <td>[আমি, অস্থির, বোধ, করছি]</td>\n",
       "    </tr>\n",
       "  </tbody>\n",
       "</table>\n",
       "</div>"
      ],
      "text/plain": [
       "                                                                                               Comment  \\\n",
       "0                                                                                 আমি অপমানিত বোধ করি।   \n",
       "1  আমি খুব নিরাশ বোধ থেকে খুব অভিশপ্ত আশাবাদী হতে পারি শুধুমাত্র যত্নশীল এবং জাগ্রত একজনের আশেপাশে ...   \n",
       "2                                           আমি পোস্ট করার জন্য একটি মিনিট ধরছি আমি লোভী ভুল বোধ করছি।   \n",
       "3               আমি কখনও অগ্নিকুণ্ড সম্পর্কে নস্টালজিক বোধ করছি আমি জানব যে এটি এখনও সম্পত্তিতে রয়েছে   \n",
       "4                                                                                  আমি অস্থির বোধ করছি   \n",
       "\n",
       "       Tag  \\\n",
       "0  sadness   \n",
       "1  sadness   \n",
       "2    anger   \n",
       "3  sadness   \n",
       "4    anger   \n",
       "\n",
       "                                                                                             msg_clean  \\\n",
       "0                                                                                 আমি অপমানিত বোধ করি    \n",
       "1  আমি খুব নিরাশ বোধ থেকে খুব অভিশপ্ত আশাবাদী হতে পারি শুধুমাত্র যত্নশীল এবং জাগ্রত একজনের আশেপাশে ...   \n",
       "2                                           আমি পোস্ট করার জন্য একটি মিনিট ধরছি আমি লোভী ভুল বোধ করছি    \n",
       "3               আমি কখনও অগ্নিকুণ্ড সম্পর্কে নস্টালজিক বোধ করছি আমি জানব যে এটি এখনও সম্পত্তিতে রয়েছে   \n",
       "4                                                                                  আমি অস্থির বোধ করছি   \n",
       "\n",
       "                                                                               msg_clean_word_tokenize  \n",
       "0                                                                             [আমি, অপমানিত, বোধ, করি]  \n",
       "1  [আমি, খুব, নিরাশ, বোধ, থেকে, খুব, অভিশপ্ত, আশাবাদী, হতে, পারি, শুধুমাত্র, যত্নশীল, এবং, জাগ্রত, ...  \n",
       "2                               [আমি, পোস্ট, করার, জন্য, একটি, মিনিট, ধরছি, আমি, লোভী, ভুল, বোধ, করছি]  \n",
       "3  [আমি, কখনও, অগ্নিকুণ্ড, সম্পর্কে, নস্টালজিক, বোধ, করছি, আমি, জানব, যে, এটি, এখনও, সম্পত্তিতে, রয...  \n",
       "4                                                                             [আমি, অস্থির, বোধ, করছি]  "
      ]
     },
     "execution_count": 8,
     "metadata": {},
     "output_type": "execute_result"
    }
   ],
   "source": [
    "from bnlp import NLTKTokenizer\n",
    "\n",
    "bnltk = NLTKTokenizer()\n",
    "\n",
    "# text = \"আমি ভাত খাই। সে বাজারে যায়। তিনি কি সত্যিই ভালো মানুষ?\"\n",
    "\n",
    "# word_tokens = bnltk.word_tokenize(text)\n",
    "# sentence_tokens = bnltk.sentence_tokenize(text)\n",
    "# print(word_tokens)\n",
    "# print(sentence_tokens)\n",
    "\n",
    "data['msg_clean_word_tokenize'] = data['msg_clean'].apply(lambda x: bnltk.word_tokenize(x.lower()))\n",
    "data.head()\n"
   ]
  },
  {
   "cell_type": "code",
   "execution_count": 9,
   "id": "c74ef165",
   "metadata": {},
   "outputs": [],
   "source": [
    "# data['msg_clean_sen_tokenize'] = data['msg_clean'].apply(lambda x: bnltk.sentence_tokenize(x.lower()))\n",
    "# data.head()"
   ]
  },
  {
   "cell_type": "code",
   "execution_count": 10,
   "id": "23cfe86f",
   "metadata": {},
   "outputs": [],
   "source": [
    "# import nltk\n",
    "# from nltk.corpus import stopwords\n",
    "# print(stopwords.words('bengali'))"
   ]
  },
  {
   "cell_type": "markdown",
   "id": "6c17ad1c",
   "metadata": {},
   "source": [
    "###  remove stop words এবং, খুব, থেকেএসব বাদ যাবে"
   ]
  },
  {
   "cell_type": "code",
   "execution_count": 11,
   "id": "b887e6c4",
   "metadata": {},
   "outputs": [],
   "source": [
    "stopwords = nltk.corpus.stopwords.words('bengali')\n",
    "def remove_stopwords(txt_tokenized):\n",
    "    txt_clean = [word for word in txt_tokenized if word not in stopwords]\n",
    "    return txt_clean\n",
    "data['msg_no_sw'] = data['msg_clean_word_tokenize'].apply(lambda x: remove_stopwords(x)) # msg_no_sw = msg no stop word"
   ]
  },
  {
   "cell_type": "code",
   "execution_count": 12,
   "id": "c196e3cb",
   "metadata": {},
   "outputs": [
    {
     "data": {
      "text/html": [
       "<div>\n",
       "<style scoped>\n",
       "    .dataframe tbody tr th:only-of-type {\n",
       "        vertical-align: middle;\n",
       "    }\n",
       "\n",
       "    .dataframe tbody tr th {\n",
       "        vertical-align: top;\n",
       "    }\n",
       "\n",
       "    .dataframe thead th {\n",
       "        text-align: right;\n",
       "    }\n",
       "</style>\n",
       "<table border=\"1\" class=\"dataframe\">\n",
       "  <thead>\n",
       "    <tr style=\"text-align: right;\">\n",
       "      <th></th>\n",
       "      <th>Comment</th>\n",
       "      <th>Tag</th>\n",
       "      <th>msg_clean</th>\n",
       "      <th>msg_clean_word_tokenize</th>\n",
       "      <th>msg_no_sw</th>\n",
       "    </tr>\n",
       "  </thead>\n",
       "  <tbody>\n",
       "    <tr>\n",
       "      <th>0</th>\n",
       "      <td>আমি অপমানিত বোধ করি।</td>\n",
       "      <td>sadness</td>\n",
       "      <td>আমি অপমানিত বোধ করি</td>\n",
       "      <td>[আমি, অপমানিত, বোধ, করি]</td>\n",
       "      <td>[অপমানিত, বোধ]</td>\n",
       "    </tr>\n",
       "    <tr>\n",
       "      <th>1</th>\n",
       "      <td>আমি খুব নিরাশ বোধ থেকে খুব অভিশপ্ত আশাবাদী হতে পারি শুধুমাত্র যত্নশীল এবং জাগ্রত একজনের আশেপাশে ...</td>\n",
       "      <td>sadness</td>\n",
       "      <td>আমি খুব নিরাশ বোধ থেকে খুব অভিশপ্ত আশাবাদী হতে পারি শুধুমাত্র যত্নশীল এবং জাগ্রত একজনের আশেপাশে ...</td>\n",
       "      <td>[আমি, খুব, নিরাশ, বোধ, থেকে, খুব, অভিশপ্ত, আশাবাদী, হতে, পারি, শুধুমাত্র, যত্নশীল, এবং, জাগ্রত, ...</td>\n",
       "      <td>[নিরাশ, বোধ, অভিশপ্ত, আশাবাদী, শুধুমাত্র, যত্নশীল, জাগ্রত, একজনের, আশেপাশে]</td>\n",
       "    </tr>\n",
       "    <tr>\n",
       "      <th>2</th>\n",
       "      <td>আমি পোস্ট করার জন্য একটি মিনিট ধরছি আমি লোভী ভুল বোধ করছি।</td>\n",
       "      <td>anger</td>\n",
       "      <td>আমি পোস্ট করার জন্য একটি মিনিট ধরছি আমি লোভী ভুল বোধ করছি</td>\n",
       "      <td>[আমি, পোস্ট, করার, জন্য, একটি, মিনিট, ধরছি, আমি, লোভী, ভুল, বোধ, করছি]</td>\n",
       "      <td>[পোস্ট, মিনিট, ধরছি, লোভী, ভুল, বোধ, করছি]</td>\n",
       "    </tr>\n",
       "    <tr>\n",
       "      <th>3</th>\n",
       "      <td>আমি কখনও অগ্নিকুণ্ড সম্পর্কে নস্টালজিক বোধ করছি আমি জানব যে এটি এখনও সম্পত্তিতে রয়েছে</td>\n",
       "      <td>sadness</td>\n",
       "      <td>আমি কখনও অগ্নিকুণ্ড সম্পর্কে নস্টালজিক বোধ করছি আমি জানব যে এটি এখনও সম্পত্তিতে রয়েছে</td>\n",
       "      <td>[আমি, কখনও, অগ্নিকুণ্ড, সম্পর্কে, নস্টালজিক, বোধ, করছি, আমি, জানব, যে, এটি, এখনও, সম্পত্তিতে, রয...</td>\n",
       "      <td>[অগ্নিকুণ্ড, সম্পর্কে, নস্টালজিক, বোধ, করছি, জানব, সম্পত্তিতে]</td>\n",
       "    </tr>\n",
       "    <tr>\n",
       "      <th>4</th>\n",
       "      <td>আমি অস্থির বোধ করছি</td>\n",
       "      <td>anger</td>\n",
       "      <td>আমি অস্থির বোধ করছি</td>\n",
       "      <td>[আমি, অস্থির, বোধ, করছি]</td>\n",
       "      <td>[অস্থির, বোধ, করছি]</td>\n",
       "    </tr>\n",
       "  </tbody>\n",
       "</table>\n",
       "</div>"
      ],
      "text/plain": [
       "                                                                                               Comment  \\\n",
       "0                                                                                 আমি অপমানিত বোধ করি।   \n",
       "1  আমি খুব নিরাশ বোধ থেকে খুব অভিশপ্ত আশাবাদী হতে পারি শুধুমাত্র যত্নশীল এবং জাগ্রত একজনের আশেপাশে ...   \n",
       "2                                           আমি পোস্ট করার জন্য একটি মিনিট ধরছি আমি লোভী ভুল বোধ করছি।   \n",
       "3               আমি কখনও অগ্নিকুণ্ড সম্পর্কে নস্টালজিক বোধ করছি আমি জানব যে এটি এখনও সম্পত্তিতে রয়েছে   \n",
       "4                                                                                  আমি অস্থির বোধ করছি   \n",
       "\n",
       "       Tag  \\\n",
       "0  sadness   \n",
       "1  sadness   \n",
       "2    anger   \n",
       "3  sadness   \n",
       "4    anger   \n",
       "\n",
       "                                                                                             msg_clean  \\\n",
       "0                                                                                 আমি অপমানিত বোধ করি    \n",
       "1  আমি খুব নিরাশ বোধ থেকে খুব অভিশপ্ত আশাবাদী হতে পারি শুধুমাত্র যত্নশীল এবং জাগ্রত একজনের আশেপাশে ...   \n",
       "2                                           আমি পোস্ট করার জন্য একটি মিনিট ধরছি আমি লোভী ভুল বোধ করছি    \n",
       "3               আমি কখনও অগ্নিকুণ্ড সম্পর্কে নস্টালজিক বোধ করছি আমি জানব যে এটি এখনও সম্পত্তিতে রয়েছে   \n",
       "4                                                                                  আমি অস্থির বোধ করছি   \n",
       "\n",
       "                                                                               msg_clean_word_tokenize  \\\n",
       "0                                                                             [আমি, অপমানিত, বোধ, করি]   \n",
       "1  [আমি, খুব, নিরাশ, বোধ, থেকে, খুব, অভিশপ্ত, আশাবাদী, হতে, পারি, শুধুমাত্র, যত্নশীল, এবং, জাগ্রত, ...   \n",
       "2                               [আমি, পোস্ট, করার, জন্য, একটি, মিনিট, ধরছি, আমি, লোভী, ভুল, বোধ, করছি]   \n",
       "3  [আমি, কখনও, অগ্নিকুণ্ড, সম্পর্কে, নস্টালজিক, বোধ, করছি, আমি, জানব, যে, এটি, এখনও, সম্পত্তিতে, রয...   \n",
       "4                                                                             [আমি, অস্থির, বোধ, করছি]   \n",
       "\n",
       "                                                                     msg_no_sw  \n",
       "0                                                               [অপমানিত, বোধ]  \n",
       "1  [নিরাশ, বোধ, অভিশপ্ত, আশাবাদী, শুধুমাত্র, যত্নশীল, জাগ্রত, একজনের, আশেপাশে]  \n",
       "2                                   [পোস্ট, মিনিট, ধরছি, লোভী, ভুল, বোধ, করছি]  \n",
       "3               [অগ্নিকুণ্ড, সম্পর্কে, নস্টালজিক, বোধ, করছি, জানব, সম্পত্তিতে]  \n",
       "4                                                          [অস্থির, বোধ, করছি]  "
      ]
     },
     "execution_count": 12,
     "metadata": {},
     "output_type": "execute_result"
    }
   ],
   "source": [
    "data.head()"
   ]
  },
  {
   "cell_type": "markdown",
   "id": "6168a312",
   "metadata": {},
   "source": [
    "### Steemmer  (availabel = avail)\n"
   ]
  },
  {
   "cell_type": "code",
   "execution_count": 13,
   "id": "81f62317",
   "metadata": {},
   "outputs": [],
   "source": [
    "#import nltk\n",
    "from nltk.stem import PorterStemmer\n",
    "ps = PorterStemmer()\n",
    "\n",
    "def stemming(tokenized_text):\n",
    "    text = [ps.stem(word) for word in tokenized_text]\n",
    "    return text\n",
    "\n",
    "data['msg_stemmed'] = data['msg_no_sw'].apply(lambda x: stemming(x))"
   ]
  },
  {
   "cell_type": "code",
   "execution_count": 14,
   "id": "d8a0de96",
   "metadata": {},
   "outputs": [
    {
     "data": {
      "text/html": [
       "<div>\n",
       "<style scoped>\n",
       "    .dataframe tbody tr th:only-of-type {\n",
       "        vertical-align: middle;\n",
       "    }\n",
       "\n",
       "    .dataframe tbody tr th {\n",
       "        vertical-align: top;\n",
       "    }\n",
       "\n",
       "    .dataframe thead th {\n",
       "        text-align: right;\n",
       "    }\n",
       "</style>\n",
       "<table border=\"1\" class=\"dataframe\">\n",
       "  <thead>\n",
       "    <tr style=\"text-align: right;\">\n",
       "      <th></th>\n",
       "      <th>Comment</th>\n",
       "      <th>Tag</th>\n",
       "      <th>msg_clean</th>\n",
       "      <th>msg_clean_word_tokenize</th>\n",
       "      <th>msg_no_sw</th>\n",
       "      <th>msg_stemmed</th>\n",
       "    </tr>\n",
       "  </thead>\n",
       "  <tbody>\n",
       "    <tr>\n",
       "      <th>0</th>\n",
       "      <td>আমি অপমানিত বোধ করি।</td>\n",
       "      <td>sadness</td>\n",
       "      <td>আমি অপমানিত বোধ করি</td>\n",
       "      <td>[আমি, অপমানিত, বোধ, করি]</td>\n",
       "      <td>[অপমানিত, বোধ]</td>\n",
       "      <td>[অপমানিত, বোধ]</td>\n",
       "    </tr>\n",
       "    <tr>\n",
       "      <th>1</th>\n",
       "      <td>আমি খুব নিরাশ বোধ থেকে খুব অভিশপ্ত আশাবাদী হতে পারি শুধুমাত্র যত্নশীল এবং জাগ্রত একজনের আশেপাশে ...</td>\n",
       "      <td>sadness</td>\n",
       "      <td>আমি খুব নিরাশ বোধ থেকে খুব অভিশপ্ত আশাবাদী হতে পারি শুধুমাত্র যত্নশীল এবং জাগ্রত একজনের আশেপাশে ...</td>\n",
       "      <td>[আমি, খুব, নিরাশ, বোধ, থেকে, খুব, অভিশপ্ত, আশাবাদী, হতে, পারি, শুধুমাত্র, যত্নশীল, এবং, জাগ্রত, ...</td>\n",
       "      <td>[নিরাশ, বোধ, অভিশপ্ত, আশাবাদী, শুধুমাত্র, যত্নশীল, জাগ্রত, একজনের, আশেপাশে]</td>\n",
       "      <td>[নিরাশ, বোধ, অভিশপ্ত, আশাবাদী, শুধুমাত্র, যত্নশীল, জাগ্রত, একজনের, আশেপাশে]</td>\n",
       "    </tr>\n",
       "    <tr>\n",
       "      <th>2</th>\n",
       "      <td>আমি পোস্ট করার জন্য একটি মিনিট ধরছি আমি লোভী ভুল বোধ করছি।</td>\n",
       "      <td>anger</td>\n",
       "      <td>আমি পোস্ট করার জন্য একটি মিনিট ধরছি আমি লোভী ভুল বোধ করছি</td>\n",
       "      <td>[আমি, পোস্ট, করার, জন্য, একটি, মিনিট, ধরছি, আমি, লোভী, ভুল, বোধ, করছি]</td>\n",
       "      <td>[পোস্ট, মিনিট, ধরছি, লোভী, ভুল, বোধ, করছি]</td>\n",
       "      <td>[পোস্ট, মিনিট, ধরছি, লোভী, ভুল, বোধ, করছি]</td>\n",
       "    </tr>\n",
       "    <tr>\n",
       "      <th>3</th>\n",
       "      <td>আমি কখনও অগ্নিকুণ্ড সম্পর্কে নস্টালজিক বোধ করছি আমি জানব যে এটি এখনও সম্পত্তিতে রয়েছে</td>\n",
       "      <td>sadness</td>\n",
       "      <td>আমি কখনও অগ্নিকুণ্ড সম্পর্কে নস্টালজিক বোধ করছি আমি জানব যে এটি এখনও সম্পত্তিতে রয়েছে</td>\n",
       "      <td>[আমি, কখনও, অগ্নিকুণ্ড, সম্পর্কে, নস্টালজিক, বোধ, করছি, আমি, জানব, যে, এটি, এখনও, সম্পত্তিতে, রয...</td>\n",
       "      <td>[অগ্নিকুণ্ড, সম্পর্কে, নস্টালজিক, বোধ, করছি, জানব, সম্পত্তিতে]</td>\n",
       "      <td>[অগ্নিকুণ্ড, সম্পর্কে, নস্টালজিক, বোধ, করছি, জানব, সম্পত্তিতে]</td>\n",
       "    </tr>\n",
       "    <tr>\n",
       "      <th>4</th>\n",
       "      <td>আমি অস্থির বোধ করছি</td>\n",
       "      <td>anger</td>\n",
       "      <td>আমি অস্থির বোধ করছি</td>\n",
       "      <td>[আমি, অস্থির, বোধ, করছি]</td>\n",
       "      <td>[অস্থির, বোধ, করছি]</td>\n",
       "      <td>[অস্থির, বোধ, করছি]</td>\n",
       "    </tr>\n",
       "    <tr>\n",
       "      <th>5</th>\n",
       "      <td>আমি ইদানীং কিছুটা বোঝা বোধ করছি কেন তা ছিল তা নিশ্চিত নই।</td>\n",
       "      <td>sadness</td>\n",
       "      <td>আমি ইদানীং কিছুটা বোঝা বোধ করছি কেন তা ছিল তা নিশ্চিত নই</td>\n",
       "      <td>[আমি, ইদানীং, কিছুটা, বোঝা, বোধ, করছি, কেন, তা, ছিল, তা, নিশ্চিত, নই]</td>\n",
       "      <td>[ইদানীং, কিছুটা, বোঝা, বোধ, করছি, নিশ্চিত, নই]</td>\n",
       "      <td>[ইদানীং, কিছুটা, বোঝা, বোধ, করছি, নিশ্চিত, নই]</td>\n",
       "    </tr>\n",
       "    <tr>\n",
       "      <th>6</th>\n",
       "      <td>আমি একজন কিশোর হিসাবে জীবন সম্পর্কে বিভ্রান্ত বোধ করি বা একজন বছরের বৃদ্ধের মতো হতাশ।</td>\n",
       "      <td>fear</td>\n",
       "      <td>আমি একজন কিশোর হিসাবে জীবন সম্পর্কে বিভ্রান্ত বোধ করি বা একজন বছরের বৃদ্ধের মতো হতাশ</td>\n",
       "      <td>[আমি, একজন, কিশোর, হিসাবে, জীবন, সম্পর্কে, বিভ্রান্ত, বোধ, করি, বা, একজন, বছরের, বৃদ্ধের, মতো, হ...</td>\n",
       "      <td>[একজন, কিশোর, জীবন, সম্পর্কে, বিভ্রান্ত, বোধ, একজন, বছরের, বৃদ্ধের, হতাশ]</td>\n",
       "      <td>[একজন, কিশোর, জীবন, সম্পর্কে, বিভ্রান্ত, বোধ, একজন, বছরের, বৃদ্ধের, হতাশ]</td>\n",
       "    </tr>\n",
       "    <tr>\n",
       "      <th>7</th>\n",
       "      <td>আমি বছরের পর বছর ধরে পেট্রোনাসের সাথে আছি আমি মনে করি পেট্রোনাস ভাল পারফর্ম করেছে এবং প্রচুর লাভ...</td>\n",
       "      <td>happy</td>\n",
       "      <td>আমি বছরের পর বছর ধরে পেট্রোনাসের সাথে আছি আমি মনে করি পেট্রোনাস ভাল পারফর্ম করেছে এবং প্রচুর লাভ...</td>\n",
       "      <td>[আমি, বছরের, পর, বছর, ধরে, পেট্রোনাসের, সাথে, আছি, আমি, মনে, করি, পেট্রোনাস, ভাল, পারফর্ম, করেছে...</td>\n",
       "      <td>[বছরের, বছর, পেট্রোনাসের, সাথে, আছি, পেট্রোনাস, ভাল, পারফর্ম, প্রচুর, লাভ]</td>\n",
       "      <td>[বছরের, বছর, পেট্রোনাসের, সাথে, আছি, পেট্রোনাস, ভাল, পারফর্ম, প্রচুর, লাভ]</td>\n",
       "    </tr>\n",
       "    <tr>\n",
       "      <th>8</th>\n",
       "      <td>আমিও রোমান্টিক বোধ করি।</td>\n",
       "      <td>love</td>\n",
       "      <td>আমিও রোমান্টিক বোধ করি</td>\n",
       "      <td>[আমিও, রোমান্টিক, বোধ, করি]</td>\n",
       "      <td>[আমিও, রোমান্টিক, বোধ]</td>\n",
       "      <td>[আমিও, রোমান্টিক, বোধ]</td>\n",
       "    </tr>\n",
       "    <tr>\n",
       "      <th>9</th>\n",
       "      <td>আমি মনে করি যে, আমি কিছু একটা দেখছি সেই কষ্টটা আমাকে করতে হবে।</td>\n",
       "      <td>sadness</td>\n",
       "      <td>আমি মনে করি যে  আমি কিছু একটা দেখছি সেই কষ্টটা আমাকে করতে হবে</td>\n",
       "      <td>[আমি, মনে, করি, যে, আমি, কিছু, একটা, দেখছি, সেই, কষ্টটা, আমাকে, করতে, হবে]</td>\n",
       "      <td>[একটা, দেখছি, কষ্টটা]</td>\n",
       "      <td>[একটা, দেখছি, কষ্টটা]</td>\n",
       "    </tr>\n",
       "  </tbody>\n",
       "</table>\n",
       "</div>"
      ],
      "text/plain": [
       "                                                                                               Comment  \\\n",
       "0                                                                                 আমি অপমানিত বোধ করি।   \n",
       "1  আমি খুব নিরাশ বোধ থেকে খুব অভিশপ্ত আশাবাদী হতে পারি শুধুমাত্র যত্নশীল এবং জাগ্রত একজনের আশেপাশে ...   \n",
       "2                                           আমি পোস্ট করার জন্য একটি মিনিট ধরছি আমি লোভী ভুল বোধ করছি।   \n",
       "3               আমি কখনও অগ্নিকুণ্ড সম্পর্কে নস্টালজিক বোধ করছি আমি জানব যে এটি এখনও সম্পত্তিতে রয়েছে   \n",
       "4                                                                                  আমি অস্থির বোধ করছি   \n",
       "5                                            আমি ইদানীং কিছুটা বোঝা বোধ করছি কেন তা ছিল তা নিশ্চিত নই।   \n",
       "6                আমি একজন কিশোর হিসাবে জীবন সম্পর্কে বিভ্রান্ত বোধ করি বা একজন বছরের বৃদ্ধের মতো হতাশ।   \n",
       "7  আমি বছরের পর বছর ধরে পেট্রোনাসের সাথে আছি আমি মনে করি পেট্রোনাস ভাল পারফর্ম করেছে এবং প্রচুর লাভ...   \n",
       "8                                                                              আমিও রোমান্টিক বোধ করি।   \n",
       "9                                       আমি মনে করি যে, আমি কিছু একটা দেখছি সেই কষ্টটা আমাকে করতে হবে।   \n",
       "\n",
       "       Tag  \\\n",
       "0  sadness   \n",
       "1  sadness   \n",
       "2    anger   \n",
       "3  sadness   \n",
       "4    anger   \n",
       "5  sadness   \n",
       "6     fear   \n",
       "7    happy   \n",
       "8     love   \n",
       "9  sadness   \n",
       "\n",
       "                                                                                             msg_clean  \\\n",
       "0                                                                                 আমি অপমানিত বোধ করি    \n",
       "1  আমি খুব নিরাশ বোধ থেকে খুব অভিশপ্ত আশাবাদী হতে পারি শুধুমাত্র যত্নশীল এবং জাগ্রত একজনের আশেপাশে ...   \n",
       "2                                           আমি পোস্ট করার জন্য একটি মিনিট ধরছি আমি লোভী ভুল বোধ করছি    \n",
       "3               আমি কখনও অগ্নিকুণ্ড সম্পর্কে নস্টালজিক বোধ করছি আমি জানব যে এটি এখনও সম্পত্তিতে রয়েছে   \n",
       "4                                                                                  আমি অস্থির বোধ করছি   \n",
       "5                                            আমি ইদানীং কিছুটা বোঝা বোধ করছি কেন তা ছিল তা নিশ্চিত নই    \n",
       "6                আমি একজন কিশোর হিসাবে জীবন সম্পর্কে বিভ্রান্ত বোধ করি বা একজন বছরের বৃদ্ধের মতো হতাশ    \n",
       "7  আমি বছরের পর বছর ধরে পেট্রোনাসের সাথে আছি আমি মনে করি পেট্রোনাস ভাল পারফর্ম করেছে এবং প্রচুর লাভ...   \n",
       "8                                                                              আমিও রোমান্টিক বোধ করি    \n",
       "9                                       আমি মনে করি যে  আমি কিছু একটা দেখছি সেই কষ্টটা আমাকে করতে হবে    \n",
       "\n",
       "                                                                               msg_clean_word_tokenize  \\\n",
       "0                                                                             [আমি, অপমানিত, বোধ, করি]   \n",
       "1  [আমি, খুব, নিরাশ, বোধ, থেকে, খুব, অভিশপ্ত, আশাবাদী, হতে, পারি, শুধুমাত্র, যত্নশীল, এবং, জাগ্রত, ...   \n",
       "2                               [আমি, পোস্ট, করার, জন্য, একটি, মিনিট, ধরছি, আমি, লোভী, ভুল, বোধ, করছি]   \n",
       "3  [আমি, কখনও, অগ্নিকুণ্ড, সম্পর্কে, নস্টালজিক, বোধ, করছি, আমি, জানব, যে, এটি, এখনও, সম্পত্তিতে, রয...   \n",
       "4                                                                             [আমি, অস্থির, বোধ, করছি]   \n",
       "5                                [আমি, ইদানীং, কিছুটা, বোঝা, বোধ, করছি, কেন, তা, ছিল, তা, নিশ্চিত, নই]   \n",
       "6  [আমি, একজন, কিশোর, হিসাবে, জীবন, সম্পর্কে, বিভ্রান্ত, বোধ, করি, বা, একজন, বছরের, বৃদ্ধের, মতো, হ...   \n",
       "7  [আমি, বছরের, পর, বছর, ধরে, পেট্রোনাসের, সাথে, আছি, আমি, মনে, করি, পেট্রোনাস, ভাল, পারফর্ম, করেছে...   \n",
       "8                                                                          [আমিও, রোমান্টিক, বোধ, করি]   \n",
       "9                           [আমি, মনে, করি, যে, আমি, কিছু, একটা, দেখছি, সেই, কষ্টটা, আমাকে, করতে, হবে]   \n",
       "\n",
       "                                                                     msg_no_sw  \\\n",
       "0                                                               [অপমানিত, বোধ]   \n",
       "1  [নিরাশ, বোধ, অভিশপ্ত, আশাবাদী, শুধুমাত্র, যত্নশীল, জাগ্রত, একজনের, আশেপাশে]   \n",
       "2                                   [পোস্ট, মিনিট, ধরছি, লোভী, ভুল, বোধ, করছি]   \n",
       "3               [অগ্নিকুণ্ড, সম্পর্কে, নস্টালজিক, বোধ, করছি, জানব, সম্পত্তিতে]   \n",
       "4                                                          [অস্থির, বোধ, করছি]   \n",
       "5                               [ইদানীং, কিছুটা, বোঝা, বোধ, করছি, নিশ্চিত, নই]   \n",
       "6    [একজন, কিশোর, জীবন, সম্পর্কে, বিভ্রান্ত, বোধ, একজন, বছরের, বৃদ্ধের, হতাশ]   \n",
       "7   [বছরের, বছর, পেট্রোনাসের, সাথে, আছি, পেট্রোনাস, ভাল, পারফর্ম, প্রচুর, লাভ]   \n",
       "8                                                       [আমিও, রোমান্টিক, বোধ]   \n",
       "9                                                        [একটা, দেখছি, কষ্টটা]   \n",
       "\n",
       "                                                                   msg_stemmed  \n",
       "0                                                               [অপমানিত, বোধ]  \n",
       "1  [নিরাশ, বোধ, অভিশপ্ত, আশাবাদী, শুধুমাত্র, যত্নশীল, জাগ্রত, একজনের, আশেপাশে]  \n",
       "2                                   [পোস্ট, মিনিট, ধরছি, লোভী, ভুল, বোধ, করছি]  \n",
       "3               [অগ্নিকুণ্ড, সম্পর্কে, নস্টালজিক, বোধ, করছি, জানব, সম্পত্তিতে]  \n",
       "4                                                          [অস্থির, বোধ, করছি]  \n",
       "5                               [ইদানীং, কিছুটা, বোঝা, বোধ, করছি, নিশ্চিত, নই]  \n",
       "6    [একজন, কিশোর, জীবন, সম্পর্কে, বিভ্রান্ত, বোধ, একজন, বছরের, বৃদ্ধের, হতাশ]  \n",
       "7   [বছরের, বছর, পেট্রোনাসের, সাথে, আছি, পেট্রোনাস, ভাল, পারফর্ম, প্রচুর, লাভ]  \n",
       "8                                                       [আমিও, রোমান্টিক, বোধ]  \n",
       "9                                                        [একটা, দেখছি, কষ্টটা]  "
      ]
     },
     "execution_count": 14,
     "metadata": {},
     "output_type": "execute_result"
    }
   ],
   "source": [
    "data.head(10)"
   ]
  },
  {
   "cell_type": "code",
   "execution_count": 15,
   "id": "51069730",
   "metadata": {},
   "outputs": [],
   "source": [
    "# #import nltk\n",
    "# from bangla_stemmer.stemmer import stemmer\n",
    "# stmr = stemmer.BanglaStemmer()\n",
    "\n",
    "# def stemming(tokenized_text):\n",
    "#     text = [stmr.stem(word) for word in tokenized_text]\n",
    "#     return text\n",
    "\n",
    "# data['msg_stemmed'] = data['msg_no_sw'].apply(lambda x: stemming(x))\n"
   ]
  },
  {
   "cell_type": "code",
   "execution_count": 16,
   "id": "2c40abcd",
   "metadata": {},
   "outputs": [],
   "source": [
    "# from bangla_stemmer.stemmer import stemmer\n",
    "# wordlist = ['কবিরগুলিকে', 'আমাকে', 'নামাবার']\n",
    "# stmr = stemmer.BanglaStemmer()\n",
    "# stm = stmr.stem(wordlist)\n",
    "# print(stm)"
   ]
  },
  {
   "cell_type": "markdown",
   "id": "6607db34",
   "metadata": {},
   "source": [
    "### Lemmatization\n"
   ]
  },
  {
   "cell_type": "code",
   "execution_count": 17,
   "id": "8d79a9f5",
   "metadata": {
    "scrolled": true
   },
   "outputs": [
    {
     "data": {
      "text/plain": [
       "['__class__',\n",
       " '__delattr__',\n",
       " '__dict__',\n",
       " '__dir__',\n",
       " '__doc__',\n",
       " '__eq__',\n",
       " '__format__',\n",
       " '__ge__',\n",
       " '__getattribute__',\n",
       " '__gt__',\n",
       " '__hash__',\n",
       " '__init__',\n",
       " '__init_subclass__',\n",
       " '__le__',\n",
       " '__lt__',\n",
       " '__module__',\n",
       " '__ne__',\n",
       " '__new__',\n",
       " '__reduce__',\n",
       " '__reduce_ex__',\n",
       " '__repr__',\n",
       " '__setattr__',\n",
       " '__sizeof__',\n",
       " '__str__',\n",
       " '__subclasshook__',\n",
       " '__weakref__',\n",
       " 'lemmatize']"
      ]
     },
     "execution_count": 17,
     "metadata": {},
     "output_type": "execute_result"
    }
   ],
   "source": [
    "import nltk\n",
    "wn = nltk.WordNetLemmatizer()  # wn= WordNet lemmatize এর জন্য ব্যবহার করা হয়েছে। \n",
    "dir(wn)"
   ]
  },
  {
   "cell_type": "code",
   "execution_count": 18,
   "id": "25726964",
   "metadata": {},
   "outputs": [],
   "source": [
    "def lemmatization(token_txt):\n",
    "    text = [wn.lemmatize(word) for word in token_txt]\n",
    "    return text"
   ]
  },
  {
   "cell_type": "code",
   "execution_count": 19,
   "id": "4f736bdf",
   "metadata": {},
   "outputs": [
    {
     "data": {
      "text/html": [
       "<div>\n",
       "<style scoped>\n",
       "    .dataframe tbody tr th:only-of-type {\n",
       "        vertical-align: middle;\n",
       "    }\n",
       "\n",
       "    .dataframe tbody tr th {\n",
       "        vertical-align: top;\n",
       "    }\n",
       "\n",
       "    .dataframe thead th {\n",
       "        text-align: right;\n",
       "    }\n",
       "</style>\n",
       "<table border=\"1\" class=\"dataframe\">\n",
       "  <thead>\n",
       "    <tr style=\"text-align: right;\">\n",
       "      <th></th>\n",
       "      <th>Comment</th>\n",
       "      <th>Tag</th>\n",
       "      <th>msg_clean</th>\n",
       "      <th>msg_clean_word_tokenize</th>\n",
       "      <th>msg_no_sw</th>\n",
       "      <th>msg_stemmed</th>\n",
       "      <th>msg_lemmatized</th>\n",
       "    </tr>\n",
       "  </thead>\n",
       "  <tbody>\n",
       "    <tr>\n",
       "      <th>0</th>\n",
       "      <td>আমি অপমানিত বোধ করি।</td>\n",
       "      <td>sadness</td>\n",
       "      <td>আমি অপমানিত বোধ করি</td>\n",
       "      <td>[আমি, অপমানিত, বোধ, করি]</td>\n",
       "      <td>[অপমানিত, বোধ]</td>\n",
       "      <td>[অপমানিত, বোধ]</td>\n",
       "      <td>[অপমানিত, বোধ]</td>\n",
       "    </tr>\n",
       "    <tr>\n",
       "      <th>1</th>\n",
       "      <td>আমি খুব নিরাশ বোধ থেকে খুব অভিশপ্ত আশাবাদী হতে পারি শুধুমাত্র যত্নশীল এবং জাগ্রত একজনের আশেপাশে ...</td>\n",
       "      <td>sadness</td>\n",
       "      <td>আমি খুব নিরাশ বোধ থেকে খুব অভিশপ্ত আশাবাদী হতে পারি শুধুমাত্র যত্নশীল এবং জাগ্রত একজনের আশেপাশে ...</td>\n",
       "      <td>[আমি, খুব, নিরাশ, বোধ, থেকে, খুব, অভিশপ্ত, আশাবাদী, হতে, পারি, শুধুমাত্র, যত্নশীল, এবং, জাগ্রত, ...</td>\n",
       "      <td>[নিরাশ, বোধ, অভিশপ্ত, আশাবাদী, শুধুমাত্র, যত্নশীল, জাগ্রত, একজনের, আশেপাশে]</td>\n",
       "      <td>[নিরাশ, বোধ, অভিশপ্ত, আশাবাদী, শুধুমাত্র, যত্নশীল, জাগ্রত, একজনের, আশেপাশে]</td>\n",
       "      <td>[নিরাশ, বোধ, অভিশপ্ত, আশাবাদী, শুধুমাত্র, যত্নশীল, জাগ্রত, একজনের, আশেপাশে]</td>\n",
       "    </tr>\n",
       "    <tr>\n",
       "      <th>2</th>\n",
       "      <td>আমি পোস্ট করার জন্য একটি মিনিট ধরছি আমি লোভী ভুল বোধ করছি।</td>\n",
       "      <td>anger</td>\n",
       "      <td>আমি পোস্ট করার জন্য একটি মিনিট ধরছি আমি লোভী ভুল বোধ করছি</td>\n",
       "      <td>[আমি, পোস্ট, করার, জন্য, একটি, মিনিট, ধরছি, আমি, লোভী, ভুল, বোধ, করছি]</td>\n",
       "      <td>[পোস্ট, মিনিট, ধরছি, লোভী, ভুল, বোধ, করছি]</td>\n",
       "      <td>[পোস্ট, মিনিট, ধরছি, লোভী, ভুল, বোধ, করছি]</td>\n",
       "      <td>[পোস্ট, মিনিট, ধরছি, লোভী, ভুল, বোধ, করছি]</td>\n",
       "    </tr>\n",
       "  </tbody>\n",
       "</table>\n",
       "</div>"
      ],
      "text/plain": [
       "                                                                                               Comment  \\\n",
       "0                                                                                 আমি অপমানিত বোধ করি।   \n",
       "1  আমি খুব নিরাশ বোধ থেকে খুব অভিশপ্ত আশাবাদী হতে পারি শুধুমাত্র যত্নশীল এবং জাগ্রত একজনের আশেপাশে ...   \n",
       "2                                           আমি পোস্ট করার জন্য একটি মিনিট ধরছি আমি লোভী ভুল বোধ করছি।   \n",
       "\n",
       "       Tag  \\\n",
       "0  sadness   \n",
       "1  sadness   \n",
       "2    anger   \n",
       "\n",
       "                                                                                             msg_clean  \\\n",
       "0                                                                                 আমি অপমানিত বোধ করি    \n",
       "1  আমি খুব নিরাশ বোধ থেকে খুব অভিশপ্ত আশাবাদী হতে পারি শুধুমাত্র যত্নশীল এবং জাগ্রত একজনের আশেপাশে ...   \n",
       "2                                           আমি পোস্ট করার জন্য একটি মিনিট ধরছি আমি লোভী ভুল বোধ করছি    \n",
       "\n",
       "                                                                               msg_clean_word_tokenize  \\\n",
       "0                                                                             [আমি, অপমানিত, বোধ, করি]   \n",
       "1  [আমি, খুব, নিরাশ, বোধ, থেকে, খুব, অভিশপ্ত, আশাবাদী, হতে, পারি, শুধুমাত্র, যত্নশীল, এবং, জাগ্রত, ...   \n",
       "2                               [আমি, পোস্ট, করার, জন্য, একটি, মিনিট, ধরছি, আমি, লোভী, ভুল, বোধ, করছি]   \n",
       "\n",
       "                                                                     msg_no_sw  \\\n",
       "0                                                               [অপমানিত, বোধ]   \n",
       "1  [নিরাশ, বোধ, অভিশপ্ত, আশাবাদী, শুধুমাত্র, যত্নশীল, জাগ্রত, একজনের, আশেপাশে]   \n",
       "2                                   [পোস্ট, মিনিট, ধরছি, লোভী, ভুল, বোধ, করছি]   \n",
       "\n",
       "                                                                   msg_stemmed  \\\n",
       "0                                                               [অপমানিত, বোধ]   \n",
       "1  [নিরাশ, বোধ, অভিশপ্ত, আশাবাদী, শুধুমাত্র, যত্নশীল, জাগ্রত, একজনের, আশেপাশে]   \n",
       "2                                   [পোস্ট, মিনিট, ধরছি, লোভী, ভুল, বোধ, করছি]   \n",
       "\n",
       "                                                                msg_lemmatized  \n",
       "0                                                               [অপমানিত, বোধ]  \n",
       "1  [নিরাশ, বোধ, অভিশপ্ত, আশাবাদী, শুধুমাত্র, যত্নশীল, জাগ্রত, একজনের, আশেপাশে]  \n",
       "2                                   [পোস্ট, মিনিট, ধরছি, লোভী, ভুল, বোধ, করছি]  "
      ]
     },
     "execution_count": 19,
     "metadata": {},
     "output_type": "execute_result"
    }
   ],
   "source": [
    "data['msg_lemmatized' ] = data['msg_stemmed'].apply(lambda x : lemmatization(x))\n",
    "\n",
    "data.head(3)  \n",
    "\n",
    "# in 4th line  goes -> go and lives -> live"
   ]
  },
  {
   "cell_type": "code",
   "execution_count": 20,
   "id": "c1703554",
   "metadata": {
    "scrolled": true
   },
   "outputs": [
    {
     "data": {
      "text/html": [
       "<div>\n",
       "<style scoped>\n",
       "    .dataframe tbody tr th:only-of-type {\n",
       "        vertical-align: middle;\n",
       "    }\n",
       "\n",
       "    .dataframe tbody tr th {\n",
       "        vertical-align: top;\n",
       "    }\n",
       "\n",
       "    .dataframe thead th {\n",
       "        text-align: right;\n",
       "    }\n",
       "</style>\n",
       "<table border=\"1\" class=\"dataframe\">\n",
       "  <thead>\n",
       "    <tr style=\"text-align: right;\">\n",
       "      <th></th>\n",
       "      <th>Comment</th>\n",
       "      <th>Tag</th>\n",
       "      <th>msg_clean</th>\n",
       "      <th>msg_clean_word_tokenize</th>\n",
       "      <th>msg_no_sw</th>\n",
       "      <th>msg_stemmed</th>\n",
       "      <th>msg_lemmatized</th>\n",
       "      <th>clean</th>\n",
       "    </tr>\n",
       "  </thead>\n",
       "  <tbody>\n",
       "    <tr>\n",
       "      <th>0</th>\n",
       "      <td>আমি অপমানিত বোধ করি।</td>\n",
       "      <td>sadness</td>\n",
       "      <td>আমি অপমানিত বোধ করি</td>\n",
       "      <td>[আমি, অপমানিত, বোধ, করি]</td>\n",
       "      <td>[অপমানিত, বোধ]</td>\n",
       "      <td>[অপমানিত, বোধ]</td>\n",
       "      <td>[অপমানিত, বোধ]</td>\n",
       "      <td>অপমানিত বোধ</td>\n",
       "    </tr>\n",
       "    <tr>\n",
       "      <th>1</th>\n",
       "      <td>আমি খুব নিরাশ বোধ থেকে খুব অভিশপ্ত আশাবাদী হতে পারি শুধুমাত্র যত্নশীল এবং জাগ্রত একজনের আশেপাশে ...</td>\n",
       "      <td>sadness</td>\n",
       "      <td>আমি খুব নিরাশ বোধ থেকে খুব অভিশপ্ত আশাবাদী হতে পারি শুধুমাত্র যত্নশীল এবং জাগ্রত একজনের আশেপাশে ...</td>\n",
       "      <td>[আমি, খুব, নিরাশ, বোধ, থেকে, খুব, অভিশপ্ত, আশাবাদী, হতে, পারি, শুধুমাত্র, যত্নশীল, এবং, জাগ্রত, ...</td>\n",
       "      <td>[নিরাশ, বোধ, অভিশপ্ত, আশাবাদী, শুধুমাত্র, যত্নশীল, জাগ্রত, একজনের, আশেপাশে]</td>\n",
       "      <td>[নিরাশ, বোধ, অভিশপ্ত, আশাবাদী, শুধুমাত্র, যত্নশীল, জাগ্রত, একজনের, আশেপাশে]</td>\n",
       "      <td>[নিরাশ, বোধ, অভিশপ্ত, আশাবাদী, শুধুমাত্র, যত্নশীল, জাগ্রত, একজনের, আশেপাশে]</td>\n",
       "      <td>নিরাশ বোধ অভিশপ্ত আশাবাদী শুধুমাত্র যত্নশীল জাগ্রত একজনের আশেপাশে</td>\n",
       "    </tr>\n",
       "    <tr>\n",
       "      <th>2</th>\n",
       "      <td>আমি পোস্ট করার জন্য একটি মিনিট ধরছি আমি লোভী ভুল বোধ করছি।</td>\n",
       "      <td>anger</td>\n",
       "      <td>আমি পোস্ট করার জন্য একটি মিনিট ধরছি আমি লোভী ভুল বোধ করছি</td>\n",
       "      <td>[আমি, পোস্ট, করার, জন্য, একটি, মিনিট, ধরছি, আমি, লোভী, ভুল, বোধ, করছি]</td>\n",
       "      <td>[পোস্ট, মিনিট, ধরছি, লোভী, ভুল, বোধ, করছি]</td>\n",
       "      <td>[পোস্ট, মিনিট, ধরছি, লোভী, ভুল, বোধ, করছি]</td>\n",
       "      <td>[পোস্ট, মিনিট, ধরছি, লোভী, ভুল, বোধ, করছি]</td>\n",
       "      <td>পোস্ট মিনিট ধরছি লোভী ভুল বোধ করছি</td>\n",
       "    </tr>\n",
       "    <tr>\n",
       "      <th>3</th>\n",
       "      <td>আমি কখনও অগ্নিকুণ্ড সম্পর্কে নস্টালজিক বোধ করছি আমি জানব যে এটি এখনও সম্পত্তিতে রয়েছে</td>\n",
       "      <td>sadness</td>\n",
       "      <td>আমি কখনও অগ্নিকুণ্ড সম্পর্কে নস্টালজিক বোধ করছি আমি জানব যে এটি এখনও সম্পত্তিতে রয়েছে</td>\n",
       "      <td>[আমি, কখনও, অগ্নিকুণ্ড, সম্পর্কে, নস্টালজিক, বোধ, করছি, আমি, জানব, যে, এটি, এখনও, সম্পত্তিতে, রয...</td>\n",
       "      <td>[অগ্নিকুণ্ড, সম্পর্কে, নস্টালজিক, বোধ, করছি, জানব, সম্পত্তিতে]</td>\n",
       "      <td>[অগ্নিকুণ্ড, সম্পর্কে, নস্টালজিক, বোধ, করছি, জানব, সম্পত্তিতে]</td>\n",
       "      <td>[অগ্নিকুণ্ড, সম্পর্কে, নস্টালজিক, বোধ, করছি, জানব, সম্পত্তিতে]</td>\n",
       "      <td>অগ্নিকুণ্ড সম্পর্কে নস্টালজিক বোধ করছি জানব সম্পত্তিতে</td>\n",
       "    </tr>\n",
       "    <tr>\n",
       "      <th>4</th>\n",
       "      <td>আমি অস্থির বোধ করছি</td>\n",
       "      <td>anger</td>\n",
       "      <td>আমি অস্থির বোধ করছি</td>\n",
       "      <td>[আমি, অস্থির, বোধ, করছি]</td>\n",
       "      <td>[অস্থির, বোধ, করছি]</td>\n",
       "      <td>[অস্থির, বোধ, করছি]</td>\n",
       "      <td>[অস্থির, বোধ, করছি]</td>\n",
       "      <td>অস্থির বোধ করছি</td>\n",
       "    </tr>\n",
       "  </tbody>\n",
       "</table>\n",
       "</div>"
      ],
      "text/plain": [
       "                                                                                               Comment  \\\n",
       "0                                                                                 আমি অপমানিত বোধ করি।   \n",
       "1  আমি খুব নিরাশ বোধ থেকে খুব অভিশপ্ত আশাবাদী হতে পারি শুধুমাত্র যত্নশীল এবং জাগ্রত একজনের আশেপাশে ...   \n",
       "2                                           আমি পোস্ট করার জন্য একটি মিনিট ধরছি আমি লোভী ভুল বোধ করছি।   \n",
       "3               আমি কখনও অগ্নিকুণ্ড সম্পর্কে নস্টালজিক বোধ করছি আমি জানব যে এটি এখনও সম্পত্তিতে রয়েছে   \n",
       "4                                                                                  আমি অস্থির বোধ করছি   \n",
       "\n",
       "       Tag  \\\n",
       "0  sadness   \n",
       "1  sadness   \n",
       "2    anger   \n",
       "3  sadness   \n",
       "4    anger   \n",
       "\n",
       "                                                                                             msg_clean  \\\n",
       "0                                                                                 আমি অপমানিত বোধ করি    \n",
       "1  আমি খুব নিরাশ বোধ থেকে খুব অভিশপ্ত আশাবাদী হতে পারি শুধুমাত্র যত্নশীল এবং জাগ্রত একজনের আশেপাশে ...   \n",
       "2                                           আমি পোস্ট করার জন্য একটি মিনিট ধরছি আমি লোভী ভুল বোধ করছি    \n",
       "3               আমি কখনও অগ্নিকুণ্ড সম্পর্কে নস্টালজিক বোধ করছি আমি জানব যে এটি এখনও সম্পত্তিতে রয়েছে   \n",
       "4                                                                                  আমি অস্থির বোধ করছি   \n",
       "\n",
       "                                                                               msg_clean_word_tokenize  \\\n",
       "0                                                                             [আমি, অপমানিত, বোধ, করি]   \n",
       "1  [আমি, খুব, নিরাশ, বোধ, থেকে, খুব, অভিশপ্ত, আশাবাদী, হতে, পারি, শুধুমাত্র, যত্নশীল, এবং, জাগ্রত, ...   \n",
       "2                               [আমি, পোস্ট, করার, জন্য, একটি, মিনিট, ধরছি, আমি, লোভী, ভুল, বোধ, করছি]   \n",
       "3  [আমি, কখনও, অগ্নিকুণ্ড, সম্পর্কে, নস্টালজিক, বোধ, করছি, আমি, জানব, যে, এটি, এখনও, সম্পত্তিতে, রয...   \n",
       "4                                                                             [আমি, অস্থির, বোধ, করছি]   \n",
       "\n",
       "                                                                     msg_no_sw  \\\n",
       "0                                                               [অপমানিত, বোধ]   \n",
       "1  [নিরাশ, বোধ, অভিশপ্ত, আশাবাদী, শুধুমাত্র, যত্নশীল, জাগ্রত, একজনের, আশেপাশে]   \n",
       "2                                   [পোস্ট, মিনিট, ধরছি, লোভী, ভুল, বোধ, করছি]   \n",
       "3               [অগ্নিকুণ্ড, সম্পর্কে, নস্টালজিক, বোধ, করছি, জানব, সম্পত্তিতে]   \n",
       "4                                                          [অস্থির, বোধ, করছি]   \n",
       "\n",
       "                                                                   msg_stemmed  \\\n",
       "0                                                               [অপমানিত, বোধ]   \n",
       "1  [নিরাশ, বোধ, অভিশপ্ত, আশাবাদী, শুধুমাত্র, যত্নশীল, জাগ্রত, একজনের, আশেপাশে]   \n",
       "2                                   [পোস্ট, মিনিট, ধরছি, লোভী, ভুল, বোধ, করছি]   \n",
       "3               [অগ্নিকুণ্ড, সম্পর্কে, নস্টালজিক, বোধ, করছি, জানব, সম্পত্তিতে]   \n",
       "4                                                          [অস্থির, বোধ, করছি]   \n",
       "\n",
       "                                                                msg_lemmatized  \\\n",
       "0                                                               [অপমানিত, বোধ]   \n",
       "1  [নিরাশ, বোধ, অভিশপ্ত, আশাবাদী, শুধুমাত্র, যত্নশীল, জাগ্রত, একজনের, আশেপাশে]   \n",
       "2                                   [পোস্ট, মিনিট, ধরছি, লোভী, ভুল, বোধ, করছি]   \n",
       "3               [অগ্নিকুণ্ড, সম্পর্কে, নস্টালজিক, বোধ, করছি, জানব, সম্পত্তিতে]   \n",
       "4                                                          [অস্থির, বোধ, করছি]   \n",
       "\n",
       "                                                               clean  \n",
       "0                                                        অপমানিত বোধ  \n",
       "1  নিরাশ বোধ অভিশপ্ত আশাবাদী শুধুমাত্র যত্নশীল জাগ্রত একজনের আশেপাশে  \n",
       "2                                 পোস্ট মিনিট ধরছি লোভী ভুল বোধ করছি  \n",
       "3             অগ্নিকুণ্ড সম্পর্কে নস্টালজিক বোধ করছি জানব সম্পত্তিতে  \n",
       "4                                                    অস্থির বোধ করছি  "
      ]
     },
     "execution_count": 20,
     "metadata": {},
     "output_type": "execute_result"
    }
   ],
   "source": [
    "data['clean'] = data['msg_lemmatized'].apply(lambda x: ' '.join(x))\n",
    "data.head()"
   ]
  },
  {
   "cell_type": "markdown",
   "id": "739c8e1b",
   "metadata": {},
   "source": [
    "## Level Encoder"
   ]
  },
  {
   "cell_type": "code",
   "execution_count": 21,
   "id": "71321b0b",
   "metadata": {},
   "outputs": [
    {
     "name": "stdout",
     "output_type": "stream",
     "text": [
      "[4 4 0 4 0 4 1 2 3 4]\n"
     ]
    }
   ],
   "source": [
    "# label\n",
    "\n",
    "le = LabelEncoder()\n",
    "le.fit(data.Tag)\n",
    "encoded_labels = le.transform(data.Tag)\n",
    "\n",
    "labels = np.array(encoded_labels)\n",
    "class_names = le.classes_\n",
    "\n",
    "print(labels[:10])"
   ]
  },
  {
   "cell_type": "code",
   "execution_count": 22,
   "id": "9bde70e7",
   "metadata": {},
   "outputs": [
    {
     "name": "stdout",
     "output_type": "stream",
     "text": [
      "   Comment      Tag  \\\n",
      "0     2102  sadness   \n",
      "1     7322  sadness   \n",
      "2     9703    anger   \n",
      "3     6484  sadness   \n",
      "4     2302    anger   \n",
      "\n",
      "                                                                                             msg_clean  \\\n",
      "0                                                                                 আমি অপমানিত বোধ করি    \n",
      "1  আমি খুব নিরাশ বোধ থেকে খুব অভিশপ্ত আশাবাদী হতে পারি শুধুমাত্র যত্নশীল এবং জাগ্রত একজনের আশেপাশে ...   \n",
      "2                                           আমি পোস্ট করার জন্য একটি মিনিট ধরছি আমি লোভী ভুল বোধ করছি    \n",
      "3               আমি কখনও অগ্নিকুণ্ড সম্পর্কে নস্টালজিক বোধ করছি আমি জানব যে এটি এখনও সম্পত্তিতে রয়েছে   \n",
      "4                                                                                  আমি অস্থির বোধ করছি   \n",
      "\n",
      "                                                                               msg_clean_word_tokenize  \\\n",
      "0                                                                             [আমি, অপমানিত, বোধ, করি]   \n",
      "1  [আমি, খুব, নিরাশ, বোধ, থেকে, খুব, অভিশপ্ত, আশাবাদী, হতে, পারি, শুধুমাত্র, যত্নশীল, এবং, জাগ্রত, ...   \n",
      "2                               [আমি, পোস্ট, করার, জন্য, একটি, মিনিট, ধরছি, আমি, লোভী, ভুল, বোধ, করছি]   \n",
      "3  [আমি, কখনও, অগ্নিকুণ্ড, সম্পর্কে, নস্টালজিক, বোধ, করছি, আমি, জানব, যে, এটি, এখনও, সম্পত্তিতে, রয...   \n",
      "4                                                                             [আমি, অস্থির, বোধ, করছি]   \n",
      "\n",
      "                                                                     msg_no_sw  \\\n",
      "0                                                               [অপমানিত, বোধ]   \n",
      "1  [নিরাশ, বোধ, অভিশপ্ত, আশাবাদী, শুধুমাত্র, যত্নশীল, জাগ্রত, একজনের, আশেপাশে]   \n",
      "2                                   [পোস্ট, মিনিট, ধরছি, লোভী, ভুল, বোধ, করছি]   \n",
      "3               [অগ্নিকুণ্ড, সম্পর্কে, নস্টালজিক, বোধ, করছি, জানব, সম্পত্তিতে]   \n",
      "4                                                          [অস্থির, বোধ, করছি]   \n",
      "\n",
      "                                                                   msg_stemmed  \\\n",
      "0                                                               [অপমানিত, বোধ]   \n",
      "1  [নিরাশ, বোধ, অভিশপ্ত, আশাবাদী, শুধুমাত্র, যত্নশীল, জাগ্রত, একজনের, আশেপাশে]   \n",
      "2                                   [পোস্ট, মিনিট, ধরছি, লোভী, ভুল, বোধ, করছি]   \n",
      "3               [অগ্নিকুণ্ড, সম্পর্কে, নস্টালজিক, বোধ, করছি, জানব, সম্পত্তিতে]   \n",
      "4                                                          [অস্থির, বোধ, করছি]   \n",
      "\n",
      "                                                                msg_lemmatized  \\\n",
      "0                                                               [অপমানিত, বোধ]   \n",
      "1  [নিরাশ, বোধ, অভিশপ্ত, আশাবাদী, শুধুমাত্র, যত্নশীল, জাগ্রত, একজনের, আশেপাশে]   \n",
      "2                                   [পোস্ট, মিনিট, ধরছি, লোভী, ভুল, বোধ, করছি]   \n",
      "3               [অগ্নিকুণ্ড, সম্পর্কে, নস্টালজিক, বোধ, করছি, জানব, সম্পত্তিতে]   \n",
      "4                                                          [অস্থির, বোধ, করছি]   \n",
      "\n",
      "                                                               clean  \n",
      "0                                                        অপমানিত বোধ  \n",
      "1  নিরাশ বোধ অভিশপ্ত আশাবাদী শুধুমাত্র যত্নশীল জাগ্রত একজনের আশেপাশে  \n",
      "2                                 পোস্ট মিনিট ধরছি লোভী ভুল বোধ করছি  \n",
      "3             অগ্নিকুণ্ড সম্পর্কে নস্টালজিক বোধ করছি জানব সম্পত্তিতে  \n",
      "4                                                    অস্থির বোধ করছি  \n"
     ]
    }
   ],
   "source": [
    "# # Import label encoder \n",
    "# from sklearn import preprocessing\n",
    "# # label_encoder object knows how to understand word labels. \n",
    "# label_encoder = preprocessing.LabelEncoder()\n",
    "# # Encode labels in column 'Country'. \n",
    "# data[]= label_encoder.fit_transform(data['Comment']) \n",
    "# print(data.head())\n",
    "# Import label encoder \n",
    "from sklearn import preprocessing\n",
    "# label_encoder object knows how to understand word labels. \n",
    "label_encoder = preprocessing.LabelEncoder()\n",
    "# Encode labels in column 'Country'. \n",
    "data['Comment']= label_encoder.fit_transform(data['Comment']) \n",
    "print(data.head())"
   ]
  },
  {
   "cell_type": "code",
   "execution_count": 23,
   "id": "2d22be96",
   "metadata": {},
   "outputs": [
    {
     "name": "stdout",
     "output_type": "stream",
     "text": [
      "<class 'pandas.core.frame.DataFrame'>\n",
      "RangeIndex: 15538 entries, 0 to 15537\n",
      "Data columns (total 8 columns):\n",
      " #   Column                   Non-Null Count  Dtype \n",
      "---  ------                   --------------  ----- \n",
      " 0   Comment                  15538 non-null  int32 \n",
      " 1   Tag                      15538 non-null  object\n",
      " 2   msg_clean                15538 non-null  object\n",
      " 3   msg_clean_word_tokenize  15538 non-null  object\n",
      " 4   msg_no_sw                15538 non-null  object\n",
      " 5   msg_stemmed              15538 non-null  object\n",
      " 6   msg_lemmatized           15538 non-null  object\n",
      " 7   clean                    15538 non-null  object\n",
      "dtypes: int32(1), object(7)\n",
      "memory usage: 910.6+ KB\n"
     ]
    }
   ],
   "source": [
    "data.info()"
   ]
  },
  {
   "cell_type": "markdown",
   "id": "793a2ad1",
   "metadata": {},
   "source": [
    "#  Features Extraction"
   ]
  },
  {
   "cell_type": "code",
   "execution_count": null,
   "id": "f110b8a4",
   "metadata": {},
   "outputs": [],
   "source": []
  },
  {
   "cell_type": "code",
   "execution_count": 24,
   "id": "4ac3e7de",
   "metadata": {
    "scrolled": false
   },
   "outputs": [
    {
     "name": "stdout",
     "output_type": "stream",
     "text": [
      "X.shape =  (15538, 100918)\n",
      "y.shape =  (15538,)\n"
     ]
    }
   ],
   "source": [
    "# from sklearn.feature_extraction.text import CountVectorizer\n",
    "# x = np.array(data.iloc[:,0].values)\n",
    "# #y = np.array(dataset.CatagoriId.values)\n",
    "# y = np.array(labels)\n",
    "# cv = CountVectorizer(max_features = 5000000000, ngram_range=(1,2), tokenizer=lambda x: x.split()) #ngram_range=(1,3), tokenizer=lambda x: x.split()\n",
    "# #cv = CountVectorizer(stop_words=stopwords_list)\n",
    "# #x1 = cv.fit_transform(dataset.cleaned).toarray()\n",
    "# x1 = cv.fit_transform(data.clean).toarray()\n",
    "# print(\"X.shape = \",x1.shape)\n",
    "# print(\"y.shape = \",y.shape)\n",
    "import numpy as np\n",
    "from sklearn.feature_extraction.text import CountVectorizer\n",
    "x = np.array(data.iloc[:0].values)\n",
    "#y = np.array(dataset.CatagoriId.values)\n",
    "y = np.array(labels)\n",
    "cv = CountVectorizer(max_features = 5000000000, ngram_range=(1,2), tokenizer=lambda x: x.split()) #ngram_range=(1,3), tokenizer=lambda x: x.split()\n",
    "#cv = CountVectorizer(stop_words=stopwords_list)\n",
    "#x1 = cv.fit_transform(dataset.cleaned).toarray()\n",
    "x1 = cv.fit_transform(data.clean).toarray()\n",
    "print(\"X.shape = \",x1.shape)\n",
    "print(\"y.shape = \",y.shape)"
   ]
  },
  {
   "cell_type": "code",
   "execution_count": 25,
   "id": "78fc5a3f",
   "metadata": {},
   "outputs": [
    {
     "name": "stdout",
     "output_type": "stream",
     "text": [
      "Vocabulary:  {'অপম': 39, 'অভ': 66, 'শপ': 1933, 'আশ': 222, 'যত': 1674, 'নশ': 1338, 'রত': 1758, 'একজন': 481, 'ধরছ': 1268, 'করছ': 697, 'অগ': 4, 'সম': 2054, 'পর': 1409, 'নস': 1342, 'লজ': 1871, 'নব': 1317, 'পত': 1381, 'অস': 87, 'ইদ': 290, 'নই': 1277, 'বন': 1497, 'বছর': 1476, 'হত': 2120, 'আছ': 150, 'রফর': 1783, 'রচ': 1736, 'আম': 195, 'একট': 484, 'খছ': 740, 'কষ': 722, 'টট': 994, 'অন': 25, 'ভব': 1561, 'ঐশ': 591, 'বর': 1513, 'ঞত': 973, 'ধরণ': 1269, 'আধ': 165, 'অসন': 90, 'সবচ': 2045, 'সহজ': 2086, 'সময': 2062, 'সময়': 2066, 'কম': 685, 'শক': 1911, 'ষয': 1989, 'অপর': 40, 'সহ': 2082, 'খক': 735, 'এজ': 508, 'রক': 1719, 'শন': 1929, 'যব': 1689, 'বস': 1539, 'উদ': 391, 'সত': 2022, 'রভ': 1796, 'কর': 696, 'টব': 1008, 'লগ': 1857, 'দনশ': 1215, 'দশক': 1239, 'নট': 1298, 'রব': 1785, 'রহ': 1834, 'আপ': 175, 'ষহ': 1997, 'ইউন': 247, 'সন': 2029, 'ণভ': 1092, 'শল': 1945, 'উন': 394, 'দয': 1226, 'ঈশ': 358, 'আক': 134, 'চট': 865, 'তজ': 1110, 'আনন': 171, 'সমর': 2063, 'থন': 1178, 'উত': 389, 'ইফল': 315, 'ইনক': 295, 'ইত': 285, 'মধ': 1608, 'রণত': 1754, 'সক': 2005, 'লব': 1890, 'মন': 1609, 'যক': 1655, 'ণত': 1086, 'সবসময': 2048, 'রপ': 1776, 'ষভ': 1986, 'সদয': 2026, 'ঘর': 840, 'এমনভ': 554, 'ছব': 901, 'আকছ': 135, 'আতঙ': 162, 'শর': 1941, 'রশস': 1821, 'নত': 1303, 'রগ': 1731, 'তভ': 1143, 'চঞ': 864, 'চল': 883, 'উঠ': 381, 'কয': 695, 'কদ': 669, 'আর': 203, 'হণ': 2119, 'করল': 706, 'আইড': 110, 'টর': 1018, 'গর': 807, 'তব': 1136, 'যকল': 1659, 'কল': 707, 'পন': 1393, 'ণর': 1095, 'রহণয': 1839, 'পদ': 1388, 'কভ': 684, 'কব': 680, 'ঘন': 837, 'ঘস': 850, 'পরবর': 1417, 'জনশ': 935, 'রয': 1811, 'জন': 923, 'ইহ': 351, 'আপন': 180, 'সর': 2068, 'বয': 1512, 'ভদ': 1558, 'রল': 1814, 'উপহ': 423, 'খত': 746, 'অভদ': 67, 'লক': 1850, 'দরক': 1228, 'রন': 1774, 'নন': 1310, 'গল': 812, 'রমণ': 1801, 'চকর': 858, 'রণ': 1749, 'হস': 2151, 'তন': 1125, 'সব': 2040, 'বইট': 1457, 'কনস': 677, 'মজ': 1593, 'রবলভ': 1795, 'আব': 188, 'গপ': 798, 'রবণ': 1787, 'ৎস': 2158, 'পলক': 1422, 'এইভ': 464, 'ওয': 620, 'মর': 1626, 'পড': 1377, 'কতব': 666, 'বল': 1523, 'নম': 1328, 'গরম': 811, 'ময': 1625, 'থপর': 1184, 'নষ': 1341, 'হয': 2138, 'পট': 1369, 'দছ': 1204, 'গছ': 769, 'দর': 1227, 'পল': 1421, 'ইন': 292, 'ইল': 332, 'লত': 1877, 'পক': 1352, 'জগত': 910, 'নকল': 1285, 'অজ': 11, 'সরবর': 2074, 'আগ': 138, 'উষ': 442, 'মময': 1624, 'লন': 1882, 'কথ': 667, 'অত': 17, 'যন': 1685, 'জনপ': 931, 'কঠ': 657, 'হরণ': 2141, 'তর': 1149, 'তল': 1161, 'নর': 1333, 'ইমপ': 325, 'রবণত': 1788, 'ভর': 1569, 'সপ': 2030, 'শব': 1936, 'টগ': 990, 'কখনই': 643, 'যদ': 1682, 'কত': 660, 'ওঠ': 606, 'যথ': 1680, 'অপ': 33, 'আসছ': 227, 'চয': 879, 'কআপ': 633, 'অগত': 6, 'শয': 1940, 'গই': 762, 'বহ': 1546, 'কগ': 644, 'এখ': 502, 'রস': 1823, 'পয': 1408, 'রপর': 1779, 'ফল': 1441, 'সফলভ': 2039, 'এমএক': 545, 'সএম': 2002, 'নভ': 1327, 'অর': 74, 'থক': 1172, 'তস': 1166, 'সট': 2019, 'করব': 703, 'বপ': 1506, 'সগ': 2010, 'বলন': 1530, 'আবর': 190, 'মত': 1601, 'দন': 1210, 'ছন': 899, 'শই': 1908, 'ঝত': 964, 'সবক': 2042, 'যহ': 1711, 'ধক': 1247, 'ষণ': 1971, 'নবন': 1323, 'অদ': 20, 'এট': 510, 'ঘটন': 830, 'জড': 919, 'এন': 521, 'উড': 386, 'রঙ': 1734, 'ফর': 1439, 'ইভ': 320, 'শত': 1924, 'গজ': 770, 'যবস': 1695, 'খজনক': 741, 'রথমব': 1768, 'এক': 474, 'ৎক': 2155, 'সল': 2078, 'উঠব': 384, 'অল': 78, 'আলব': 219, 'উপয': 414, 'কতট': 664, 'উশ': 440, 'উচ': 375, 'গত': 786, 'দক': 1200, 'ষত': 1980, 'রম': 1797, 'একরকম': 497, 'খল': 757, 'আন': 167, 'রফরম': 1784, 'উঠছ': 382, 'রশ': 1819, 'এইরকম': 466, 'সদস': 2028, 'লয': 1898, 'এমনক': 552, 'আজক': 153, 'উৎসবম': 451, 'খর': 754, 'জট': 918, 'ছট': 894, 'চলম': 889, 'তরভ': 1158, 'মল': 1636, 'যর': 1704, 'ভয': 1568, 'নক': 1282, 'লড': 1876, 'দত': 1208, 'কমই': 686, 'রণক': 1751, 'রসর': 1831, 'বদ': 1491, 'অনল': 31, 'হব': 2129, 'টশ': 1029, 'পরত': 1412, 'একজ': 480, 'আত': 161, 'মসম': 1645, 'এতট': 517, 'অবশ': 61, 'যই': 1653, 'মক': 1578, 'শহর': 1951, 'ওপর': 613, 'এসএ': 574, 'টস': 1030, 'দল': 1233, 'পচ': 1364, 'সঙ': 2013, 'খব': 749, 'ঝরন': 969, 'মব': 1617, 'যম': 1698, 'ইর': 329, 'একদ': 487, 'ধন': 1257, 'মড': 1599, 'মশল': 1641, 'কফ': 679, 'ভবত': 1564, 'ইপ': 308, 'রকন': 1722, 'রঞ': 1745, 'কড': 658, 'চর': 880, 'যজনক': 1667, 'বইত': 1458, 'বরক': 1514, 'সঠ': 2020, 'অফ': 45, 'ঈদ': 356, 'উদয': 393, 'বঞ': 1484, 'সড': 2021, 'মহ': 1647, 'রথম': 1764, 'যতই': 1675, 'করত': 700, 'নরম': 1336, 'তহ': 1167, 'পগ': 1362, 'মভ': 1619, 'টজ': 993, 'বড': 1488, 'ঝড': 963, 'ঝখ': 961, 'বছ': 1475, 'নহ': 1347, 'ঝকঝক': 960, 'পথপ': 1387, 'দরজ': 1229, 'আস': 225, 'ঈর': 357, 'হরণস': 2144, 'এম': 543, 'নসন': 1345, 'পষ': 1427, 'টভ': 1011, 'এনজ': 529, 'বম': 1511, 'একম': 494, 'খন': 747, 'অসম': 93, 'অবহ': 65, 'নরক': 1334, 'রট': 1746, 'আল': 215, 'উঠত': 383, 'ভঙ': 1554, 'জব': 942, 'নল': 1337, 'ষষ': 1994, 'ইউট': 246, 'উব': 425, 'ওজন': 601, 'রই': 1714, 'উপস': 421, 'তম': 1144, 'রপত': 1777, 'ভক': 1551, 'ষণশ': 1978, 'অব': 48, 'বকত': 1465, 'চমৎক': 878, 'আচরণ': 146, 'এখনই': 504, 'বলছ': 1524, 'ইক': 258, 'রকল': 1728, 'তরগ': 1152, 'তরট': 1155, 'তপ': 1133, 'এগ': 506, 'আসল': 232, 'গন': 793, 'পছন': 1366, 'দরভ': 1232, 'বক': 1463, 'সফল': 2036, 'হই': 2097, 'ঐত': 590, 'যগত': 1664, 'ধব': 1261, 'মরণক': 1631, 'তকরণ': 1101, 'আসত': 228, 'উপ': 401, 'গসম': 821, 'যটন': 1672, 'উক': 373, 'এল': 561, 'অঞ': 13, 'জল': 950, 'লদ': 1880, 'উই': 359, 'মদ': 1607, 'যকর': 1656, 'ডগ': 1055, 'গব': 800, 'অবদ': 54, 'তদ': 1121, 'ধকত': 1248, 'ইম': 322, 'যগ': 1663, 'পথ': 1383, 'আমস': 201, 'রড': 1748, 'যখনই': 1662, 'থত': 1176, 'পস': 1428, 'কট': 652, 'যবহ': 1696, 'উদগ': 392, 'ডন': 1061, 'অশ': 85, 'বচ': 1472, 'কখন': 642, 'নগ': 1290, 'রদ': 1769, 'এসএসআর': 580, 'ফলপ': 1447, 'চক': 854, 'আড': 160, 'লগক': 1859, 'বলব': 1531, 'এস': 571, 'অবসর': 63, 'অধ': 23, 'লর': 1899, 'চত': 869, 'দদ': 1209, 'তদব': 1123, 'মরত': 1632, 'লকট': 1853, 'উপক': 402, 'ফলট': 1444, 'ঠক': 1035, 'করভ': 705, 'পণ': 1378, 'সস': 2081, 'অপচনশ': 34, 'আইট': 109, 'ছপ': 900, 'ধয': 1266, 'সৎক': 2095, 'আঘ': 142, 'কঙ': 645, 'ইট': 273, 'মগ': 1585, 'উর': 434, 'অলস': 82, 'আয': 202, 'পজ': 1367, 'জনক': 924, 'তগ': 1106, 'কণ': 659, 'ঠস': 1048, 'হকর': 2106, 'রওয': 1718, 'টতই': 998, 'আদ': 163, 'ভন': 1559, 'চকভ': 857, 'রধ': 1772, 'অয': 71, 'ছয': 903, 'হচ': 2109, 'এইট': 461, 'উপভ': 411, 'তত': 1112, 'ইচ': 265, 'সঞ': 2018, 'খরচ': 756, 'উজ': 376, 'গক': 764, 'মহত': 1648, 'হহ': 2153, 'নদ': 1308, 'অপচয': 35, 'যধ': 1684, 'যয': 1702, 'সমক': 2055, 'সমত': 2057, 'হল': 2147, 'একস': 500, 'ষম': 1987, 'ইব': 317, 'অপরক': 41, 'যতক': 1676, 'অচ': 9, 'তনত': 1129, 'গতভ': 789, 'বত': 1489, 'জপ': 940, 'ঘটছ': 828, 'নয': 1332, 'যময': 1701, 'লট': 1873, 'লকভ': 1856, 'তহব': 1168, 'ফন': 1438, 'চটকদ': 867, 'জমক': 946, 'উঠল': 385, 'ইঙ': 264, 'হজনক': 2111, 'আনত': 170, 'মটরক': 1597, 'লভ': 1893, 'ইলগ': 333, 'নথ': 1307, 'আবহ': 193, 'ধরন': 1272, 'অণ': 16, 'গও': 763, 'জসজ': 956, 'শনট': 1932, 'সরঞ': 2070, 'উট': 378, 'সঘ': 2012, 'তকত': 1098, 'হতব': 2121, 'অপছন': 36, 'যভ': 1697, 'মপ': 1615, 'ইলবক': 337, 'ইলম': 338, 'পদক': 1389, 'দনগ': 1212, 'বশ': 1536, 'গভ': 801, 'নরকম': 1335, 'চমত': 877, 'কন': 672, 'জম': 945, 'লচ': 1869, 'রবল': 1794, 'রণভ': 1757, 'আঙ': 143, 'ঘট': 826, 'কলক': 708, 'যস': 1710, 'ষক': 1958, 'দণ': 1207, 'রমন': 1804, 'টদ': 999, 'রথমট': 1766, 'ইনগ': 296, 'অপব': 38, 'অবতরণ': 53, 'ওম': 617, 'একধরন': 489, 'আকর': 136, 'ইয': 328, 'লম': 1894, 'সকল': 2007, 'বনয': 1504, 'দরদ': 1231, 'কআউট': 631, 'এড': 511, 'ইতস': 288, 'ইলন': 335, 'ধর': 1267, 'আটক': 156, 'শহরগ': 1953, 'টধর': 1000, 'কক': 640, 'থল': 1194, 'পপ': 1399, 'আউট': 125, 'জস': 955, 'জঙ': 915, 'কতজন': 663, 'তখনই': 1104, 'কলব': 714, 'বব': 1508, 'ননচ': 1311, 'ততক': 1114, 'ডট': 1058, 'বউড': 1461, 'আসম': 231, 'ডক': 1053, 'রমকম': 1799, 'অবর': 59, 'চন': 871, 'থগ': 1175, 'গলদ': 817, 'মকরণ': 1582, 'জনস': 936, 'রদর': 1771, 'ণবন': 1091, 'ইরয': 331, 'টক': 982, 'গতক': 787, 'একতরফ': 486, 'অসতর': 89, 'কবর': 683, 'পব': 1402, 'কপ': 678, 'পকথন': 1356, 'নও': 1278, 'এসইওক': 573, 'ইড': 280, 'অবস': 62, 'হগ': 2107, 'উল': 435, 'বছরগ': 1478, 'বই': 1453, 'বইয': 1460, 'ইউক': 245, 'নজ': 1294, 'আসন': 229, 'নকভ': 1284, 'বনধ': 1501, 'কস': 723, 'জয': 948, 'খকদ': 737, 'তথ': 1120, 'টবল': 1010, 'ধত': 1255, 'জনগণ': 927, 'বজনপ': 1483, 'লধ': 1881, 'রহণ': 1837, 'করণট': 699, 'ডউইচ': 1050, 'ইস': 343, 'ততই': 1113, 'গট': 775, 'রহপ': 1840, 'মস': 1642, 'টন': 1001, 'যঙ': 1665, 'অসহ': 95, 'অপহরণ': 43, 'আওয': 133, 'উভয': 430, 'ঝলক': 970, 'দগ': 1203, 'মনক': 1611, 'ইউএই': 242, 'বগ': 1469, 'জর': 949, 'যজনকভ': 1668, 'আপত': 179, 'ওনদ': 611, 'ধড': 1254, 'খগ': 739, 'ওন': 610, 'ফট': 1434, 'ইলস': 341, 'রমবর': 1806, 'ধম': 1263, 'সচ': 2014, 'ইজ': 268, 'যট': 1669, 'বকক': 1464, 'বসত': 1542, 'ছল': 904, 'ওজনহ': 603, 'করণ': 698, 'থনক': 1179, 'আআহহহ': 99, 'ষপ': 1984, 'রছ': 1741, 'আসব': 230, 'একগ': 477, 'মখ': 1583, 'চড': 868, 'চশম': 890, 'খই': 733, 'তট': 1111, 'শগ': 1918, 'টখ': 989, 'ওল': 623, 'আবদ': 189, 'ডস': 1075, 'বটম': 1486, 'সমবয': 2061, 'ছভ': 902, 'ঋণ': 454, 'পও': 1351, 'অক': 1, 'ষমত': 1988, 'রর': 1812, 'ষড': 1970, 'অম': 68, 'ঘক': 824, 'দট': 1205, 'ততট': 1116, 'বহন': 1548, 'আভ': 194, 'যরত': 1706, 'আরবর': 210, 'সশস': 2080, 'সফলত': 2037, 'ঘম': 839, 'ইটল': 278, 'ধরত': 1271, 'গজনক': 773, 'কহ': 731, 'পভ': 1406, 'রগত': 1732, 'হতভ': 2122, 'অলর': 81, 'দলট': 1236, 'সহজভ': 2088, 'বলল': 1535, 'টপ': 1002, 'সতর': 2024, 'হঠ': 2118, 'রবন': 1791, 'উডনস': 387, 'মকভ': 1580, 'রলস': 1816, 'নডম': 1302, 'তরল': 1160, 'সদর': 2027, 'নসম': 1346, 'সমস': 2065, 'হর': 2139, 'তক': 1097, 'জছ': 916, 'নটফ': 1300, 'যরকম': 1705, 'আঠ': 159, 'আচরণক': 147, 'ঠগ': 1040, 'সতত': 2023, 'ইওম': 256, 'টত': 997, 'রকমই': 1726, 'একব': 492, 'ণট': 1085, 'বরত': 1519, 'হকদ': 2104, 'নড': 1301, 'এর': 559, 'কওয': 639, 'ণন': 1089, 'ভরত': 1570, 'রও': 1716, 'তরণট': 1157, 'শনগ': 1931, 'হট': 2114, 'অট': 14, 'শদ': 1926, 'নছ': 1293, 'পনগ': 1395, 'মট': 1595, 'ঘটত': 829, 'তখনও': 1105, 'শঙ': 1920, 'ঝর': 967, 'মঞ': 1594, 'বজ': 1480, 'একজনক': 483, 'ণকর': 1081, 'ৎপ': 2157, 'চতর': 870, 'লকগ': 1852, 'রথমজ': 1765, 'উপলব': 419, 'পদগ': 1390, 'লগট': 1861, 'বসব': 1544, 'ঠকদ': 1038, 'এমনট': 553, 'টল': 1025, 'গম': 804, 'নবজ': 1319, 'খজনকভ': 742, 'উইন': 362, 'রসন': 1826, 'যও': 1654, 'বভ': 1510, 'শকদ': 1914, 'থস': 1196, 'টওয': 981, 'তমক': 1145, 'আট': 155, 'সমগ': 2056, 'অসঙ': 88, 'ইউয': 250, 'পথগ': 1384, 'সহকর': 2084, 'এমএস': 547, 'গগ': 766, 'আইফ': 117, 'সৎ': 2094, 'ষদ': 1982, 'জক': 906, 'তবয': 1141, 'বনসঙ': 1505, 'খবর': 750, 'চলত': 886, 'ততপক': 1117, 'উপন': 408, 'বইক': 1454, 'হক': 2102, 'থপ': 1181, 'ডব': 1065, 'গঠ': 776, 'এতই': 514, 'হওয': 2101, 'ওহ': 626, 'পদত': 1391, 'খবরট': 751, 'ষন': 1983, 'আচ': 144, 'গজট': 771, 'থদ': 1177, 'থর': 1191, 'ইওয': 257, 'ষট': 1969, 'সবই': 2041, 'কজন': 649, 'ডও': 1051, 'দময': 1224, 'ডম': 1067, 'ছড': 896, 'লছ': 1870, 'এপ': 534, 'ইনফ': 300, 'আলগ': 216, 'দখল': 1202, 'এতদ': 518, 'টফ': 1006, 'পটভ': 1374, 'রচণ': 1737, 'রণগ': 1752, 'মওয': 1577, 'যপ': 1686, 'অঙ': 8, 'গভঙ': 802, 'এসএক': 575, 'সই': 1999, 'চকল': 860, 'চস': 891, 'ইছ': 267, 'হন': 2124, 'যৎ': 1712, 'ওটম': 605, 'টকর': 988, 'এসপ': 584, 'পসন': 1430, 'সফ': 2033, 'সদ': 2025, 'চরমভ': 882, 'জনসমক': 938, 'সপত': 2031, 'তবত': 1138, 'রফ': 1782, 'ণতম': 1087, 'লস': 1903, 'অনমন': 29, 'সহক': 2083, 'সরণ': 2072, 'নওভ': 1280, 'ইঞ': 272, 'বধ': 1496, 'নতজ': 1304, 'টসব': 1031, 'সবল': 2047, 'রধর': 1773, 'পছ': 1365, 'বইগ': 1455, 'কদর': 670, 'এসট': 582, 'আই': 100, 'রহণক': 1838, 'যরস': 1707, 'নশন': 1340, 'ডওয': 1052, 'রমহ': 1810, 'লকক': 1851, 'লমন': 1896, 'মম': 1620, 'উৎসর': 452, 'বরণ': 1517, 'উপর': 415, 'ষকক': 1959, 'বনক': 1498, 'অলসত': 83, 'গণন': 785, 'যশ': 1708, 'রমর': 1808, 'দম': 1220, 'শরত': 1942, 'চব': 873, 'আপল': 182, 'সবকট': 2043, 'সফর': 2035, 'যবধ': 1691, 'ওভ': 616, 'হইন': 2098, 'লনপ': 1886, 'ডফ': 1064, 'কঅ': 630, 'চকচক': 855, 'একক': 476, 'আদর': 164, 'পতন': 1382, 'আমন': 198, 'থম': 1189, 'বলম': 1532, 'গড': 781, 'রজ': 1742, 'সরক': 2069, 'শহরতল': 1955, 'জত': 920, 'চলছ': 885, 'শট': 1921, 'চপ': 872, 'গঠনম': 780, 'এমস': 557, 'জগ': 908, 'বদল': 1494, 'ধমক': 1264, 'ঘরগ': 842, 'থও': 1170, 'যতম': 1679, 'ষর': 1990, 'রপন': 1778, 'অহ': 97, 'দপ': 1217, 'খসড': 760, 'ধপর': 1260, 'ইগ': 263, 'শলট': 1948, 'ফসল': 1452, 'টরওয': 1019, 'লল': 1901, 'আইন': 112, 'মচ': 1591, 'রমজ': 1800, 'মলভ': 1638, 'জনদ': 930, 'ঘল': 845, 'হপস': 2128, 'দশট': 1241, 'ইফস': 316, 'রণট': 1753, 'শরৎ': 1944, 'কমন': 689, 'ষণভ': 1976, 'ণগ': 1082, 'গফলক': 799, 'এদ': 520, 'ওদ': 609, 'সহনশ': 2090, 'ইটট': 276, 'যকরভ': 1658, 'মসচ': 1643, 'টও': 980, 'এনভ': 532, 'বলত': 1528, 'অপস': 42, 'ষণত': 1975, 'মঙ': 1590, 'গলব': 818, 'আননস': 172, 'আইপড': 116, 'গগতভ': 768, 'সজ': 2016, 'নগদ': 1291, 'গহন': 823, 'শকর': 1916, 'ম৷': 1652, 'হরম': 2145, 'পকথনগ': 1358, 'রবর': 1793, 'গয': 806, 'রণন': 1755, 'উপসর': 422, 'সয': 2067, 'শপথ': 1935, 'ষতব': 1981, 'তনগ': 1127, 'ষরগ': 1991, 'রজন': 1743, 'গজন': 772, 'রসফ': 1827, 'বজন': 1482, 'আপড': 178, 'অনন': 27, 'রবত': 1790, 'ণব': 1090, 'নকশ': 1286, 'ডরক': 1069, 'উসক': 444, 'নসঙ': 1344, 'লফ': 1889, 'লগগ': 1860, 'রঅ': 1713, 'রহস': 1843, 'ইধ': 291, 'এনএইচএস': 524, 'উইকএন': 360, 'ইডট': 283, 'নজর': 1297, 'রষ': 1822, 'সমন': 2059, 'থবহ': 1187, 'শওয': 1910, 'আইডল': 111, 'তও': 1096, 'তদন': 1122, 'এশ': 570, 'মতক': 1603, 'যটকর': 1671, 'ছক': 892, 'জকদ': 907, 'ইবক': 318, 'উপশম': 420, 'পনট': 1396, 'আইকন': 105, 'কই': 636, 'মও': 1576, 'এইচড': 460, 'ইটন': 277, 'একঘ': 478, 'ইউনহ': 248, 'রসহ': 1833, 'ণও': 1079, 'ডজন': 1057, 'ইনম': 302, 'যবশত': 1694, 'পম': 1407, 'খটক': 744, 'বতন': 1490, 'ঘটব': 831, 'পঠ': 1376, 'পণন': 1379, 'রখ': 1729, 'আহত': 235, 'ষব': 1985, 'রচল': 1739, 'টছ': 992, 'ষছ': 1965, 'টম': 1012, 'আউটল': 130, 'মনট': 1612, 'আইআরস': 101, 'এসআরস': 572, 'শহরট': 1954, 'রকম': 1725, 'ওষ': 625, 'ডর': 1068, 'ওড': 607, 'গগত': 767, 'হপ': 2126, 'নকদ': 1283, 'খকর': 738, 'আকস': 137, 'ডহ': 1077, 'তশ': 1165, 'এরকম': 560, 'আচরণগ': 148, 'গদত': 792, 'কমফ': 692, 'শওভ': 1909, 'লঙ': 1868, 'এভ': 541, 'একমত': 495, 'চরম': 881, 'অড': 15, 'অফল': 46, 'বরফ': 1521, 'ইফ': 312, 'ছটফট': 895, 'জঘন': 914, 'লগপ': 1862, 'নজন': 1295, 'কচ': 646, 'গঠনট': 779, 'পশ': 1424, 'ধট': 1253, 'আহ': 234, 'শটগ': 1922, 'সৎভ': 2096, 'অবচ': 51, 'তনভ': 1130, 'কটক': 653, 'চলচ': 884, 'এওএত': 472, 'পদদল': 1392, 'ভড': 1556, 'ডভ': 1066, 'জহগ': 958, 'মতই': 1602, 'লগইন': 1858, 'কলম': 715, 'কলন': 712, 'খনন': 748, 'ঘশ': 846, 'উস': 443, 'টরস': 1024, 'সহয': 2092, 'ফরম': 1440, 'অগণ': 5, 'শহ': 1950, 'এখনক': 505, 'সকষ': 2009, 'অরক': 75, 'বছরও': 1477, 'বটমগ': 1487, 'ধনট': 1258, 'ইনট': 298, 'রকট': 1721, 'অগভ': 7, 'আজ': 151, 'রবপ': 1792, 'শখ': 1917, 'খরগ': 755, 'গলছ': 814, 'ফলস': 1449, 'অনর': 30, 'থকত': 1173, 'একইভ': 475, 'কতদ': 665, 'বরপ': 1520, 'ধগম': 1251, 'দমন': 1222, 'সউইক': 2000, 'রওন': 1717, 'টয': 1017, 'ধরল': 1273, 'অবসরপ': 64, 'উইনস': 363, 'একদল': 488, 'পথচ': 1385, 'উপম': 412, 'রটন': 1747, 'মরর': 1634, 'কজমক': 651, 'ধগ': 1250, 'পশন': 1425, 'ঘড': 833, 'উৎপ': 447, 'উইম': 365, 'বলডন': 1527, 'বদন': 1492, 'সবয': 2046, 'মমন': 1621, 'ডল': 1070, 'দড': 1206, 'ইলফলক': 336, 'গনক': 794, 'গহ': 822, 'অনলস': 32, 'তপক': 1134, 'এমনও': 551, 'ভট': 1555, 'দকর': 1201, 'পবয': 1405, 'এত': 513, 'জলদস': 953, 'কমত': 688, 'কমড': 687, 'কলসন': 717, 'অবনত': 57, 'আটট': 157, 'হজম': 2113, 'ইশ': 342, 'টকট': 984, 'থকদ': 1174, 'মশ': 1640, 'রতকর': 1759, 'যথভ': 1681, 'পঞ': 1368, 'অসহন': 96, 'অকল': 3, 'ঋত': 455, 'বজগত': 1481, 'এইম': 465, 'অসফল': 91, 'হমমমম': 2136, 'টরন': 1021, 'আউটড': 128, 'সকলক': 2008, 'দলগ': 1235, 'অতল': 19, 'ডদ': 1060, 'বনগ': 1499, 'সরশ': 2077, 'আগস': 141, 'আনফ': 173, 'লথ': 1878, 'উম': 431, 'পটপক': 1373, 'বছরট': 1479, 'টফর': 1007, 'ষণক': 1972, 'একত': 485, 'এসব': 585, 'পরপর': 1414, 'পটল': 1375, 'সহজতম': 2087, 'রঙগ': 1735, 'মতব': 1605, 'ষকদ': 1961, 'দশ': 1238, 'ছত': 897, 'মকত': 1579, 'তরণ': 1156, 'একসময': 501, 'উউইআই': 370, 'ষরণ': 1992, 'এফপ': 538, 'ঔষধ': 629, 'আসলট': 233, 'ষজনক': 1968, 'এইগ': 458, 'রতম': 1761, 'ইসল': 349, 'অমস': 70, 'নখ': 1287, 'রতব': 1760, 'খভ': 752, 'ঈগলদ': 354, 'জনকভ': 925, 'আইর': 120, 'ঔদ': 628, 'মসমর': 1646, 'মমম': 1623, 'রণব': 1756, 'মফ': 1616, 'রপরও': 1780, 'খস': 758, 'ণম': 1093, 'দব': 1219, 'সহন': 2089, 'বগস': 1471, 'ষজ': 1966, 'শগত': 1919, 'ইউর': 251, 'এলজ': 564, 'অরল': 77, 'পকভ': 1360, 'তবব': 1139, 'অবধ': 56, 'কদল': 671, 'উপব': 410, 'একচ': 479, 'গতত': 788, 'পলব': 1423, 'ইও': 254, 'ঘরট': 843, 'আইভ': 119, 'কটতম': 654, 'খট': 743, 'আমভ': 199, 'আমক': 196, 'ওর': 621, 'কসগ': 726, 'বসল': 1545, 'সমষ': 2064, 'যড': 1673, 'নচ': 1292, 'কশ': 718, 'উনট': 397, 'কমল': 694, 'অবলম': 60, 'আইসক': 123, 'ঘরক': 841, 'উপরই': 416, 'তনক': 1126, 'আইওল': 103, 'রদত': 1770, 'সমতল': 2058, 'অধর': 24, 'রমশ': 1809, 'পনসর': 1397, 'উয': 433, 'জলব': 954, 'ফলন': 1446, 'মরমন': 1633, 'চমকপ': 876, 'এআই': 457, 'লমত': 1895, 'ভস': 1574, 'ঠকক': 1037, 'আচরণট': 149, 'রসঙ': 1825, 'এও': 470, 'নববধ': 1325, 'অমন': 69, 'শরবত': 1943, 'বইছ': 1456, 'খয': 753, 'এলপ': 566, 'পসগ': 1429, 'তবকট': 1137, 'উনভ': 398, 'টরর': 1023, 'উউউউউউট': 371, 'উপমহ': 413, 'গজপত': 774, 'এতক': 515, 'ইসম': 347, 'আনব': 174, 'হময': 2137, 'আগমন': 140, 'শদভ': 1927, 'বকবক': 1467, 'অচল': 10, 'ফড': 1435, 'এইচ': 459, 'চছ': 862, 'গতর': 790, 'আসক': 226, 'ভবই': 1562, 'ডলফ': 1073, 'অকথ': 2, 'ঠট': 1042, 'একপ': 491, 'দলবদ': 1237, 'জদ': 921, 'নজনক': 1296, 'আনজ': 169, 'যটক': 1670, 'সছ': 2015, 'আনছ': 168, 'রখর': 1730, 'দস': 1242, 'মগজ': 1586, 'সকদ': 2006, 'কও': 637, 'কলট': 711, 'পবদ': 1404, 'ঘটক': 827, 'সরল': 2075, 'এসড': 583, 'ষণগ': 1973, 'যযন': 1703, 'অবদম': 55, 'বপত': 1507, 'গদ': 791, 'লরক': 1900, 'ইউএসএ': 243, 'মনস': 1614, 'এখন': 503, 'ফলদ': 1445, 'বনভ': 1503, 'ওশ': 624, 'মনর': 1613, 'ণক': 1080, 'অযথ': 73, 'জগৎ': 912, 'রতর': 1762, 'রনড': 1775, 'তবসম': 1142, 'ঘণ': 834, 'করদ': 701, 'যখ': 1661, 'রইল': 1715, 'নতম': 1305, 'ইলশ': 340, 'বকদ': 1466, 'ততর': 1119, 'দনক': 1211, 'একশ': 498, 'রথ': 1763, 'রপস': 1781, 'দনহ': 1216, 'থহ': 1197, 'ইইল': 238, 'রহর': 1841, 'কসন': 727, 'এনএনক': 525, 'এনএল': 527, 'রবণভ': 1789, 'জনরস': 934, 'এয': 558, 'ইকরণ': 262, 'মহৎ': 1650, 'যক৷': 1660, 'উশন': 441, 'দলক': 1234, 'উপত': 406, 'ষণস': 1979, 'ইলট': 334, 'এইরকমই': 467, 'টকন': 986, 'পটগ': 1370, 'ঋষ': 456, 'নতর': 1306, 'শপগ': 1934, 'পরস': 1420, 'পরব': 1416, 'ষগ': 1963, 'যতব': 1678, 'ততব': 1118, 'আফ': 184, 'মঘ': 1589, 'আলফ': 218, 'কমব': 693, 'রমক': 1798, 'কছ': 647, 'শকত': 1913, 'মসফ': 1644, 'টহ': 1034, 'মরক': 1627, 'জবরদস': 944, 'উইল': 367, 'সমব': 2060, 'লনক': 1883, 'ইথ': 289, 'ওপ': 612, 'ষকত': 1960, 'আরএমব': 205, 'হবস': 2133, 'আরক': 207, 'এফএফএফ': 537, 'কটল': 656, 'তছ': 1109, 'আমল': 200, 'ধভ': 1262, 'ডজ': 1056, 'ইনল': 303, 'রসম': 1830, 'এলভ': 568, 'ইকক': 259, 'কজনক': 650, 'গঠন': 778, 'ছলন': 905, 'পকর': 1361, 'বলজ': 1525, 'বসন': 1543, 'রহক': 1836, 'ষর৷': 1993, 'কথক': 668, 'মটর': 1596, 'একভ': 493, 'উৎস': 448, 'ইমট': 323, 'ষস': 1995, 'উৎসব': 449, 'ইপগ': 309, 'ধহ': 1274, 'ডশ': 1074, 'এমড': 549, 'মবর': 1618, 'এসক': 581, 'যমক': 1699, 'যবয': 1692, 'ঘটল': 832, 'উপদ': 407, 'শম': 1939, 'এব': 540, 'ঘদ': 836, 'ইনলর': 304, 'লঅর': 1846, 'ওত': 608, 'পটট': 1371, 'তকদ': 1099, 'টলমল': 1027, 'টরট': 1020, 'জনবসত': 932, 'ঝক': 959, 'ধকর': 1249, 'উপলক': 418, 'রলসভ': 1818, 'হরক': 2140, 'লনগ': 1884, 'আফস': 187, 'কসই': 724, 'এমব': 555, 'কবজ': 681, 'পবক': 1403, 'অলক': 79, 'পরম': 1418, 'হটশট': 2117, 'এতব': 519, 'ঠত': 1043, 'চমক': 875, 'টমফ': 1015, 'গভর': 803, 'ভবন': 1565, 'এএফপ': 469, 'বট': 1485, 'নমন': 1329, 'শস': 1949, 'ইনস': 306, 'ষকর': 1962, 'রণও': 1750, 'গণ': 782, 'ঐক': 589, 'ইডগ': 282, 'সভল': 2053, 'ইআইইফ': 237, 'জনগ': 926, 'দনয': 1214, 'ওট': 604, 'ঈগলস': 355, 'কমপ': 690, 'সরলত': 2076, 'ভরশ': 1572, 'মতপ': 1604, 'ইহহ': 352, 'সভ': 2052, 'বরখ': 1515, 'জগৎট': 913, 'পঙ': 1363, 'ঠপ': 1044, 'মমফফফ': 1622, 'এওইয': 471, 'হভঙ': 2134, 'ভণ': 1557, 'এফএফ': 536, 'পরল': 1419, 'হবন': 2130, 'জনগণক': 928, 'লকধ': 1855, 'গনন': 796, 'ণয': 1094, 'তলত': 1164, 'হরর': 2146, 'বচন': 1473, 'ভরয': 1571, 'ফদ': 1437, 'ৎজ': 2156, 'কলস': 716, 'মরস': 1635, 'ঠকর': 1039, 'টড': 995, 'এসএল': 577, 'যমজ': 1700, 'টবট': 1009, 'কলগ': 709, 'বচস': 1474, 'সরণক': 2073, 'হবনব': 2131, 'অবজ': 52, 'ইবট': 319, 'উহ': 446, 'ঝগড': 962, 'গরখ': 809, 'জবক': 943, 'মলত': 1637, 'সবহ': 2051, 'কশপট': 721, 'একয': 496, 'ঝনঝন': 965, 'ঞও': 971, 'পনক': 1394, 'মকর': 1581, 'কতগ': 662, 'নময': 1331, 'ঝরত': 968, 'উনস': 400, 'চগ': 861, 'জধ': 922, 'টকম': 987, 'রসরত': 1832, 'লপত': 1888, 'বশত': 1537, 'যদল': 1683, 'ইলর': 339, 'ইফটক': 314, 'ঞদ': 974, 'হকক': 2103, 'লগস': 1866, 'ভগ': 1552, 'এনএফএল': 526, 'কলঙ': 710, 'নখক': 1288, 'উনল': 399, 'একশত': 499, 'বলট': 1526, 'রচলন': 1740, 'উগ': 374, 'পণনক': 1380, 'অসভ': 92, 'খসখস': 759, 'ইচগ': 266, 'এইডস': 462, 'টডক': 996, 'লনট': 1885, 'ডকভ': 1054, 'তচরব': 1108, 'জনর': 933, 'উবল': 428, 'ইনহ': 307, 'তকর': 1100, 'আগত': 139, 'আপস': 183, 'বহনয': 1549, 'আইপ': 115, 'এইব': 463, 'মরচ': 1629, 'রগন': 1733, 'যকরত': 1657, 'হও': 2100, 'সওয': 2004, 'ইউহব': 253, 'উলব': 438, 'উইহ': 369, 'ওমহ': 619, 'উপরও': 417, 'চম': 874, 'মরণ': 1630, 'রকব': 1723, 'লসম': 1904, 'চলন': 887, 'বদহজম': 1495, 'রবচ': 1786, 'হটত': 2115, 'ইনব': 301, 'থপঞ': 1182, 'ঙত': 852, 'মরগ': 1628, 'টরব': 1022, 'হরণগ': 2142, 'ঘরব': 844, 'ওগ': 599, 'মছ': 1592, 'বসক': 1540, 'জলখ': 951, 'লওয': 1849, 'তলগ': 1162, 'করব৷': 704, 'ডলগ': 1072, 'সহপ': 2091, 'ঝব': 966, 'রচন': 1738, 'ইমনক': 324, 'থভ': 1188, 'ডনক': 1062, 'ধও': 1246, 'ওব': 615, 'এলফ': 567, 'ফস': 1450, 'ভগব': 1553, 'ইজন': 270, 'ওক': 596, 'ছগ': 893, 'ঠভ': 1046, 'জজনক': 917, 'গলত': 816, 'ইউএসড': 244, 'ই৷': 353, 'উডস': 388, 'এনআইক': 522, 'লঞ': 1872, 'যবর': 1693, 'ষই': 1956, 'হলপ': 2148, 'এলড': 565, 'জমজম': 947, 'ওকউড': 597, 'রথমত': 1767, 'নদণ': 1309, 'আটল': 158, 'টপক': 1003, 'ফক': 1432, 'ঞক': 972, 'পকট': 1353, 'থমক': 1190, 'ডপ': 1063, 'এওএল': 473, 'ইজনক': 271, 'আইএ': 102, 'আজও': 152, 'সজল': 2017, 'টকটক': 985, 'কশনট': 720, 'লশ': 1902, 'আউন': 131, 'পকথনট': 1359, 'উঞ': 377, 'অদলবদল': 22, 'তলট': 1163, 'পরচ': 1411, 'আরল': 214, 'মখমল': 1584, 'লপ': 1887, 'আশর': 224, 'অজনপ': 12, 'অনক': 26, 'ধধর': 1256, 'চকত': 856, 'যবচ': 1690, 'ওআইপ': 593, 'কটপ': 655, 'অবক': 49, 'যশক': 1709, 'ফত': 1436, 'ইনপ': 299, 'পটপ': 1372, 'সহচর': 2085, 'ণদ': 1088, 'কলনট': 713, 'ইটগ': 275, 'জন৷': 939, 'হববল': 2132, 'রশম': 1820, 'কহল': 732, 'বরট': 1516, 'মনই': 1610, 'ঠঙ': 1041, 'ডড': 1059, 'কসবজ': 729, 'ডসন': 1076, 'আবল': 191, 'ওমজ': 618, 'কনফ': 675, 'রলসত': 1817, 'লসস': 1905, 'হম': 2135, 'মণ': 1600, 'ঘতম': 835, 'পনসরদ': 1398, 'ফগ': 1433, 'আবশ': 192, 'আরউইনস': 204, 'এসস': 586, 'থব': 1186, 'শকম': 1915, 'থলজ': 1195, 'খণ': 745, 'ইডক': 281, 'একন': 490, 'টলভস': 1026, 'ভবক': 1563, 'শনক': 1930, 'তরক': 1151, 'জহ': 957, 'ধহয': 1275, 'উউন': 372, 'ইওউকক': 255, 'তয': 1148, 'হলম': 2149, 'ইফট': 313, 'উসগ': 445, 'জগণ': 909, 'গময': 805, 'ভল': 1573, 'গকর': 765, 'উইপ': 364, 'আফট': 186, 'ইসর': 348, 'নবপ': 1324, 'তপস': 1135, 'ধনব': 1259, 'দমবন': 1223, 'ইউভ': 249, 'ববর': 1509, 'রকরদ': 1727, 'ইউআরএল': 240, 'আএএএএএন': 132, 'এনএ': 523, 'আপগ': 177, 'এনময': 533, 'ষঙ': 1964, 'যতদ': 1677, 'নপ': 1313, 'তরঙ': 1153, 'ঙর': 853, 'ণঘ': 1084, 'সলপগ': 2079, 'তনহ': 1132, 'দই': 1198, 'আইজ': 108, 'নবস': 1326, 'এঞ': 509, 'টচক': 991, 'আধঘণ': 166, 'পকথ': 1355, 'ভবল': 1567, 'নমম': 1330, 'থওয': 1171, 'মহর': 1649, 'এএ': 468, 'বলর': 1534, 'এনপ': 531, 'গরক': 808, 'অপদস': 37, 'ঊর': 453, 'ওরফ': 622, 'তমদ': 1146, 'আইসড': 124, 'তখন': 1103, 'অনভ': 28, 'এসএমএস': 576, 'টমওয': 1013, 'ন৷': 1349, 'শধর': 1928, 'ইসব': 346, 'অদক': 21, 'আপয': 181, 'ইতগ': 286, 'উলস': 439, 'আপওয': 176, 'ইতদ': 287, 'ইটস': 279, 'ইপড': 311, 'ইপট': 310, 'জনত': 929, 'ঘগ': 825, 'তরও': 1150, 'কআপস': 635, 'এনওয': 528, 'আউটট': 127, 'হজ': 2110, 'আউটগ': 126, 'ইউল': 252, 'ঞর': 976, 'নফ': 1316, 'কশন': 719, 'রময': 1807, 'নসই': 1343, 'উইজ': 361, 'এছ': 507, 'রহহ': 1844, 'লকদ': 1854, 'আশঙ': 223, 'গরদ': 810, 'ষণয': 1977, 'হগম': 2108, 'উথ': 390, 'এনড': 530, 'নখগ': 1289, 'এমনই': 550, 'ইভওয': 321, 'আরভ': 211, 'জনসন': 937, 'কআউটট': 632, 'আলহ': 221, 'মগর': 1588, 'গস': 819, 'যপশ': 1688, 'ত৷': 1169, 'শটন': 1923, 'মগত': 1587, 'অপহরণক': 44, 'শহরক': 1952, 'শলগ': 1946, 'আইব': 118, 'লগভ': 1863, 'রসব': 1828, 'অফস': 47, 'রলন': 1815, 'টসল': 1033, 'ঠব': 1045, 'আঞ': 154, 'তধন': 1124, 'ডআউট': 1049, 'আইনজ': 114, 'একজনও': 482, 'ঘনকট': 838, 'উলক': 436, 'যপদ': 1687, 'কনভ': 676, 'লটট': 1875, 'লঘ': 1867, 'দও': 1199, 'এডমন': 512, 'হপর': 2127, 'উমল': 432, 'নশট': 1339, 'থরথর': 1193, 'ওজ': 600, 'লবণ': 1891, 'এমবসড': 556, 'সবগ': 2044, 'দনট': 1213, 'তনশ': 1131, 'অসমর': 94, 'এলস': 569, 'ইকট': 260, 'রহশ': 1842, 'দরতম': 1230, 'ঐসব': 592, 'বলয': 1533, 'আলভ': 220, 'উনক': 395, 'উনজ': 396, 'ইডল': 284, 'নপত': 1314, 'রসবপ': 1829, 'চটক': 866, 'তকরণট': 1102, 'কসকল': 725, 'ফলক': 1442, 'ষণট': 1974, 'এমআরআই': 544, 'ঞপ': 975, 'দহ': 1244, 'আলত': 217, 'এফ': 535, 'হজনকভ': 2112, 'আহহহ': 236, 'উপজ': 405, 'উইসকনস': 368, 'ইনশ': 305, 'ইটক': 274, 'গসপ': 820, 'দপত': 1218, 'উপপত': 409, 'ইকয': 261, 'তনট': 1128, 'পরপরই': 1415, 'ওজনক': 602, 'ঠকও': 1036, 'ণগত': 1083, 'বনব': 1502, 'আউটর': 129, 'তরম': 1159, 'ডলক': 1071, 'ওওওওস': 595, 'ওওওওওস': 594, 'আআআক': 98, 'ধময': 1265, 'লথক': 1879, 'জলগ': 952, 'বসট': 1541, 'অলসভ': 84, 'এসএলএস': 579, 'সগত': 2011, 'ছদ': 898, 'এলএসড': 562, 'তঘড': 1107, 'কসনভ': 728, 'দমক': 1221, 'ইনউড': 293, 'ইসঙ': 345, 'টআপগ': 977, 'হনন': 2125, 'পপস': 1401, 'ককট': 641, 'ল৷': 1907, 'রজনন': 1744, 'উভ': 429, 'খহ': 761, 'কআপক': 634, 'আইল': 121, 'লআউট': 1847, 'অষ': 86, 'আফগ': 185, 'উটন': 379, 'রকক': 1720, 'ইনজ': 297, 'সফট': 2034, 'শকক': 1912, 'ঢল': 1078, 'আরব': 209, 'কনগ': 674, 'কওভ': 638, 'লগম': 1864, 'পরক': 1410, 'হদ': 2123, 'আচমক': 145, 'থপত': 1183, 'এমএল': 546, 'শবক': 1937, 'সও': 2003, 'অবগত': 50, 'নবত': 1321, 'লবশত': 1892, 'এতগ': 516, 'নওয': 1281, 'মতভ': 1606, 'করন': 702, 'হটল': 2116, 'দশগ': 1240, 'শতগ': 1925, 'রমণক': 1802, 'চলব': 888, 'গণত': 783, 'ননস': 1312, 'ফলশ': 1448, 'বও': 1462, 'শলগত': 1947, 'নটন': 1299, 'আরএস': 206, 'উবগ': 426, 'ঠশ': 1047, 'রররররররর': 1813, 'উবট': 427, 'ভপ': 1560, 'বরফয': 1522, 'ইমল': 326, 'ইউআরএলট': 241, 'হশ': 2150, 'রমণব': 1803, 'রসওয': 1824, 'এফব': 539, 'তমভ': 1147, 'কতক': 661, 'ইউ': 239, 'লটক': 1874, 'এভজ': 542, 'রকভ': 1724, 'জগল': 911, 'গঠকদ': 777, 'কনক': 673, 'অতট': 18, 'বগল': 1470, 'পশম': 1426, 'চকরও': 859, 'টকক': 983, 'আরম': 212, 'মইট': 1575, 'পকথনক': 1357, 'আরথ': 208, 'হরণট': 2143, 'টমণ': 1014, 'কবন': 682, 'সরড': 2071, 'নপন': 1315, 'থপরত': 1185, 'গণতন': 784, 'পকত': 1354, 'মঠ': 1598, 'উপকরণ': 403, 'লমর': 1897, 'আইকনট': 107, 'অযত': 72, 'বলতম': 1529, 'লও': 1848, 'ওফ': 614, 'ধচন': 1252, 'ইনও': 294, 'নবক': 1318, 'অআম': 0, 'বদম': 1493, 'চজন': 863, 'আইকনগ': 106, 'সহস': 2093, 'অলঙ': 80, 'টমস': 1016, 'ইসগ': 344, 'সফলতম': 2038, 'এলক': 563, 'আরর': 213, 'ঘষত': 849, 'কমপক': 691, 'পরদ': 1413, 'ততগ': 1115, 'নবট': 1320, 'খকক': 736, 'রমনক': 1805, 'আইক': 104, 'ঘষ': 847, 'গনস': 797, 'ইমস': 327, 'অবম': 58, 'এমক': 548, 'ইরম': 330, 'আইস': 122, 'গলক': 813, 'সউক': 2001, 'টপস': 1005, 'পপকর': 1400, 'হসজ': 2152, 'লগল': 1865, 'দসই': 1243, 'ষসদ': 1996, 'এসএলআর': 578, 'থরট': 1192, 'ঙক': 851, 'উলট': 437, 'উৎসবগ': 450, 'বকর': 1468, 'গনদ': 795, 'থনয': 1180, 'ওখ': 598, 'ভবনগ': 1566, 'উফ': 424, 'ধরণট': 1270, 'হকন': 2105, 'নআউট': 1276, 'শভ': 1938, 'নবদ': 1322, 'বশহহহ': 1538, 'বরণগ': 1518, 'পথট': 1386, 'লহ': 1906, 'নওট': 1279, 'জপম': 941, 'ইসসগ': 350, 'পউট': 1350, 'বইপ': 1459, 'তরজন': 1154, 'ফলগ': 1443, 'অরণ': 76, 'খও': 734, 'হউক': 2099, 'ইজড': 269, 'উপকরণগ': 404, 'টপগ': 1004, 'তবভ': 1140, 'বহত': 1547, 'মলর': 1639, 'টলস': 1028, 'উটর': 380, 'আইনগত': 113, 'টউড': 979, 'টই': 978, 'উইয': 366, 'ষজগ': 1967, 'ষও': 1957, 'টসর': 1032, 'ঘষছ': 848, 'হয়': 2154, 'সবসময়ই': 2050, 'বনট': 1500, 'য়মগ': 2159, 'কজ': 648, 'গলজনক': 815, 'সবসময়': 2049, 'যচ': 1666, 'কসময়': 730, 'দয়': 1245, 'বড়': 1550, 'ষয়': 1998, 'নহত': 1348, 'রয়': 1845, 'পড়': 1431, 'এহস': 587, 'রহও': 1835, 'ওয়': 627, 'ময়কর': 1651, 'দময়': 1225, 'ফসব': 1451, 'এড়': 588, 'সপন': 2032, 'আমদ': 197}\n"
     ]
    },
    {
     "ename": "NameError",
     "evalue": "name 'document' is not defined",
     "output_type": "error",
     "traceback": [
      "\u001b[1;31m---------------------------------------------------------------------------\u001b[0m",
      "\u001b[1;31mNameError\u001b[0m                                 Traceback (most recent call last)",
      "\u001b[1;32m<ipython-input-25-096aca0ae3f3>\u001b[0m in \u001b[0;36m<module>\u001b[1;34m\u001b[0m\n\u001b[0;32m     11\u001b[0m \u001b[1;33m\u001b[0m\u001b[0m\n\u001b[0;32m     12\u001b[0m \u001b[1;31m# Encode the Document\u001b[0m\u001b[1;33m\u001b[0m\u001b[1;33m\u001b[0m\u001b[1;33m\u001b[0m\u001b[0m\n\u001b[1;32m---> 13\u001b[1;33m \u001b[0mvector\u001b[0m \u001b[1;33m=\u001b[0m \u001b[0mvectorizer\u001b[0m\u001b[1;33m.\u001b[0m\u001b[0mtransform\u001b[0m\u001b[1;33m(\u001b[0m\u001b[0mdocument\u001b[0m\u001b[1;33m)\u001b[0m\u001b[1;33m\u001b[0m\u001b[1;33m\u001b[0m\u001b[0m\n\u001b[0m\u001b[0;32m     14\u001b[0m \u001b[1;33m\u001b[0m\u001b[0m\n\u001b[0;32m     15\u001b[0m \u001b[1;31m# Summarizing the Encoded Texts\u001b[0m\u001b[1;33m\u001b[0m\u001b[1;33m\u001b[0m\u001b[1;33m\u001b[0m\u001b[0m\n",
      "\u001b[1;31mNameError\u001b[0m: name 'document' is not defined"
     ]
    }
   ],
   "source": [
    "from sklearn.feature_extraction.text import CountVectorizer\n",
    "  \n",
    "\n",
    "# Create a Vectorizer Object\n",
    "vectorizer = CountVectorizer()\n",
    "  \n",
    "vectorizer.fit(data.clean)\n",
    "  \n",
    "# Printing the identified Unique words along with their indices\n",
    "print(\"Vocabulary: \", vectorizer.vocabulary_)\n",
    "  \n",
    "# Encode the Document\n",
    "vector = vectorizer.transform(document)\n",
    "  \n",
    "# Summarizing the Encoded Texts\n",
    "print(\"Encoded Document is:\")\n",
    "print(vector.toarray(10))"
   ]
  },
  {
   "cell_type": "code",
   "execution_count": 26,
   "id": "235c27cb",
   "metadata": {},
   "outputs": [
    {
     "data": {
      "text/plain": [
       "(15538, 100918)"
      ]
     },
     "execution_count": 26,
     "metadata": {},
     "output_type": "execute_result"
    }
   ],
   "source": [
    "# from sklearn.feature_extraction.text import TfidfTransformer\n",
    "# tfidf_transformer = TfidfTransformer()\n",
    "# X = tfidf_transformer.fit_transform(x1)\n",
    "# X.shape\n",
    "\n",
    "from sklearn.feature_extraction.text import TfidfTransformer\n",
    "tfidf_transformer = TfidfTransformer()\n",
    "X = tfidf_transformer.fit_transform(x1)\n",
    "X.shape"
   ]
  },
  {
   "cell_type": "code",
   "execution_count": null,
   "id": "67f38fd5",
   "metadata": {},
   "outputs": [],
   "source": []
  },
  {
   "cell_type": "code",
   "execution_count": null,
   "id": "7502e501",
   "metadata": {},
   "outputs": [],
   "source": []
  },
  {
   "cell_type": "markdown",
   "id": "533a595d",
   "metadata": {},
   "source": [
    "# Model Train"
   ]
  },
  {
   "cell_type": "code",
   "execution_count": 27,
   "id": "58bd1e8f",
   "metadata": {},
   "outputs": [],
   "source": [
    "from sklearn.model_selection import train_test_split\n",
    "X_train, X_test, y_train, y_test = train_test_split(X, y, test_size = 0.1, random_state =25,shuffle = True ) #shuffle = True\n",
    "#print(len(X_train))\n",
    "#print(len(X_test))\n"
   ]
  },
  {
   "cell_type": "markdown",
   "id": "44fa8573",
   "metadata": {},
   "source": [
    "# MNB"
   ]
  },
  {
   "cell_type": "code",
   "execution_count": 33,
   "id": "21160ba5",
   "metadata": {},
   "outputs": [
    {
     "name": "stdout",
     "output_type": "stream",
     "text": [
      "The accuracy of the classifier is 71.880\n",
      "The accuracy_train of the classifier is 98.390\n"
     ]
    }
   ],
   "source": [
    "# Import multinomialNB\n",
    "from sklearn.naive_bayes import MultinomialNB\n",
    "# create MultinomialNB object\n",
    "clf= MultinomialNB(alpha=0.1, class_prior=None, fit_prior=True)\n",
    "# Train clf\n",
    "clf.fit(X_train, y_train)\n",
    "# Compute accuracy on test set\n",
    "accuracy= clf.score(X_test, y_test)\n",
    "# compute accuracy on train set\n",
    "accuracy_train = clf.score(X_train, y_train)\n",
    "\n",
    "accuracy = round(accuracy * 100,2)\n",
    "accuracy_train = round(accuracy_train*100,2)\n",
    "print(\"The accuracy of the classifier is %.3f\" %  accuracy)\n",
    "\n",
    "print(\"The accuracy_train of the classifier is %.3f\" %  accuracy_train)"
   ]
  },
  {
   "cell_type": "code",
   "execution_count": 41,
   "id": "41e2cac4",
   "metadata": {},
   "outputs": [
    {
     "name": "stdout",
     "output_type": "stream",
     "text": [
      "confussion matrix\n",
      "[[113  11  31   2  56]\n",
      " [ 11 123  19   0  54]\n",
      " [ 16  17 425   9  52]\n",
      " [  7   2  54  46  27]\n",
      " [ 21   9  35   4 410]]\n",
      "\n",
      "\n",
      "Accuracy of MultinomialNB: 71.87902187902188 \n",
      "\n",
      "              precision    recall  f1-score   support\n",
      "\n",
      "           0       0.67      0.53      0.59       213\n",
      "           1       0.76      0.59      0.67       207\n",
      "           2       0.75      0.82      0.78       519\n",
      "           3       0.75      0.34      0.47       136\n",
      "           4       0.68      0.86      0.76       479\n",
      "\n",
      "    accuracy                           0.72      1554\n",
      "   macro avg       0.72      0.63      0.65      1554\n",
      "weighted avg       0.72      0.72      0.71      1554\n",
      "\n"
     ]
    }
   ],
   "source": [
    "m4 = 'MultinomialNB'\n",
    "mnb = MultinomialNB(alpha=0.1, class_prior=None, fit_prior=True)\n",
    "mnb.fit(X_train, y_train)\n",
    "mnb_predicted = mnb.predict(X_test)\n",
    "mnb_conf_matrix = confusion_matrix(y_test, mnb_predicted)\n",
    "mnb_acc_score = accuracy_score(y_test, mnb_predicted)\n",
    "print(\"confussion matrix\")\n",
    "print(mnb_conf_matrix)\n",
    "print(\"\\n\")\n",
    "print(\"Accuracy of MultinomialNB:\",mnb_acc_score*100,'\\n')\n",
    "print(classification_report(y_test,mnb_predicted))"
   ]
  },
  {
   "cell_type": "markdown",
   "id": "55705eb5",
   "metadata": {},
   "source": [
    "# LR"
   ]
  },
  {
   "cell_type": "code",
   "execution_count": 35,
   "id": "26ccb0f9",
   "metadata": {},
   "outputs": [
    {
     "name": "stdout",
     "output_type": "stream",
     "text": [
      "confussion matrix\n",
      "[[ 93   4  69   1  46]\n",
      " [  7 108  44   0  48]\n",
      " [  2   9 477   6  25]\n",
      " [  0   0  85  28  23]\n",
      " [ 12   7  58   0 402]]\n",
      "\n",
      "\n",
      "Accuracy of Logistic Regression: 71.2998712998713 \n",
      "\n",
      "Accuracy of Logistic Regression train: 90.76086956521739 \n",
      "\n",
      "              precision    recall  f1-score   support\n",
      "\n",
      "           0       0.82      0.44      0.57       213\n",
      "           1       0.84      0.52      0.64       207\n",
      "           2       0.65      0.92      0.76       519\n",
      "           3       0.80      0.21      0.33       136\n",
      "           4       0.74      0.84      0.79       479\n",
      "\n",
      "    accuracy                           0.71      1554\n",
      "   macro avg       0.77      0.58      0.62      1554\n",
      "weighted avg       0.74      0.71      0.69      1554\n",
      "\n"
     ]
    },
    {
     "name": "stderr",
     "output_type": "stream",
     "text": [
      "C:\\Users\\milon\\anaconda3\\lib\\site-packages\\sklearn\\linear_model\\_logistic.py:763: ConvergenceWarning: lbfgs failed to converge (status=1):\n",
      "STOP: TOTAL NO. of ITERATIONS REACHED LIMIT.\n",
      "\n",
      "Increase the number of iterations (max_iter) or scale the data as shown in:\n",
      "    https://scikit-learn.org/stable/modules/preprocessing.html\n",
      "Please also refer to the documentation for alternative solver options:\n",
      "    https://scikit-learn.org/stable/modules/linear_model.html#logistic-regression\n",
      "  n_iter_i = _check_optimize_result(\n"
     ]
    }
   ],
   "source": [
    "m1 = 'Logistic Regression'\n",
    "lr = LogisticRegression()\n",
    "model = lr.fit(X_train, y_train)\n",
    "lr_predict = lr.predict(X_test)\n",
    "lr_conf_matrix = confusion_matrix(y_test, lr_predict)\n",
    "lr_acc_score = accuracy_score(y_test, lr_predict)\n",
    "print(\"confussion matrix\")\n",
    "print(lr_conf_matrix)\n",
    "print(\"\\n\")\n",
    "print(\"Accuracy of Logistic Regression:\",lr_acc_score*100,'\\n')\n",
    "accuracy_train_lr = lr.score(X_train, y_train)\n",
    "print(\"Accuracy of Logistic Regression train:\",accuracy_train_lr*100,'\\n')\n",
    "print(classification_report(y_test,lr_predict))\n"
   ]
  },
  {
   "cell_type": "markdown",
   "id": "0a0d6718",
   "metadata": {},
   "source": [
    "# RF"
   ]
  },
  {
   "cell_type": "code",
   "execution_count": 47,
   "id": "c57c0b78",
   "metadata": {},
   "outputs": [
    {
     "name": "stdout",
     "output_type": "stream",
     "text": [
      "confussion matrix\n",
      "[[128   6  45   3  31]\n",
      " [  6 138  35   0  28]\n",
      " [  4   9 477   5  24]\n",
      " [  3   1  67  54  11]\n",
      " [ 18  13  68   3 377]]\n",
      "\n",
      "\n",
      "Accuracy of Random Forest: 75.54697554697555 \n",
      "\n",
      "Accuracy of Random Forest_train 99.54948512585813 \n",
      "\n",
      "              precision    recall  f1-score   support\n",
      "\n",
      "           0       0.81      0.60      0.69       213\n",
      "           1       0.83      0.67      0.74       207\n",
      "           2       0.69      0.92      0.79       519\n",
      "           3       0.83      0.40      0.54       136\n",
      "           4       0.80      0.79      0.79       479\n",
      "\n",
      "    accuracy                           0.76      1554\n",
      "   macro avg       0.79      0.67      0.71      1554\n",
      "weighted avg       0.77      0.76      0.75      1554\n",
      "\n"
     ]
    }
   ],
   "source": [
    "m3 = 'Random Forest Classfier'\n",
    "rf = RandomForestClassifier(n_estimators=100, random_state=10,max_depth=1000)\n",
    "rf.fit(X_train,y_train)\n",
    "rf_predicted = rf.predict(X_test)\n",
    "rf_conf_matrix = confusion_matrix(y_test, rf_predicted)\n",
    "rf_acc_score = accuracy_score(y_test, rf_predicted)\n",
    "print(\"confussion matrix\")\n",
    "print(rf_conf_matrix)\n",
    "print(\"\\n\")\n",
    "print(\"Accuracy of Random Forest:\",rf_acc_score*100,'\\n')\n",
    "accuracy_train_rf = rf.score(X_train, y_train)\n",
    "print(\"Accuracy of Random Forest_train\",accuracy_train_rf*100,'\\n')\n",
    "\n",
    "print(classification_report(y_test,rf_predicted))"
   ]
  },
  {
   "cell_type": "code",
   "execution_count": null,
   "id": "164850ee",
   "metadata": {},
   "outputs": [],
   "source": [
    "# plt.figure(figsize = (20,20))\n",
    "# wc = WordCloud(min_font_size = 3,  max_words = 3000 , width = 1600 , height = 800 , stopwords = STOPWORDS).generate(str(\" \".join(X_train)))\n",
    "# plt.imshow(wc,interpolation = 'bilinear')"
   ]
  },
  {
   "cell_type": "markdown",
   "id": "27ff9742",
   "metadata": {},
   "source": [
    "# K-NN"
   ]
  },
  {
   "cell_type": "code",
   "execution_count": 37,
   "id": "1544a176",
   "metadata": {},
   "outputs": [
    {
     "name": "stdout",
     "output_type": "stream",
     "text": [
      "confussion matrix\n",
      "[[ 27   0  67   0 119]\n",
      " [ 16  14  66   0 111]\n",
      " [ 26   0 213   3 277]\n",
      " [ 10   1  43   4  78]\n",
      " [ 30   2 156   0 291]]\n",
      "\n",
      "\n",
      "Accuracy of K-NeighborsClassifier: 35.32818532818533 \n",
      "\n",
      "Accuracy of Logistic Regression train: 50.836670480549195 \n",
      "\n",
      "              precision    recall  f1-score   support\n",
      "\n",
      "           0       0.25      0.13      0.17       213\n",
      "           1       0.82      0.07      0.12       207\n",
      "           2       0.39      0.41      0.40       519\n",
      "           3       0.57      0.03      0.06       136\n",
      "           4       0.33      0.61      0.43       479\n",
      "\n",
      "    accuracy                           0.35      1554\n",
      "   macro avg       0.47      0.25      0.24      1554\n",
      "weighted avg       0.43      0.35      0.31      1554\n",
      "\n"
     ]
    }
   ],
   "source": [
    "m5 = 'K-NeighborsClassifier'\n",
    "knn = KNeighborsClassifier(n_neighbors=9)\n",
    "knn.fit(X_train, y_train)\n",
    "knn_predicted = knn.predict(X_test)\n",
    "knn_conf_matrix = confusion_matrix(y_test, knn_predicted)\n",
    "knn_acc_score = accuracy_score(y_test, knn_predicted)\n",
    "print(\"confussion matrix\")\n",
    "print(knn_conf_matrix)\n",
    "print(\"\\n\")\n",
    "print(\"Accuracy of K-NeighborsClassifier:\",knn_acc_score*100,'\\n')\n",
    "accuracy_train_knn = knn.score(X_train, y_train)\n",
    "print(\"Accuracy of K-NeighborsClassifier:\",accuracy_train_knn*100,'\\n')\n",
    "print(classification_report(y_test,knn_predicted))"
   ]
  },
  {
   "cell_type": "markdown",
   "id": "8fa583b4",
   "metadata": {},
   "source": [
    "# DT"
   ]
  },
  {
   "cell_type": "code",
   "execution_count": 38,
   "id": "b304febb",
   "metadata": {},
   "outputs": [
    {
     "name": "stdout",
     "output_type": "stream",
     "text": [
      "confussion matrix\n",
      "[[124  14  26   8  41]\n",
      " [ 13 132  28   3  31]\n",
      " [ 15  15 398  26  65]\n",
      " [  5   3  34  81  13]\n",
      " [ 29  21  76   8 345]]\n",
      "\n",
      "\n",
      "Accuracy of DecisionTreeClassifier: 69.4980694980695 \n",
      "\n",
      "Accuracy of Logistic Regression train: 99.57093821510298 \n",
      "\n",
      "              precision    recall  f1-score   support\n",
      "\n",
      "           0       0.67      0.58      0.62       213\n",
      "           1       0.71      0.64      0.67       207\n",
      "           2       0.71      0.77      0.74       519\n",
      "           3       0.64      0.60      0.62       136\n",
      "           4       0.70      0.72      0.71       479\n",
      "\n",
      "    accuracy                           0.69      1554\n",
      "   macro avg       0.69      0.66      0.67      1554\n",
      "weighted avg       0.69      0.69      0.69      1554\n",
      "\n"
     ]
    }
   ],
   "source": [
    "m6 = 'DecisionTreeClassifier'\n",
    "dt = DecisionTreeClassifier(criterion = 'entropy',random_state=110,max_depth = 100000)\n",
    "dt.fit(X_train, y_train)\n",
    "dt_predicted = dt.predict(X_test)\n",
    "dt_conf_matrix = confusion_matrix(y_test, dt_predicted)\n",
    "dt_acc_score = accuracy_score(y_test, dt_predicted)\n",
    "print(\"confussion matrix\")\n",
    "print(dt_conf_matrix)\n",
    "print(\"\\n\")\n",
    "\n",
    "print(\"Accuracy of DecisionTreeClassifier:\",dt_acc_score*100,'\\n')\n",
    "\n",
    "accuracy_train_dt = dt.score(X_train, y_train)\n",
    "\n",
    "print(\"Accuracy of DecisionTreeClassifier:\",accuracy_train_dt*100,'\\n')\n",
    "print(classification_report(y_test,dt_predicted))\n"
   ]
  },
  {
   "cell_type": "markdown",
   "id": "2695ed24",
   "metadata": {},
   "source": [
    "# SVM"
   ]
  },
  {
   "cell_type": "code",
   "execution_count": 39,
   "id": "6a917f1c",
   "metadata": {},
   "outputs": [
    {
     "name": "stdout",
     "output_type": "stream",
     "text": [
      "confussion matrix\n",
      "[[ 96   5  67   1  44]\n",
      " [  6 108  49   0  44]\n",
      " [  2   8 475   7  27]\n",
      " [  1   0  83  30  22]\n",
      " [ 15   7  60   0 397]]\n",
      "\n",
      "\n",
      "Accuracy of Support Vector Classifier: 71.17117117117117 \n",
      "\n",
      "Accuracy of Logistic Regression train: 99.57093821510298 \n",
      "\n",
      "              precision    recall  f1-score   support\n",
      "\n",
      "           0       0.80      0.45      0.58       213\n",
      "           1       0.84      0.52      0.64       207\n",
      "           2       0.65      0.92      0.76       519\n",
      "           3       0.79      0.22      0.34       136\n",
      "           4       0.74      0.83      0.78       479\n",
      "\n",
      "    accuracy                           0.71      1554\n",
      "   macro avg       0.76      0.59      0.62      1554\n",
      "weighted avg       0.74      0.71      0.69      1554\n",
      "\n"
     ]
    }
   ],
   "source": [
    "m7 = 'Support Vector Classifier'\n",
    "svc =  SVC(kernel='rbf', C=2)\n",
    "svc.fit(X_train, y_train)\n",
    "svc_predicted = svc.predict(X_test)\n",
    "svc_conf_matrix = confusion_matrix(y_test, svc_predicted)\n",
    "svc_acc_score = accuracy_score(y_test, svc_predicted)\n",
    "print(\"confussion matrix\")\n",
    "print(svc_conf_matrix)\n",
    "print(\"\\n\")\n",
    "print(\"Accuracy of Support Vector Classifier:\",svc_acc_score*100,'\\n')\n",
    "accuracy_train_svc = dt.score(X_train, y_train)\n",
    "\n",
    "print(\"Accuracy of Support Vector Classifier:\",accuracy_train_svc*100,'\\n')\n",
    "print(classification_report(y_test,svc_predicted))"
   ]
  },
  {
   "cell_type": "code",
   "execution_count": 48,
   "id": "2e69a3a0",
   "metadata": {},
   "outputs": [
    {
     "data": {
      "image/png": "[encoded data removed]",
      "text/plain": [
       "<Figure size 864x360 with 1 Axes>"
      ]
     },
     "metadata": {
      "needs_background": "light"
     },
     "output_type": "display_data"
    }
   ],
   "source": [
    "model_ev = pd.DataFrame({'Model': ['Logistic Regression','Random Forest','MultinomialNB',\n",
    "                    'K-Nearest Neighbour','Decision Tree','Support Vector Machine'], 'Accuracy': [lr_acc_score*100,rf_acc_score*100,mnb_acc_score*100,knn_acc_score*100,dt_acc_score*100,svc_acc_score*100]})\n",
    "model_ev\n",
    "\n",
    "colors = ['red','green','blue','gold','silver','orange',]\n",
    "plt.figure(figsize=(12,5))\n",
    "plt.title(\"barplot Represent Accuracy of different models\")\n",
    "plt.xlabel(\"Accuracy %\")\n",
    "plt.ylabel(\"Algorithms\")\n",
    "plt.bar(model_ev['Model'],model_ev['Accuracy'],color = colors)\n",
    "plt.show()"
   ]
  },
  {
   "cell_type": "code",
   "execution_count": 43,
   "id": "0bd1d949",
   "metadata": {},
   "outputs": [
    {
     "data": {
      "text/html": [
       "<div>\n",
       "<style scoped>\n",
       "    .dataframe tbody tr th:only-of-type {\n",
       "        vertical-align: middle;\n",
       "    }\n",
       "\n",
       "    .dataframe tbody tr th {\n",
       "        vertical-align: top;\n",
       "    }\n",
       "\n",
       "    .dataframe thead th {\n",
       "        text-align: right;\n",
       "    }\n",
       "</style>\n",
       "<table border=\"1\" class=\"dataframe\">\n",
       "  <thead>\n",
       "    <tr style=\"text-align: right;\">\n",
       "      <th></th>\n",
       "      <th>Model</th>\n",
       "      <th>Accuracy</th>\n",
       "    </tr>\n",
       "  </thead>\n",
       "  <tbody>\n",
       "    <tr>\n",
       "      <th>0</th>\n",
       "      <td>Logistic Regression</td>\n",
       "      <td>71.299871</td>\n",
       "    </tr>\n",
       "    <tr>\n",
       "      <th>1</th>\n",
       "      <td>Random Forest</td>\n",
       "      <td>75.546976</td>\n",
       "    </tr>\n",
       "    <tr>\n",
       "      <th>2</th>\n",
       "      <td>MultinomialNB</td>\n",
       "      <td>71.879022</td>\n",
       "    </tr>\n",
       "    <tr>\n",
       "      <th>3</th>\n",
       "      <td>K-Nearest Neighbour</td>\n",
       "      <td>35.328185</td>\n",
       "    </tr>\n",
       "    <tr>\n",
       "      <th>4</th>\n",
       "      <td>Decision Tree</td>\n",
       "      <td>69.498069</td>\n",
       "    </tr>\n",
       "    <tr>\n",
       "      <th>5</th>\n",
       "      <td>Support Vector Machine</td>\n",
       "      <td>71.171171</td>\n",
       "    </tr>\n",
       "  </tbody>\n",
       "</table>\n",
       "</div>"
      ],
      "text/plain": [
       "                    Model   Accuracy\n",
       "0     Logistic Regression  71.299871\n",
       "1           Random Forest  75.546976\n",
       "2           MultinomialNB  71.879022\n",
       "3     K-Nearest Neighbour  35.328185\n",
       "4           Decision Tree  69.498069\n",
       "5  Support Vector Machine  71.171171"
      ]
     },
     "execution_count": 43,
     "metadata": {},
     "output_type": "execute_result"
    }
   ],
   "source": [
    "#create list of model and accuracy dicts\n",
    "perform_list = [ ]\n",
    "\n",
    "model_performance = pd.DataFrame({'Model': ['Logistic Regression','Random Forest','MultinomialNB',\n",
    "                    'K-Nearest Neighbour','Decision Tree','Support Vector Machine'], 'Accuracy': [lr_acc_score*100,rf_acc_score*100,mnb_acc_score*100,knn_acc_score*100,dt_acc_score*100,svc_acc_score*100]})\n",
    "#model_performance = model_ev[['Model', 'Test Accuracy', 'Precision', 'Recall', 'F1']]\n",
    "model_performance"
   ]
  },
  {
   "cell_type": "markdown",
   "id": "ed1caea2",
   "metadata": {},
   "source": [
    "# comparitive analysis"
   ]
  },
  {
   "cell_type": "code",
   "execution_count": 44,
   "id": "3fe5980e",
   "metadata": {},
   "outputs": [
    {
     "name": "stdout",
     "output_type": "stream",
     "text": [
      "The best accuracy of model is 75.54697554697555 from RF\n"
     ]
    }
   ],
   "source": [
    "model = model_performance[\"Model\"]\n",
    "max_value = model_performance[\"Accuracy\"].max()\n",
    "print(\"The best accuracy of model is\", max_value,\"from RF\")"
   ]
  },
  {
   "cell_type": "markdown",
   "id": "7033fad1",
   "metadata": {},
   "source": [
    "# Test of comment"
   ]
  },
  {
   "cell_type": "code",
   "execution_count": 49,
   "id": "f9d00712",
   "metadata": {},
   "outputs": [
    {
     "name": "stdout",
     "output_type": "stream",
     "text": [
      "Give your emotion : খুব কষ্টে আছি।\n",
      "sadness\n"
     ]
    }
   ],
   "source": [
    "\n",
    "from sklearn.ensemble import RandomForestClassifier\n",
    "classifier = RandomForestClassifier(n_estimators=100 ,criterion='entropy' , random_state=0).fit(X_train, y_train)\n",
    "classifier\n",
    "y_pred = classifier.predict(X_test)\n",
    "\n",
    "\n",
    "data_input = input(\"Give your emotion : \")\n",
    "\n",
    "y_pred1 = cv.transform([data_input])\n",
    "\n",
    "#y_pred1 = tfidf.transform(['আমি অপমানিত, বোধ করি'])\n",
    "#y_pred1 = cv.transform(['আমি অপমানিত, বোধ করি'])\n",
    "#y_pred1 = tfidf.transform(['আমি অপমানিত, বোধ করি'])\n",
    "\n",
    "yy = classifier.predict(y_pred1)\n",
    "result = \"\"\n",
    "if yy == [0]:\n",
    "  result = \"anger\"\n",
    "elif yy == [1]:\n",
    "  result = \"fear\"\n",
    "elif yy == [2]:\n",
    "  result = \"happy\"\n",
    "elif yy == [3]:\n",
    "  result = \"love\"\n",
    "elif yy == [4]:\n",
    "  result = \"sadness\"\n",
    "print(result)"
   ]
  },
  {
   "cell_type": "markdown",
   "id": "62290098",
   "metadata": {},
   "source": [
    " Category : \n",
    " 0 = anger,\n",
    "1 = fear,\n",
    "2 = happy,\n",
    "3 = love,\n",
    "4 = sadness"
   ]
  },
  {
   "cell_type": "code",
   "execution_count": null,
   "id": "45650d8f",
   "metadata": {},
   "outputs": [],
   "source": [
    "# data_input = input(\"Give your emotion : \")\n",
    "\n",
    "# y_pred1 = cv.transform([data_input])\n",
    "\n",
    "# #y_pred1 = tfidf.transform(['আমি অপমানিত, বোধ করি'])\n",
    "# #y_pred1 = cv.transform(['আমি অপমানিত, বোধ করি'])\n",
    "\n",
    "# #y_pred1 = tfidf.transform(['আমি অপমানিত, বোধ করি'])\n",
    "\n",
    "# yy = classifier.predict(y_pred1)\n",
    "# result = \"\"\n",
    "# if yy == [0]:\n",
    "#   result = \"anger\"\n",
    "# elif yy == [1]:\n",
    "#   result = \"fear\"\n",
    "# elif yy == [2]:\n",
    "#   result = \"happy\"\n",
    "# elif yy == [3]:\n",
    "#   result = \"love\"\n",
    "# elif yy == [4]:\n",
    "#   result = \"sadness\"\n",
    "# print(result)"
   ]
  },
  {
   "cell_type": "code",
   "execution_count": null,
   "id": "16e2de57",
   "metadata": {},
   "outputs": [],
   "source": [
    "# data_input = input(\"Give your emotion : \")\n",
    "\n",
    "# y_pred1 = cv.transform([data_input])\n",
    "\n",
    "# #y_pred1 = tfidf.transform(['আমি অপমানিত, বোধ করি'])\n",
    "# #y_pred1 = cv.transform(['আমি অপমানিত, বোধ করি'])\n",
    "\n",
    "# #y_pred1 = tfidf.transform(['আমি অপমানিত, বোধ করি'])\n",
    "\n",
    "# yy = classifier.predict(y_pred1)\n",
    "# result = \"\"\n",
    "# if yy == [0]:\n",
    "#   result = \"anger\"\n",
    "# elif yy == [1]:\n",
    "#   result = \"fear\"\n",
    "# elif yy == [2]:\n",
    "#   result = \"happy\"\n",
    "# elif yy == [3]:\n",
    "#   result = \"love\"\n",
    "# elif yy == [4]:\n",
    "#   result = \"sadness\"\n",
    "# print(result)\n"
   ]
  },
  {
   "cell_type": "code",
   "execution_count": null,
   "id": "aefc8e10",
   "metadata": {},
   "outputs": [],
   "source": [
    "data_input = input(\"Give your emotion : \")\n",
    "\n",
    "y_pred1 = cv.transform([data_input])\n",
    "\n",
    "#y_pred1 = tfidf.transform(['আমি অপমানিত, বোধ করি'])\n",
    "#y_pred1 = cv.transform(['আমি অপমানিত, বোধ করি'])\n",
    "\n",
    "#y_pred1 = tfidf.transform(['আমি অপমানিত, বোধ করি'])\n",
    "\n",
    "yy = classifier.predict(y_pred1)\n",
    "result = \"\"\n",
    "if yy == [0]:\n",
    "  result = \"anger\"\n",
    "elif yy == [1]:\n",
    "  result = \"fear\"\n",
    "elif yy == [2]:\n",
    "  result = \"happy\"\n",
    "elif yy == [3]:\n",
    "  result = \"love\"\n",
    "elif yy == [4]:\n",
    "  result = \"sadness\"\n",
    "print(result)"
   ]
  },
  {
   "cell_type": "code",
   "execution_count": null,
   "id": "7b1d83c1",
   "metadata": {},
   "outputs": [],
   "source": []
  },
  {
   "cell_type": "markdown",
   "id": "46e6a307",
   "metadata": {},
   "source": [
    "# comparitive analysis"
   ]
  },
  {
   "cell_type": "code",
   "execution_count": 45,
   "id": "c1ebf8df",
   "metadata": {},
   "outputs": [
    {
     "name": "stdout",
     "output_type": "stream",
     "text": [
      "The best accuracy of model is 75.54697554697555 from RF\n"
     ]
    }
   ],
   "source": [
    "model = model_performance[\"Model\"]\n",
    "max_value = model_performance[\"Accuracy\"].max()\n",
    "print(\"The best accuracy of model is\", max_value,\"from RF\")"
   ]
  },
  {
   "cell_type": "code",
   "execution_count": null,
   "id": "0e8a1334",
   "metadata": {},
   "outputs": [],
   "source": []
  },
  {
   "cell_type": "code",
   "execution_count": null,
   "id": "de741929",
   "metadata": {},
   "outputs": [],
   "source": []
  }
 ],
 "metadata": {
  "kernelspec": {
   "display_name": "Python 3",
   "language": "python",
   "name": "python3"
  },
  "language_info": {
   "codemirror_mode": {
    "name": "ipython",
    "version": 3
   },
   "file_extension": ".py",
   "mimetype": "text/x-python",
   "name": "python",
   "nbconvert_exporter": "python",
   "pygments_lexer": "ipython3",
   "version": "3.8.8"
  }
 },
 "nbformat": 4,
 "nbformat_minor": 5
}

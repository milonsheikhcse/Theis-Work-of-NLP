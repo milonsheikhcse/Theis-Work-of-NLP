{
 "cells": [
  {
   "cell_type": "code",
   "execution_count": null,
   "metadata": {
    "colab": {},
    "colab_type": "code",
    "id": "hauMJQrZ4aIU"
   },
   "outputs": [],
   "source": []
  },
  {
   "cell_type": "markdown",
   "metadata": {
    "colab_type": "text",
    "id": "8fowsr_BdpNO"
   },
   "source": [
    "# Libraries"
   ]
  },
  {
   "cell_type": "code",
   "execution_count": 78,
   "metadata": {
    "colab": {},
    "colab_type": "code",
    "executionInfo": {
     "elapsed": 940,
     "status": "ok",
     "timestamp": 1596397382606,
     "user": {
      "displayName": "EFTEKHAR HOSSAIN 1308006",
      "photoUrl": "https://lh3.googleusercontent.com/a-/AOh14GhB_S2SahlIoGyzj581ugCWrrC6Yl1l6BBILkt0=s64",
      "userId": "05840817180100570187"
     },
     "user_tz": -360
    },
    "id": "IT-FRKrbdrqz"
   },
   "outputs": [],
   "source": [
    "import numpy as np\n",
    "import pandas as pd\n",
    "import matplotlib.pyplot as plt\n",
    "%matplotlib inline\n",
    "import seaborn as sns\n",
    "import re,json,nltk\n",
    "from sklearn.preprocessing import LabelEncoder\n",
    "from sklearn.feature_extraction.text import TfidfVectorizer\n",
    "from sklearn.model_selection import train_test_split\n",
    "from sklearn.metrics import classification_report,accuracy_score,precision_score,recall_score,f1_score\n",
    "from tensorflow.keras.preprocessing.text import Tokenizer\n",
    "path ='C:/Users/milon/Desktop/nlp6/' \n",
    "stopwords_list = path+'bangla_stopwords.txt'\n"
   ]
  },
  {
   "cell_type": "markdown",
   "metadata": {
    "colab_type": "text",
    "id": "LbFfm0MPeG4Y"
   },
   "source": [
    "# Dataset Preparation"
   ]
  },
  {
   "cell_type": "code",
   "execution_count": 79,
   "metadata": {
    "colab": {
     "base_uri": "https://localhost:8080/",
     "height": 126
    },
    "colab_type": "code",
    "executionInfo": {
     "elapsed": 3332,
     "status": "ok",
     "timestamp": 1596395797009,
     "user": {
      "displayName": "EFTEKHAR HOSSAIN 1308006",
      "photoUrl": "https://lh3.googleusercontent.com/a-/AOh14GhB_S2SahlIoGyzj581ugCWrrC6Yl1l6BBILkt0=s64",
      "userId": "05840817180100570187"
     },
     "user_tz": -360
    },
    "id": "mGjQAUYxeKqv",
    "outputId": "f9a931bb-f61b-484a-fd3c-920e7f38598a"
   },
   "outputs": [
    {
     "name": "stdout",
     "output_type": "stream",
     "text": [
      "Total Reviews: 15428 \n",
      "Total happy Reviews: 5362 \n",
      "Total love Reviews: 1304 \n",
      "Total Reviews: 1937 \n",
      "Total anger Reviews: 2159 \n",
      "Total sadness Reviews: 4666\n"
     ]
    }
   ],
   "source": [
    "# Read the data and take only 1000 Reviews\n",
    "data = pd.read_csv(path+'comment_15000.csv')\n",
    "print(\"Total Reviews:\",len(data),\n",
    "      \"\\nTotal happy Reviews:\",len(data[data.Tag =='happy']),\n",
    "      \"\\nTotal love Reviews:\",len(data[data.Tag=='love']),\n",
    "      \"\\nTotal Reviews:\",len(data[data.Tag=='fear']),\n",
    "      \"\\nTotal anger Reviews:\",len(data[data.Tag=='anger']),\n",
    "      \"\\nTotal sadness Reviews:\",len(data[data.Tag=='sadness']))"
   ]
  },
  {
   "cell_type": "code",
   "execution_count": 80,
   "metadata": {
    "colab": {
     "base_uri": "https://localhost:8080/",
     "height": 332
    },
    "colab_type": "code",
    "executionInfo": {
     "elapsed": 1166,
     "status": "ok",
     "timestamp": 1596396692460,
     "user": {
      "displayName": "EFTEKHAR HOSSAIN 1308006",
      "photoUrl": "https://lh3.googleusercontent.com/a-/AOh14GhB_S2SahlIoGyzj581ugCWrrC6Yl1l6BBILkt0=s64",
      "userId": "05840817180100570187"
     },
     "user_tz": -360
    },
    "id": "0LuAApeNmsF_",
    "outputId": "c92704d1-48ed-4bb2-d484-987b5ea22d49"
   },
   "outputs": [
    {
     "data": {
      "image/png": "[encoded data removed]",
      "text/plain": [
       "<Figure size 432x288 with 1 Axes>"
      ]
     },
     "metadata": {},
     "output_type": "display_data"
    }
   ],
   "source": [
    "sns.set(font_scale=1.4)\n",
    "data['Tag'].value_counts().plot(kind='barh', figsize=(6, 4))\n",
    "plt.xlabel(\"Number of Comments\", labelpad=12)\n",
    "plt.ylabel(\"Sentiment Class\", labelpad=12)\n",
    "plt.yticks(rotation = 45)\n",
    "plt.title(\"Dataset Distribution\", y=1.02);"
   ]
  },
  {
   "cell_type": "code",
   "execution_count": 81,
   "metadata": {
    "colab": {
     "base_uri": "https://localhost:8080/",
     "height": 910
    },
    "colab_type": "code",
    "executionInfo": {
     "elapsed": 1411,
     "status": "ok",
     "timestamp": 1596063446791,
     "user": {
      "displayName": "EFTEKHAR HOSSAIN 1308006",
      "photoUrl": "https://lh3.googleusercontent.com/a-/AOh14GhB_S2SahlIoGyzj581ugCWrrC6Yl1l6BBILkt0=s64",
      "userId": "05840817180100570187"
     },
     "user_tz": -360
    },
    "id": "B_cQb9MOfIb4",
    "outputId": "6b89ebf6-3df8-4137-edc2-131631a89272"
   },
   "outputs": [
    {
     "name": "stdout",
     "output_type": "stream",
     "text": [
      "আমি অনুভব করি যে দৌড়ানো একটি ঐশ্বরিক অভিজ্ঞতা এবং আমি কিছু ধরণের আধ্যাত্মিক মুখোমুখি হওয়ার আশা করতে পারি \n",
      " Sentiment:--  happy \n",
      "\n",
      "আমি বলতে চাচ্ছি যে উশুতে এত উচ্চ প্রযুক্তিগত দক্ষতা অর্জনের জন্য সত্যিই কঠোর পরিশ্রম কিছুটা লজ্জা বোধ করছি কিন্তু একরকম অনুপ্রাণিত হয়েছি যখন আমি দেখলাম বাচ্চারা তাদের ক্লান্তি থাকা সত্ত্বেও আন্তরিকভাবে উশু পারফরম্যান্স করছে \n",
      " Sentiment:--  sadness \n",
      "\n",
      "আমি অনুভব করি যে আমি পথপ্রপাত এবং পাহাড়ে হাঁটা এবং দৌড়ানোর দুর্দান্ত জগতের দরজায় পা রেখেছি \n",
      " Sentiment:--  happy \n",
      "\n",
      "আমি সত্যিই এটির প্রশংসা করেছি এমনকি ভেবেছিলাম যে আমি খ্রিস্টান নই যে কোনো ধরনের প্রার্থনাকে স্বাগত জানানো হয় এবং আইডি খুব হারিয়ে যাওয়া এবং এর বাইরে অনুভব করছি \n",
      " Sentiment:--  sadness \n",
      "\n",
      "আমি নিজেকে বয়স্ক হয়ে ওঠার বিষয়ে বিরক্ত এবং আসন্ন দায়িত্ব সম্পর্কে চাপ অনুভব করি যার ফলে আমি সাধারণত কিছুটা দমন করা রাগ নিয়েই সন্তুষ্ট থাকি যা এটিকে প্ররোচিত করা হলেই এটি উপস্থিত হয় \n",
      " Sentiment:--  fear \n",
      "\n",
      "আমি মনে করি তিনি এই ধারণার প্রতি এতটা আগ্রহী নন \n",
      " Sentiment:--  happy \n",
      "\n",
      "আমি বোকার ছায়া অনুভব করছি \n",
      " Sentiment:--  sadness \n",
      "\n",
      "আমি সর্বদা বিশ্রী নীরবতা ভাঙার প্রয়োজন অনুভব করি যা এটিকে আরও বিশ্রী করে তোলে \n",
      " Sentiment:--  sadness \n",
      "\n",
      "আমি এখনও কিছুটা আতঙ্কিত বোধ করছি কিন্তু আমি অনুমান করি নিরাপদ এবং সতর্ক এবং সম্পূর্ণ সচেতন হলে আমি ঠিক হয়ে যাব \n",
      " Sentiment:--  fear \n",
      "\n",
      "আমার মনে হচ্ছে আমি চোখ মেলেছি এবং মিস করেছি \n",
      " Sentiment:--  sadness \n",
      "\n",
      "আমি আমার মাতৃভাষা কাগজের জন্য ভাল করতে দৃঢ়প্রতিজ্ঞ বোধ করছি যা এখানে বিজোড় দিনগুলিতে হবে \n",
      " Sentiment:--  happy \n",
      "\n",
      "আমার ব্লগ ক্রাশ এখন উন্মুক্ত হওয়ায় আমি সমস্ত লজ্জাজনক এবং দুর্বল বোধ করছি \n",
      " Sentiment:--  fear \n",
      "\n",
      "আমি নিজেকে কাঁচা এবং খালি রাখি এবং শত্রুদের আমাকে আক্রমণ করতে দেয় কারণ তারা এমন কিছুর জন্য আবেগপ্রবণ বোধ করে যা তারা বোকা মনে করে কারণ আমি নিজের এবং অন্যদের সাথে সৎ থাকতে চাই \n",
      " Sentiment:--  sadness \n",
      "\n",
      "আমি এখন খুব চালাক অনুভব করছি \n",
      " Sentiment:--  happy \n",
      "\n",
      "আমি শঙ্কিত বোধ করিনি তাই সম্পূর্ণ স্বাগত জানানোর অনুভূতি \n",
      " Sentiment:--  fear \n",
      "\n",
      "আমি পুরো বিষয়টি নিয়ে বেশ অসন্তুষ্ট বোধ করেছি বিশেষ করে যে তিনি আমাকে নির্দেশ দিয়েছিলেন যে আমার ওষুধ খাওয়া উচিত এবং আমার সাথে আলোচনা করেননি কেন তিনি এটিকে প্রয়োজনীয় বলে মনে করেন বা আমার ঝুঁকি কমাতে অন্যান্য জীবনধারার বিকল্পগুলি কী থাকতে পারে ইত্যাদি \n",
      " Sentiment:--  anger \n",
      "\n"
     ]
    }
   ],
   "source": [
    "# print some unprocessed reviews\n",
    "sample_data = [10,100,150,2000,2500,4000,4500,5000,6000,6500,6660,6899,6400,7000,7500,8000]\n",
    "for i in sample_data:\n",
    "      print(data.Comment[i],'\\n','Sentiment:-- ',data.Tag[i],'\\n')  "
   ]
  },
  {
   "cell_type": "code",
   "execution_count": null,
   "metadata": {},
   "outputs": [],
   "source": []
  },
  {
   "cell_type": "markdown",
   "metadata": {
    "colab_type": "text",
    "id": "P_9Dt_CRfdez"
   },
   "source": [
    "# Data Cleaning"
   ]
  },
  {
   "cell_type": "code",
   "execution_count": 82,
   "metadata": {
    "colab": {},
    "colab_type": "code",
    "executionInfo": {
     "elapsed": 942,
     "status": "ok",
     "timestamp": 1596396629556,
     "user": {
      "displayName": "EFTEKHAR HOSSAIN 1308006",
      "photoUrl": "https://lh3.googleusercontent.com/a-/AOh14GhB_S2SahlIoGyzj581ugCWrrC6Yl1l6BBILkt0=s64",
      "userId": "05840817180100570187"
     },
     "user_tz": -360
    },
    "id": "8-fQhDVnffoX"
   },
   "outputs": [],
   "source": [
    "# Data cleaning function\n",
    "def process_comments(comment): \n",
    "    comment = re.sub('[^\\u0980-\\u09FF]',' ',str(comment)) #removing unnecessary punctuation\n",
    "    return comment"
   ]
  },
  {
   "cell_type": "code",
   "execution_count": 83,
   "metadata": {
    "colab": {
     "base_uri": "https://localhost:8080/",
     "height": 1000
    },
    "colab_type": "code",
    "executionInfo": {
     "elapsed": 901,
     "status": "ok",
     "timestamp": 1596396653679,
     "user": {
      "displayName": "EFTEKHAR HOSSAIN 1308006",
      "photoUrl": "https://lh3.googleusercontent.com/a-/AOh14GhB_S2SahlIoGyzj581ugCWrrC6Yl1l6BBILkt0=s64",
      "userId": "05840817180100570187"
     },
     "user_tz": -360
    },
    "id": "5VSrSJ1zgPTv",
    "outputId": "219588fa-ae9d-4af4-afe9-e0679a40e3c1"
   },
   "outputs": [
    {
     "name": "stdout",
     "output_type": "stream",
     "text": [
      "Original:\n",
      " আমি অনুভব করি যে দৌড়ানো একটি ঐশ্বরিক অভিজ্ঞতা এবং আমি কিছু ধরণের আধ্যাত্মিক মুখোমুখি হওয়ার আশা করতে পারি \n",
      "Cleaned:\n",
      " আমি অনুভব করি যে দৌড়ানো একটি ঐশ্বরিক অভিজ্ঞতা এবং আমি কিছু ধরণের আধ্যাত্মিক মুখোমুখি হওয়ার আশা করতে পারি \n",
      " Sentiment:--  happy \n",
      "\n",
      "Original:\n",
      " আমি বলতে চাচ্ছি যে উশুতে এত উচ্চ প্রযুক্তিগত দক্ষতা অর্জনের জন্য সত্যিই কঠোর পরিশ্রম কিছুটা লজ্জা বোধ করছি কিন্তু একরকম অনুপ্রাণিত হয়েছি যখন আমি দেখলাম বাচ্চারা তাদের ক্লান্তি থাকা সত্ত্বেও আন্তরিকভাবে উশু পারফরম্যান্স করছে \n",
      "Cleaned:\n",
      " আমি বলতে চাচ্ছি যে উশুতে এত উচ্চ প্রযুক্তিগত দক্ষতা অর্জনের জন্য সত্যিই কঠোর পরিশ্রম কিছুটা লজ্জা বোধ করছি কিন্তু একরকম অনুপ্রাণিত হয়েছি যখন আমি দেখলাম বাচ্চারা তাদের ক্লান্তি থাকা সত্ত্বেও আন্তরিকভাবে উশু পারফরম্যান্স করছে \n",
      " Sentiment:--  sadness \n",
      "\n",
      "Original:\n",
      " আমি অনুভব করি যে আমি পথপ্রপাত এবং পাহাড়ে হাঁটা এবং দৌড়ানোর দুর্দান্ত জগতের দরজায় পা রেখেছি \n",
      "Cleaned:\n",
      " আমি অনুভব করি যে আমি পথপ্রপাত এবং পাহাড়ে হাঁটা এবং দৌড়ানোর দুর্দান্ত জগতের দরজায় পা রেখেছি \n",
      " Sentiment:--  happy \n",
      "\n",
      "Original:\n",
      " আমি সত্যিই এটির প্রশংসা করেছি এমনকি ভেবেছিলাম যে আমি খ্রিস্টান নই যে কোনো ধরনের প্রার্থনাকে স্বাগত জানানো হয় এবং আইডি খুব হারিয়ে যাওয়া এবং এর বাইরে অনুভব করছি \n",
      "Cleaned:\n",
      " আমি সত্যিই এটির প্রশংসা করেছি এমনকি ভেবেছিলাম যে আমি খ্রিস্টান নই যে কোনো ধরনের প্রার্থনাকে স্বাগত জানানো হয় এবং আইডি খুব হারিয়ে যাওয়া এবং এর বাইরে অনুভব করছি \n",
      " Sentiment:--  sadness \n",
      "\n",
      "Original:\n",
      " আমি নিজেকে বয়স্ক হয়ে ওঠার বিষয়ে বিরক্ত এবং আসন্ন দায়িত্ব সম্পর্কে চাপ অনুভব করি যার ফলে আমি সাধারণত কিছুটা দমন করা রাগ নিয়েই সন্তুষ্ট থাকি যা এটিকে প্ররোচিত করা হলেই এটি উপস্থিত হয় \n",
      "Cleaned:\n",
      " আমি নিজেকে বয়স্ক হয়ে ওঠার বিষয়ে বিরক্ত এবং আসন্ন দায়িত্ব সম্পর্কে চাপ অনুভব করি যার ফলে আমি সাধারণত কিছুটা দমন করা রাগ নিয়েই সন্তুষ্ট থাকি যা এটিকে প্ররোচিত করা হলেই এটি উপস্থিত হয় \n",
      " Sentiment:--  fear \n",
      "\n",
      "Original:\n",
      " আমি মনে করি তিনি এই ধারণার প্রতি এতটা আগ্রহী নন \n",
      "Cleaned:\n",
      " আমি মনে করি তিনি এই ধারণার প্রতি এতটা আগ্রহী নন \n",
      " Sentiment:--  happy \n",
      "\n",
      "Original:\n",
      " আমি বোকার ছায়া অনুভব করছি \n",
      "Cleaned:\n",
      " আমি বোকার ছায়া অনুভব করছি \n",
      " Sentiment:--  sadness \n",
      "\n",
      "Original:\n",
      " আমি সর্বদা বিশ্রী নীরবতা ভাঙার প্রয়োজন অনুভব করি যা এটিকে আরও বিশ্রী করে তোলে \n",
      "Cleaned:\n",
      " আমি সর্বদা বিশ্রী নীরবতা ভাঙার প্রয়োজন অনুভব করি যা এটিকে আরও বিশ্রী করে তোলে \n",
      " Sentiment:--  sadness \n",
      "\n",
      "Original:\n",
      " আমি এখনও কিছুটা আতঙ্কিত বোধ করছি কিন্তু আমি অনুমান করি নিরাপদ এবং সতর্ক এবং সম্পূর্ণ সচেতন হলে আমি ঠিক হয়ে যাব \n",
      "Cleaned:\n",
      " আমি এখনও কিছুটা আতঙ্কিত বোধ করছি কিন্তু আমি অনুমান করি নিরাপদ এবং সতর্ক এবং সম্পূর্ণ সচেতন হলে আমি ঠিক হয়ে যাব \n",
      " Sentiment:--  fear \n",
      "\n",
      "Original:\n",
      " আমার মনে হচ্ছে আমি চোখ মেলেছি এবং মিস করেছি \n",
      "Cleaned:\n",
      " আমার মনে হচ্ছে আমি চোখ মেলেছি এবং মিস করেছি \n",
      " Sentiment:--  sadness \n",
      "\n",
      "Original:\n",
      " আমি আমার মাতৃভাষা কাগজের জন্য ভাল করতে দৃঢ়প্রতিজ্ঞ বোধ করছি যা এখানে বিজোড় দিনগুলিতে হবে \n",
      "Cleaned:\n",
      " আমি আমার মাতৃভাষা কাগজের জন্য ভাল করতে দৃঢ়প্রতিজ্ঞ বোধ করছি যা এখানে বিজোড় দিনগুলিতে হবে \n",
      " Sentiment:--  happy \n",
      "\n",
      "Original:\n",
      " আমার ব্লগ ক্রাশ এখন উন্মুক্ত হওয়ায় আমি সমস্ত লজ্জাজনক এবং দুর্বল বোধ করছি \n",
      "Cleaned:\n",
      " আমার ব্লগ ক্রাশ এখন উন্মুক্ত হওয়ায় আমি সমস্ত লজ্জাজনক এবং দুর্বল বোধ করছি \n",
      " Sentiment:--  fear \n",
      "\n",
      "Original:\n",
      " আমি নিজেকে কাঁচা এবং খালি রাখি এবং শত্রুদের আমাকে আক্রমণ করতে দেয় কারণ তারা এমন কিছুর জন্য আবেগপ্রবণ বোধ করে যা তারা বোকা মনে করে কারণ আমি নিজের এবং অন্যদের সাথে সৎ থাকতে চাই \n",
      "Cleaned:\n",
      " আমি নিজেকে কাঁচা এবং খালি রাখি এবং শত্রুদের আমাকে আক্রমণ করতে দেয় কারণ তারা এমন কিছুর জন্য আবেগপ্রবণ বোধ করে যা তারা বোকা মনে করে কারণ আমি নিজের এবং অন্যদের সাথে সৎ থাকতে চাই \n",
      " Sentiment:--  sadness \n",
      "\n",
      "Original:\n",
      " আমি এখন খুব চালাক অনুভব করছি \n",
      "Cleaned:\n",
      " আমি এখন খুব চালাক অনুভব করছি \n",
      " Sentiment:--  happy \n",
      "\n",
      "Original:\n",
      " আমি শঙ্কিত বোধ করিনি তাই সম্পূর্ণ স্বাগত জানানোর অনুভূতি \n",
      "Cleaned:\n",
      " আমি শঙ্কিত বোধ করিনি তাই সম্পূর্ণ স্বাগত জানানোর অনুভূতি \n",
      " Sentiment:--  fear \n",
      "\n",
      "Original:\n",
      " আমি পুরো বিষয়টি নিয়ে বেশ অসন্তুষ্ট বোধ করেছি বিশেষ করে যে তিনি আমাকে নির্দেশ দিয়েছিলেন যে আমার ওষুধ খাওয়া উচিত এবং আমার সাথে আলোচনা করেননি কেন তিনি এটিকে প্রয়োজনীয় বলে মনে করেন বা আমার ঝুঁকি কমাতে অন্যান্য জীবনধারার বিকল্পগুলি কী থাকতে পারে ইত্যাদি \n",
      "Cleaned:\n",
      " আমি পুরো বিষয়টি নিয়ে বেশ অসন্তুষ্ট বোধ করেছি বিশেষ করে যে তিনি আমাকে নির্দেশ দিয়েছিলেন যে আমার ওষুধ খাওয়া উচিত এবং আমার সাথে আলোচনা করেননি কেন তিনি এটিকে প্রয়োজনীয় বলে মনে করেন বা আমার ঝুঁকি কমাতে অন্যান্য জীবনধারার বিকল্পগুলি কী থাকতে পারে ইত্যাদি \n",
      " Sentiment:--  anger \n",
      "\n"
     ]
    }
   ],
   "source": [
    "# Apply the function into the dataframe\n",
    "data['cleaned'] = data['Comment'].apply(process_comments)  \n",
    "\n",
    "# print some cleaned reviews from the dataset\n",
    "sample_data = [10,100,150,2000,2500,4000,4500,5000,6000,6500,6660,6899,6400,7000,7500,8000]\n",
    "for i in sample_data:\n",
    "     print('Original:\\n',data.Comment[i],'\\nCleaned:\\n',\n",
    "           data.cleaned[i],'\\n','Sentiment:-- ',data.Tag[i],'\\n')"
   ]
  },
  {
   "cell_type": "markdown",
   "metadata": {},
   "source": [
    "# Preprocessing"
   ]
  },
  {
   "cell_type": "code",
   "execution_count": null,
   "metadata": {},
   "outputs": [],
   "source": []
  },
  {
   "cell_type": "code",
   "execution_count": null,
   "metadata": {},
   "outputs": [],
   "source": []
  },
  {
   "cell_type": "code",
   "execution_count": null,
   "metadata": {},
   "outputs": [],
   "source": []
  },
  {
   "cell_type": "markdown",
   "metadata": {
    "colab_type": "text",
    "id": "x_G4vHGsjyXt"
   },
   "source": []
  },
  {
   "cell_type": "code",
   "execution_count": 84,
   "metadata": {
    "colab": {
     "base_uri": "https://localhost:8080/",
     "height": 72
    },
    "colab_type": "code",
    "executionInfo": {
     "elapsed": 1068,
     "status": "ok",
     "timestamp": 1596396661006,
     "user": {
      "displayName": "EFTEKHAR HOSSAIN 1308006",
      "photoUrl": "https://lh3.googleusercontent.com/a-/AOh14GhB_S2SahlIoGyzj581ugCWrrC6Yl1l6BBILkt0=s64",
      "userId": "05840817180100570187"
     },
     "user_tz": -360
    },
    "id": "U_l7GWutj1gu",
    "outputId": "3224bb68-23d6-46ba-ce38-72e8c5f7243e"
   },
   "outputs": [
    {
     "name": "stdout",
     "output_type": "stream",
     "text": [
      "After Cleaning: \n",
      "Removed 15 Small Reviews \n",
      "Total Reviews: 15413\n"
     ]
    }
   ],
   "source": [
    "# Length of each Reveiws\n",
    "data['length'] = data['cleaned'].apply(lambda x:len(x.split()))\n",
    "# Remove the reviews with least words\n",
    "dataset = data.loc[data.length>2]\n",
    "dataset = dataset.reset_index(drop = True)\n",
    "print(\"After Cleaning:\",\"\\nRemoved {} Small Reviews\".format(len(data)-len(dataset)),\"\\nTotal Reviews:\",len(dataset))"
   ]
  },
  {
   "cell_type": "markdown",
   "metadata": {
    "colab_type": "text",
    "id": "LDC0c6EHhnY2"
   },
   "source": [
    "# Dataset Summary"
   ]
  },
  {
   "cell_type": "code",
   "execution_count": 85,
   "metadata": {
    "colab": {
     "base_uri": "https://localhost:8080/",
     "height": 1000
    },
    "colab_type": "code",
    "executionInfo": {
     "elapsed": 1826,
     "status": "ok",
     "timestamp": 1596220284057,
     "user": {
      "displayName": "EFTEKHAR HOSSAIN 1308006",
      "photoUrl": "https://lh3.googleusercontent.com/a-/AOh14GhB_S2SahlIoGyzj581ugCWrrC6Yl1l6BBILkt0=s64",
      "userId": "05840817180100570187"
     },
     "user_tz": -360
    },
    "id": "0gvw8gwkhqPQ",
    "outputId": "dce039f9-fe95-41c6-8f44-b95dcd10050c"
   },
   "outputs": [
    {
     "name": "stdout",
     "output_type": "stream",
     "text": [
      "\n",
      "Class Name :  happy\n",
      "Number of Documents:5359\n",
      "Number of Words:96874\n",
      "Number of Unique Words:9532\n",
      "Most Frequent Words:\n",
      "\n",
      "আমি\t8452\n",
      "এবং\t3168\n",
      "করি\t2981\n",
      "বোধ\t2622\n",
      "আমার\t2169\n",
      "যে\t2062\n",
      "অনুভব\t1481\n",
      "করছি\t1403\n",
      "মনে\t1352\n",
      "না\t1143\n",
      "\n",
      "Class Name :  sadness\n",
      "Number of Documents:4662\n",
      "Number of Words:79836\n",
      "Number of Unique Words:7503\n",
      "Most Frequent Words:\n",
      "\n",
      "আমি\t7478\n",
      "বোধ\t2738\n",
      "এবং\t2608\n",
      "করি\t2367\n",
      "আমার\t2016\n",
      "যে\t1460\n",
      "করছি\t1238\n",
      "না\t1183\n",
      "অনুভব\t1109\n",
      "মনে\t953\n",
      "\n",
      "Class Name :  anger\n",
      "Number of Documents:2154\n",
      "Number of Words:38831\n",
      "Number of Unique Words:5075\n",
      "Most Frequent Words:\n",
      "\n",
      "আমি\t3493\n",
      "এবং\t1212\n",
      "বোধ\t1201\n",
      "করি\t1139\n",
      "আমার\t960\n",
      "যে\t747\n",
      "না\t596\n",
      "অনুভব\t535\n",
      "করছি\t528\n",
      "মনে\t479\n",
      "\n",
      "Class Name :  fear\n",
      "Number of Documents:1934\n",
      "Number of Words:34049\n",
      "Number of Unique Words:4716\n",
      "Most Frequent Words:\n",
      "\n",
      "আমি\t3112\n",
      "বোধ\t1258\n",
      "এবং\t1061\n",
      "করি\t931\n",
      "আমার\t798\n",
      "করছি\t578\n",
      "যে\t557\n",
      "না\t460\n",
      "করতে\t439\n",
      "অনুভব\t393\n",
      "\n",
      "Class Name :  love\n",
      "Number of Documents:1304\n",
      "Number of Words:24854\n",
      "Number of Unique Words:4048\n",
      "Most Frequent Words:\n",
      "\n",
      "আমি\t2069\n",
      "এবং\t869\n",
      "করি\t774\n",
      "আমার\t642\n",
      "অনুভব\t542\n",
      "যে\t519\n",
      "বোধ\t404\n",
      "মনে\t345\n",
      "না\t301\n",
      "জন্য\t293\n",
      "Total Number of Unique Words:16293\n"
     ]
    }
   ],
   "source": [
    "def data_summary(dataset):\n",
    "    \n",
    "\n",
    "    documents = []\n",
    "    words = []\n",
    "    u_words = []\n",
    "    total_u_words = [word.strip().lower() for t in list(dataset.cleaned) for word in t.strip().split()]\n",
    "    class_label= [k for k,v in dataset.Tag.value_counts().to_dict().items()]\n",
    "  # find word list\n",
    "    for label in class_label: \n",
    "        word_list = [word.strip().lower() for t in list(dataset[dataset.Tag==label].cleaned) for word in t.strip().split()]\n",
    "        counts = dict()\n",
    "        for word in word_list:\n",
    "                counts[word] = counts.get(word, 0)+1\n",
    "        # sort the dictionary of word list  \n",
    "        ordered = sorted(counts.items(), key= lambda item: item[1],reverse = True)\n",
    "        # Documents per class\n",
    "        documents.append(len(list(dataset[dataset.Tag==label].cleaned)))\n",
    "        # Total Word per class\n",
    "        words.append(len(word_list))\n",
    "        # Unique words per class \n",
    "        u_words.append(len(np.unique(word_list)))\n",
    "       \n",
    "        print(\"\\nClass Name : \",label)\n",
    "        print(\"Number of Documents:{}\".format(len(list(dataset[dataset.Tag==label].cleaned))))  \n",
    "        print(\"Number of Words:{}\".format(len(word_list))) \n",
    "        print(\"Number of Unique Words:{}\".format(len(np.unique(word_list)))) \n",
    "        print(\"Most Frequent Words:\\n\")\n",
    "        for k,v in ordered[:10]:\n",
    "              print(\"{}\\t{}\".format(k,v))\n",
    "    print(\"Total Number of Unique Words:{}\".format(len(np.unique(total_u_words))))           \n",
    "   \n",
    "    return documents,words,u_words,class_label\n",
    "\n",
    "#call the fucntion\n",
    "documents,words,u_words,class_names = data_summary(dataset)    \n"
   ]
  },
  {
   "cell_type": "markdown",
   "metadata": {
    "colab_type": "text",
    "id": "HWKTj1zQjRPj"
   },
   "source": [
    "# Dataset Summary Visualization"
   ]
  },
  {
   "cell_type": "code",
   "execution_count": 86,
   "metadata": {
    "colab": {
     "base_uri": "https://localhost:8080/",
     "height": 342
    },
    "colab_type": "code",
    "executionInfo": {
     "elapsed": 1419,
     "status": "ok",
     "timestamp": 1596220290623,
     "user": {
      "displayName": "EFTEKHAR HOSSAIN 1308006",
      "photoUrl": "https://lh3.googleusercontent.com/a-/AOh14GhB_S2SahlIoGyzj581ugCWrrC6Yl1l6BBILkt0=s64",
      "userId": "05840817180100570187"
     },
     "user_tz": -360
    },
    "id": "SnjIpYyNjYJR",
    "outputId": "a4a3b66d-8d9e-4c30-c8ea-e211ce616af9",
    "scrolled": true
   },
   "outputs": [
    {
     "data": {
      "image/png": "[encoded data removed]",
      "text/plain": [
       "<Figure size 432x288 with 1 Axes>"
      ]
     },
     "metadata": {},
     "output_type": "display_data"
    }
   ],
   "source": [
    "data_matrix = pd.DataFrame({'Total Documents':documents,\n",
    "                            'Total Words':words,\n",
    "                            'Unique Words':u_words,\n",
    "                            'Class Names':class_names})\n",
    "df = pd.melt(data_matrix, id_vars=\"Class Names\", var_name=\"Category\", value_name=\"Values\")\n",
    "plt.figure(figsize=(6, 4))\n",
    "ax = plt.subplot()\n",
    "\n",
    "sns.barplot(data=df,x='Class Names', y='Values' ,hue='Category')\n",
    "ax.set_xlabel('Class Names') \n",
    "ax.set_title('Data Statistics')\n",
    "\n",
    "ax.xaxis.set_ticklabels(class_names, rotation=45);"
   ]
  },
  {
   "cell_type": "markdown",
   "metadata": {
    "colab_type": "text",
    "id": "aFulAOWCjjIl"
   },
   "source": [
    "# Comment Lenght Distribution"
   ]
  },
  {
   "cell_type": "code",
   "execution_count": 87,
   "metadata": {
    "colab": {
     "base_uri": "https://localhost:8080/",
     "height": 349
    },
    "colab_type": "code",
    "executionInfo": {
     "elapsed": 1254,
     "status": "ok",
     "timestamp": 1596220295388,
     "user": {
      "displayName": "EFTEKHAR HOSSAIN 1308006",
      "photoUrl": "https://lh3.googleusercontent.com/a-/AOh14GhB_S2SahlIoGyzj581ugCWrrC6Yl1l6BBILkt0=s64",
      "userId": "05840817180100570187"
     },
     "user_tz": -360
    },
    "id": "y5J5qlgrjneI",
    "outputId": "3e8569c2-495c-4c2c-aae3-c2f5becb95ee"
   },
   "outputs": [
    {
     "data": {
      "image/png": "[encoded data removed]",
      "text/plain": [
       "<Figure size 432x288 with 1 Axes>"
      ]
     },
     "metadata": {},
     "output_type": "display_data"
    },
    {
     "name": "stdout",
     "output_type": "stream",
     "text": [
      "Maximum Length of a review: 68\n",
      "Minimum Length of a review: 3\n",
      "Average Length of a reviews: 18.0\n"
     ]
    }
   ],
   "source": [
    "# Calculate the Review of each of the Review\n",
    "dataset['ReviewLength'] = dataset.cleaned.apply(lambda x:len(x.split()))\n",
    "frequency = dict()\n",
    "for i in dataset.ReviewLength:\n",
    "    frequency[i] = frequency.get(i, 0)+1\n",
    "\n",
    "plt.bar(frequency.keys(), frequency.values(), color =\"b\")\n",
    "plt.xlim(1, 135)\n",
    "# in this notbook color is not working but it should work.\n",
    "plt.xlabel('Lenght of the Texts')\n",
    "plt.ylabel('Frequency')\n",
    "plt.title('Length-Frequency Distribution')\n",
    "plt.show()  \n",
    "print(f\"Maximum Length of a review: {max(dataset.ReviewLength)}\")\n",
    "print(f\"Minimum Length of a review: {min(dataset.ReviewLength)}\")\n",
    "print(f\"Average Length of a reviews: {round(np.mean(dataset.ReviewLength),0)}\")"
   ]
  },
  {
   "cell_type": "markdown",
   "metadata": {
    "colab_type": "text",
    "id": "MeIyz5P2rTvt"
   },
   "source": [
    "# Take only happy=>love and anger=>sadness Class for Model Building"
   ]
  },
  {
   "cell_type": "code",
   "execution_count": 88,
   "metadata": {
    "colab": {
     "base_uri": "https://localhost:8080/",
     "height": 72
    },
    "colab_type": "code",
    "executionInfo": {
     "elapsed": 915,
     "status": "ok",
     "timestamp": 1596397523633,
     "user": {
      "displayName": "EFTEKHAR HOSSAIN 1308006",
      "photoUrl": "https://lh3.googleusercontent.com/a-/AOh14GhB_S2SahlIoGyzj581ugCWrrC6Yl1l6BBILkt0=s64",
      "userId": "05840817180100570187"
     },
     "user_tz": -360
    },
    "id": "L5WNJuxFrbdO",
    "outputId": "ccc54e97-490d-4dd2-e558-04ceadc538a2"
   },
   "outputs": [
    {
     "data": {
      "text/plain": [
       "love       6663\n",
       "sadness    4000\n",
       "Name: Tag, dtype: int64"
      ]
     },
     "execution_count": 88,
     "metadata": {},
     "output_type": "execute_result"
    }
   ],
   "source": [
    "dataset.Tag = dataset.Tag.replace({'happy':'love','anger':'sadness'})\n",
    "positive = dataset[dataset.Tag == 'love']\n",
    "negative = dataset[dataset.Tag == 'sadness'][:4000]\n",
    "dataset = positive.append(negative,ignore_index=True)\n",
    "dataset.Tag.value_counts()"
   ]
  },
  {
   "cell_type": "markdown",
   "metadata": {
    "colab_type": "text",
    "id": "bPafojBokoaH"
   },
   "source": [
    "## Label Encoding and Dataset Splitting"
   ]
  },
  {
   "cell_type": "code",
   "execution_count": 89,
   "metadata": {
    "colab": {},
    "colab_type": "code",
    "executionInfo": {
     "elapsed": 899,
     "status": "ok",
     "timestamp": 1596397463182,
     "user": {
      "displayName": "EFTEKHAR HOSSAIN 1308006",
      "photoUrl": "https://lh3.googleusercontent.com/a-/AOh14GhB_S2SahlIoGyzj581ugCWrrC6Yl1l6BBILkt0=s64",
      "userId": "05840817180100570187"
     },
     "user_tz": -360
    },
    "id": "UiuB4eZBktny"
   },
   "outputs": [],
   "source": [
    "\n",
    "\n",
    "def label_encoding(sentiment,bool):\n",
    "\n",
    "    le = LabelEncoder()\n",
    "    le.fit(sentiment)\n",
    "    encoded_labels = le.transform(sentiment)\n",
    "    labels = np.array(encoded_labels) # Converting into numpy array\n",
    "    class_names =le.classes_ ## Define the class names again\n",
    "    if bool == True:\n",
    "        print(\"\\n\\t\\t\\t===== Label Encoding =====\",\"\\nClass Names:-->\",le.classes_)\n",
    "        for i in sample_data:\n",
    "            print(sentiment[i],' ', encoded_labels[i],'\\n')\n",
    "\n",
    "    return labels\n",
    "\n",
    "\n",
    "\n",
    "\n",
    "def dataset_split(feature_space,sentiment):\n",
    "    \"\"\"\n",
    "    This function will return the splitted (80%-20%) feature vector . \n",
    "    \n",
    "    Args:\n",
    "        feature_space: calcuated feature vector (sparse matrix)\n",
    "        sentiment: encoded lables (array) \n",
    "        \n",
    "    Returns:\n",
    "        X_train: training feature vector (sparse matrix)\n",
    "        X_test : testing feature vector (sparse matrix)\n",
    "        y_train: training encoded labels (array) \n",
    "        y_test : testing encoded labels (array) \n",
    "    \"\"\"\n",
    "\n",
    "    X_train,X_test,y_train,y_test = train_test_split(feature_space,sentiment,train_size = 0.9,\n",
    "                                                  test_size = 0.1,random_state =0)\n",
    "    print(\"Feature Size :======>\",X_train.shape[1])\n",
    "    print(\"\\nDataset Distribution:\\n\")\n",
    "    print(\"\\tSet Name\",\"\\t\\tSize\")\n",
    "    print(\"\\t========\\t\\t======\")\n",
    "\n",
    "    print(\"\\tFull\\t\\t\\t\",feature_space.shape[0],\n",
    "        \"\\n\\tTraining\\t\\t\",X_train.shape[0],\n",
    "        \"\\n\\tTest\\t\\t\\t\",X_test.shape[0])\n",
    "  \n",
    "    return X_train,X_test,y_train,y_test\n"
   ]
  },
  {
   "cell_type": "code",
   "execution_count": 90,
   "metadata": {
    "colab": {},
    "colab_type": "code",
    "id": "Gq0wplXVrfm0"
   },
   "outputs": [],
   "source": [
    "dataset.cleaned = dataset.cleaned.apply(lambda x:x.replace('\\n',' '))"
   ]
  },
  {
   "cell_type": "markdown",
   "metadata": {
    "colab_type": "text",
    "id": "0CL612JzczVo"
   },
   "source": [
    "# **Model Building Using Machine Learning**"
   ]
  },
  {
   "cell_type": "markdown",
   "metadata": {
    "colab_type": "text",
    "id": "UnEDFTd0kdzx"
   },
   "source": [
    "## Feature Extraction Using TF-IDF- vectorizer"
   ]
  },
  {
   "cell_type": "code",
   "execution_count": 91,
   "metadata": {
    "colab": {},
    "colab_type": "code",
    "id": "5XTcv1Uyui5Q"
   },
   "outputs": [],
   "source": [
    "\n",
    "            \n",
    "def calc_gram_tfidf(reviews,gram):\n",
    " \n",
    "    tfidf = TfidfVectorizer(ngram_range=gram,use_idf=True,tokenizer=lambda x: x.split()) \n",
    "    X = tfidf.fit_transform(reviews)\n",
    "    \n",
    "    return tfidf,X\n"
   ]
  },
  {
   "cell_type": "code",
   "execution_count": 92,
   "metadata": {
    "colab": {},
    "colab_type": "code",
    "id": "p9MTZ5g7mUj3"
   },
   "outputs": [],
   "source": [
    "from sklearn.linear_model import LogisticRegression\n",
    "from sklearn.tree import DecisionTreeClassifier\n",
    "from sklearn.ensemble import RandomForestClassifier\n",
    "from sklearn.naive_bayes import MultinomialNB\n",
    "from sklearn.neighbors import KNeighborsClassifier\n",
    "from sklearn.svm import SVC\n",
    "from sklearn.linear_model import SGDClassifier\n",
    "from sklearn.metrics import classification_report,accuracy_score,precision_score,recall_score,f1_score\n",
    "from sklearn.metrics import roc_curve, roc_auc_score\n",
    "from sklearn.metrics import average_precision_score,roc_auc_score, roc_curve, precision_recall_curve\n"
   ]
  },
  {
   "cell_type": "code",
   "execution_count": 93,
   "metadata": {
    "colab": {},
    "colab_type": "code",
    "id": "Bv62bKnXmdkr"
   },
   "outputs": [],
   "source": [
    "                                              \n",
    "def ml_models_defination(): \n",
    "\n",
    "    lr_model = LogisticRegression(random_state = 123)\n",
    "    dt_model = DecisionTreeClassifier(criterion = 'entropy', random_state = 0)\n",
    "    rf_model = RandomForestClassifier(n_estimators=100, criterion ='entropy', random_state = 0)\n",
    "    mnb_model = MultinomialNB(alpha=0.15)\n",
    "    knn_model = KNeighborsClassifier(n_neighbors=3, metric = 'minkowski')\n",
    "    lsvm_model = SVC(kernel = 'linear',C = 0.2, probability=True, random_state = 0)\n",
    "    ksvm_model = SVC(C= 1000,kernel = 'rbf',probability=True, gamma = 0.00015, random_state = 0)\n",
    "    model_names = ['Logistic Regression','Decision Tree','Random Forest','Naive Bayes','KNN','Linear SVM','Kernel SVM']\n",
    "    #model_names = ['Logistic Regression']\n",
    "    # Create list of models\n",
    "    ml_models = [lr_model,dt_model,rf_model,mnb_model,knn_model,lsvm_model,ksvm_model]\n",
    "    #ml_models = [lr_model]\n",
    "    return ml_models,model_names \n",
    "\n",
    "\n",
    "                                         \n",
    "\n",
    "def model_performace(model,X_train,X_test,y_train,y_test):\n",
    "\n",
    "    my_dict = {}\n",
    "    model.fit(X_train,y_train)\n",
    "    # Prediction\n",
    "    pred_y = model.predict(X_test)\n",
    "    my_dict['Accuracy'] = round(accuracy_score(y_test, pred_y),4)*100 \n",
    "    my_dict['Precision'] = round(precision_score(y_test, pred_y),4)*100 \n",
    "    my_dict['Recall'] = round(recall_score(y_test, pred_y),4)*100 \n",
    "    my_dict['F1 Score'] = round(f1_score(y_test, pred_y),4)*100 \n",
    "    \n",
    "    return my_dict  \n",
    "\n",
    "                                       \n",
    "def performance_table(performance_dict):\n",
    "\n",
    "    acc_list = []\n",
    "    pr_list = []\n",
    "    re_list = []\n",
    "    f1_list = []\n",
    "    for i in performance_dict.keys():\n",
    "        acc_list.append(performance_dict[i]['Accuracy'])\n",
    "        pr_list.append(performance_dict[i]['Precision'])\n",
    "        re_list.append(performance_dict[i]['Recall'])\n",
    "        f1_list.append(performance_dict[i]['F1 Score'])\n",
    "\n",
    "    # Create a dataframe\n",
    "    model_names = ['LR','DT','RF','MNB','KNN','Linear SVM','RBF SVM']\n",
    "    performance_df = pd.DataFrame({'Accuracy':acc_list,'Precision':pr_list,\n",
    "                                   'Recall':re_list,'F1 Score':f1_list,\n",
    "                                   'Model Name':model_names })\n",
    "    return performance_df    "
   ]
  },
  {
   "cell_type": "markdown",
   "metadata": {
    "colab_type": "text",
    "id": "Fprji1HsbcmG"
   },
   "source": [
    "## Model Training"
   ]
  },
  {
   "cell_type": "code",
   "execution_count": 94,
   "metadata": {
    "colab": {},
    "colab_type": "code",
    "id": "x1niAeoCvGE9"
   },
   "outputs": [
    {
     "name": "stdout",
     "output_type": "stream",
     "text": [
      "Feature Size :======> 13670\n",
      "\n",
      "Dataset Distribution:\n",
      "\n",
      "\tSet Name \t\tSize\n",
      "\t========\t\t======\n",
      "\tFull\t\t\t 10663 \n",
      "\tTraining\t\t 9596 \n",
      "\tTest\t\t\t 1067\n",
      "Feature Size :======> 93065\n",
      "\n",
      "Dataset Distribution:\n",
      "\n",
      "\tSet Name \t\tSize\n",
      "\t========\t\t======\n",
      "\tFull\t\t\t 10663 \n",
      "\tTraining\t\t 9596 \n",
      "\tTest\t\t\t 1067\n",
      "Feature Size :======> 224184\n",
      "\n",
      "Dataset Distribution:\n",
      "\n",
      "\tSet Name \t\tSize\n",
      "\t========\t\t======\n",
      "\tFull\t\t\t 10663 \n",
      "\tTraining\t\t 9596 \n",
      "\tTest\t\t\t 1067\n"
     ]
    }
   ],
   "source": [
    "## save the performance of the model for each gram feature \n",
    "gram_names = ['Unigram','Bigram','Trigram']\n",
    "ngrams = [(1,1),(1,2),(1,3)]\n",
    "for i,gram in enumerate(ngrams):\n",
    "    tfidf,feature = calc_gram_tfidf(dataset.cleaned,gram)\n",
    "    labels = label_encoding(dataset.Tag,False)\n",
    "    \n",
    "    X_train,X_test,y_train,y_test = dataset_split(feature,labels) \n",
    "    ml_models,model_names = ml_models_defination()\n",
    "    \n",
    "    \n",
    "    # call model accuracy function and save the metrices into a dictionary\n",
    "    accuracy = {f'{model_names[j]}':model_performace(model,X_train,X_test,y_train,y_test) for j,model in enumerate(ml_models)}\n",
    "    \n",
    "    \n",
    "    #Save the performance parameter into json file\n",
    "    with open(path+f'ml_performance_{gram_names[i]}.json', 'w') as f:\n",
    "          json.dump(accuracy, f)"
   ]
  },
  {
   "cell_type": "markdown",
   "metadata": {
    "colab_type": "text",
    "id": "adgILEqHbWwu"
   },
   "source": [
    "## Performance Table"
   ]
  },
  {
   "cell_type": "code",
   "execution_count": 95,
   "metadata": {
    "colab": {
     "base_uri": "https://localhost:8080/",
     "height": 945
    },
    "colab_type": "code",
    "executionInfo": {
     "elapsed": 831,
     "status": "ok",
     "timestamp": 1596224704720,
     "user": {
      "displayName": "EFTEKHAR HOSSAIN 1308006",
      "photoUrl": "https://lh3.googleusercontent.com/a-/AOh14GhB_S2SahlIoGyzj581ugCWrrC6Yl1l6BBILkt0=s64",
      "userId": "05840817180100570187"
     },
     "user_tz": -360
    },
    "id": "EgXI9CKywYGi",
    "outputId": "5e899f18-3dbe-45f8-a76b-9c76644449df"
   },
   "outputs": [
    {
     "name": "stdout",
     "output_type": "stream",
     "text": [
      "\n",
      "========== Performace Table for Unigram feature:========\n",
      "    Accuracy  Precision  Recall  F1 Score  Model Name\n",
      "0     84.54      89.78   68.72     77.85          LR\n",
      "1     77.23      72.89   67.54     70.11          DT\n",
      "2     82.76      92.20   61.61     73.86          RF\n",
      "3     85.29      87.54   73.22     79.74         MNB\n",
      "4     75.91      69.88   68.72     69.30         KNN\n",
      "5     80.04      91.97   54.27     68.26  Linear SVM\n",
      "6     83.60      90.23   65.64     75.99     RBF SVM\n",
      "\n",
      "========In case of Unigram feature:========\n",
      "\n",
      "Highest Accuracy achieved by MNB at = 85.28999999999999\n",
      "Highest F1-Score achieved by MNB at = 79.74\n",
      "Highest Precision Score achieved by RF at = 92.2\n",
      "Highest Recall Score achieved by MNB at = 73.22\n",
      "\n",
      "========== Performace Table for Bigram feature:========\n",
      "    Accuracy  Precision  Recall  F1 Score  Model Name\n",
      "0     80.69      92.19   55.92     69.62          LR\n",
      "1     76.19      71.65   65.88     68.64          DT\n",
      "2     79.66      92.89   52.61     67.17          RF\n",
      "3     87.82      88.42   79.62     83.79         MNB\n",
      "4     75.82      69.52   69.19     69.36         KNN\n",
      "5     71.13      91.30   29.86     45.00  Linear SVM\n",
      "6     76.57      91.35   45.02     60.32     RBF SVM\n",
      "\n",
      "========In case of Bigram feature:========\n",
      "\n",
      "Highest Accuracy achieved by MNB at = 87.82\n",
      "Highest F1-Score achieved by MNB at = 83.78999999999999\n",
      "Highest Precision Score achieved by RF at = 92.89\n",
      "Highest Recall Score achieved by MNB at = 79.62\n",
      "\n",
      "========== Performace Table for Trigram feature:========\n",
      "    Accuracy  Precision  Recall  F1 Score  Model Name\n",
      "0     77.04      92.75   45.50     61.05          LR\n",
      "1     76.38      70.63   68.96     69.78          DT\n",
      "2     77.98      93.09   47.87     63.22          RF\n",
      "3     86.32      83.99   80.81     82.37         MNB\n",
      "4     75.16      68.47   68.96     68.71         KNN\n",
      "5     66.73      95.89   16.59     28.28  Linear SVM\n",
      "6     72.16      94.33   31.52     47.25     RBF SVM\n",
      "\n",
      "========In case of Trigram feature:========\n",
      "\n",
      "Highest Accuracy achieved by MNB at = 86.32\n",
      "Highest F1-Score achieved by MNB at = 82.37\n",
      "Highest Precision Score achieved by Linear SVM at = 95.89\n",
      "Highest Recall Score achieved by MNB at = 80.81\n"
     ]
    }
   ],
   "source": [
    "# Load all the json files\n",
    "gram_names = ['Unigram','Bigram','Trigram']\n",
    "\n",
    "for gram in gram_names:\n",
    "  accuracy = json.load(open(path+f'ml_performance_{gram}.json'))\n",
    "  table = performance_table(accuracy)\n",
    "  print(f\"\\n========== Performace Table for {gram} feature:========\\n\",table)\n",
    "  print(f\"\\n========In case of {gram} feature:========\\n\")\n",
    "  print(f\"Highest Accuracy achieved by {table['Model Name'][table.Accuracy.idxmax(axis = 0)]} at = {max(table.Accuracy)}\")\n",
    "  print(f\"Highest F1-Score achieved by {table['Model Name'][table['F1 Score'].idxmax(axis = 0)]} at = {max(table['F1 Score'] )}\")\n",
    "  print(f\"Highest Precision Score achieved by {table['Model Name'][table['Precision'].idxmax(axis = 0)]} at = {max(table['Precision'] )}\")\n",
    "  print(f\"Highest Recall Score achieved by {table['Model Name'][table['Recall'].idxmax(axis = 0)]} at = {max(table['Recall'] )}\")\n",
    "  "
   ]
  },
  {
   "cell_type": "markdown",
   "metadata": {
    "colab_type": "text",
    "id": "ikQHi7EdqfuN"
   },
   "source": [
    "**Conclusion:**\n",
    "\n",
    "---\n",
    "\n",
    "\n",
    "\n",
    "***From this performance table it can be said that the Trigarm feature combination with Multinomial Naive Bayes classifier provides highest accuray and F1-score value.***"
   ]
  },
  {
   "cell_type": "markdown",
   "metadata": {
    "colab_type": "text",
    "id": "6Y7pmQhdaED5"
   },
   "source": [
    "## Performance Visualization"
   ]
  },
  {
   "cell_type": "code",
   "execution_count": 96,
   "metadata": {
    "colab": {
     "base_uri": "https://localhost:8080/",
     "height": 1000
    },
    "colab_type": "code",
    "executionInfo": {
     "elapsed": 2030,
     "status": "ok",
     "timestamp": 1596224937939,
     "user": {
      "displayName": "EFTEKHAR HOSSAIN 1308006",
      "photoUrl": "https://lh3.googleusercontent.com/a-/AOh14GhB_S2SahlIoGyzj581ugCWrrC6Yl1l6BBILkt0=s64",
      "userId": "05840817180100570187"
     },
     "user_tz": -360
    },
    "id": "iu3tiCZY0IPq",
    "outputId": "50e4b467-36dc-48a6-edab-91b4a2d276cf"
   },
   "outputs": [
    {
     "data": {
      "image/png": "[encoded data removed]",
      "text/plain": [
       "<Figure size 576x432 with 1 Axes>"
      ]
     },
     "metadata": {},
     "output_type": "display_data"
    },
    {
     "data": {
      "image/png": "[encoded data removed]",
      "text/plain": [
       "<Figure size 576x432 with 1 Axes>"
      ]
     },
     "metadata": {},
     "output_type": "display_data"
    },
    {
     "data": {
      "image/png": "[encoded data removed]",
      "text/plain": [
       "<Figure size 576x432 with 1 Axes>"
      ]
     },
     "metadata": {},
     "output_type": "display_data"
    }
   ],
   "source": [
    "gram_names = ['Unigram','Bigram','Trigram']\n",
    "\n",
    "for gram in gram_names:\n",
    "  accuracy = json.load(open(path+f'ml_performance_{gram}.json'))\n",
    "  table = performance_table(accuracy)\n",
    "  df = pd.melt(table[['Accuracy','F1 Score','Model Name']], id_vars=\"Model Name\", var_name=\"Category\", value_name=\"Values\")\n",
    "  plt.figure(figsize=(8,6))\n",
    "  ax = plt.subplot()\n",
    "  sns.barplot(data=df,x='Model Name', y='Values' ,hue='Category')\n",
    "  ax.set_xlabel('Model Name') \n",
    "  ax.set_title(f'Comparison of Accuracy and F1-Score Value for {gram} Feature')\n",
    "  ax.set_ylim([10,80])\n",
    "  ax.xaxis.set_ticklabels(table['Model Name'], rotation=45);"
   ]
  },
  {
   "cell_type": "code",
   "execution_count": null,
   "metadata": {},
   "outputs": [],
   "source": []
  },
  {
   "cell_type": "code",
   "execution_count": null,
   "metadata": {},
   "outputs": [],
   "source": []
  },
  {
   "cell_type": "code",
   "execution_count": null,
   "metadata": {},
   "outputs": [],
   "source": []
  },
  {
   "cell_type": "code",
   "execution_count": null,
   "metadata": {},
   "outputs": [],
   "source": []
  }
 ],
 "metadata": {
  "accelerator": "GPU",
  "colab": {
   "authorship_tag": "ABX9TyNtJMtq6WmVRP0LrcJk4KeU",
   "collapsed_sections": [],
   "name": "news_comment_sentiment_analysis.ipynb",
   "provenance": []
  },
  "kernelspec": {
   "display_name": "Python 3",
   "language": "python",
   "name": "python3"
  },
  "language_info": {
   "codemirror_mode": {
    "name": "ipython",
    "version": 3
   },
   "file_extension": ".py",
   "mimetype": "text/x-python",
   "name": "python",
   "nbconvert_exporter": "python",
   "pygments_lexer": "ipython3",
   "version": "3.8.8"
  }
 },
 "nbformat": 4,
 "nbformat_minor": 1
}
